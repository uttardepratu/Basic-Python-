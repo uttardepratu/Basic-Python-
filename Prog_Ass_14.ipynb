{
  "nbformat": 4,
  "nbformat_minor": 0,
  "metadata": {
    "colab": {
      "provenance": [],
      "authorship_tag": "ABX9TyMXRieFxmGdrNqwv6eslSwu",
      "include_colab_link": true
    },
    "kernelspec": {
      "name": "python3",
      "display_name": "Python 3"
    },
    "language_info": {
      "name": "python"
    }
  },
  "cells": [
    {
      "cell_type": "markdown",
      "metadata": {
        "id": "view-in-github",
        "colab_type": "text"
      },
      "source": [
        "<a href=\"https://colab.research.google.com/github/uttardepratu/Basic-Python-/blob/main/Prog_Ass_14.ipynb\" target=\"_parent\"><img src=\"https://colab.research.google.com/assets/colab-badge.svg\" alt=\"Open In Colab\"/></a>"
      ]
    },
    {
      "cell_type": "markdown",
      "source": [
        "Question 1:\n",
        "\n",
        "Define a class with a generator which can iterate the numbers, which are divisible by 7, between a given range 0 and n.\n"
      ],
      "metadata": {
        "id": "cAcdQ9n-hd1e"
      }
    },
    {
      "cell_type": "code",
      "execution_count": null,
      "metadata": {
        "colab": {
          "base_uri": "https://localhost:8080/"
        },
        "id": "yUa9exr6hOb8",
        "outputId": "d7aea190-3f69-4777-8974-534f767baff9"
      },
      "outputs": [
        {
          "output_type": "stream",
          "name": "stdout",
          "text": [
            "24\n",
            "[0, 7, 14, 21]\n",
            "0 True\n",
            "1 False\n",
            "2 False\n",
            "3 False\n",
            "4 False\n",
            "5 False\n",
            "6 False\n",
            "7 True\n",
            "8 False\n",
            "9 False\n",
            "10 False\n",
            "11 False\n",
            "12 False\n",
            "13 False\n",
            "14 True\n",
            "15 False\n",
            "16 False\n",
            "17 False\n",
            "18 False\n",
            "19 False\n",
            "20 False\n",
            "21 True\n",
            "22 False\n",
            "23 False\n"
          ]
        }
      ],
      "source": [
        "n = int(input())\n",
        "divBy7 = [i for i in range(0, n) if (i % 7 == 0)]\n",
        "print(divBy7)\n",
        "\n",
        "def divChecker(n):\n",
        "    for i in range(n):\n",
        "        if i % 7 == 0:\n",
        "            value = True\n",
        "        else:\n",
        "            value = False\n",
        "        print(i, value)\n",
        "\n",
        "divChecker(n)"
      ]
    },
    {
      "cell_type": "markdown",
      "source": [
        "Question 2:\n",
        "Write a program to compute the frequency of the words from the input. The output should output after sorting the key alphanumerically.\n",
        "\n",
        "Suppose the following input is supplied to the program:\n",
        "\n",
        "New to Python or choosing between Python 2 and Python 3? Read Python 2 or Python 3.\n",
        "\n",
        "Then, the output should be:\n",
        "\n",
        "2:2\n",
        "\n",
        "3.:1\n",
        "\n",
        "3?:1\n",
        "\n",
        "New:1\n",
        "\n",
        "Python:5\n",
        "\n",
        "Read:1\n",
        "\n",
        "and:1\n",
        "\n",
        "between:1\n",
        "\n",
        "choosing:1\n",
        "\n",
        "or:2\n",
        "\n",
        "to:1\n"
      ],
      "metadata": {
        "id": "FX6VhMtgsxDx"
      }
    },
    {
      "cell_type": "code",
      "source": [
        "import operator\n",
        "\n",
        "text_line = input(\"Type in: \")\n",
        "\n",
        "freq_dict = {}\n",
        "\n",
        "for i in text_line.split(' '):\n",
        "    if i.isalpha():\n",
        "        if i not in freq_dict:\n",
        "            freq_dict[i] = 1\n",
        "        elif i in freq_dict:\n",
        "            freq_dict[i] = freq_dict[i] + 1\n",
        "    else:\n",
        "        pass\n",
        "\n",
        "sorted_freq_dict = sorted(freq_dict.items(), key = operator.itemgetter(0))\n",
        "print(sorted_freq_dict)\n",
        "\n",
        "for i in sorted_freq_dict:\n",
        "    print(i[0], i[1])"
      ],
      "metadata": {
        "colab": {
          "base_uri": "https://localhost:8080/"
        },
        "id": "ohyBy63hs8iy",
        "outputId": "8ba40c91-da1b-4b9a-b0a8-596cc9392743"
      },
      "execution_count": null,
      "outputs": [
        {
          "output_type": "stream",
          "name": "stdout",
          "text": [
            "Type in: New to Python or choosing between Python 2 and Python 3? Read Python 2 or Python 3.\n",
            "[('New', 1), ('Python', 5), ('Read', 1), ('and', 1), ('between', 1), ('choosing', 1), ('or', 2), ('to', 1)]\n",
            "New 1\n",
            "Python 5\n",
            "Read 1\n",
            "and 1\n",
            "between 1\n",
            "choosing 1\n",
            "or 2\n",
            "to 1\n"
          ]
        }
      ]
    },
    {
      "cell_type": "markdown",
      "source": [
        "Question 3:\n",
        "\n",
        "Define a class Person and its two child classes: Male and Female. All classes have a method \"getGender\" which can print \"Male\" for Male class and \"Female\" for Female class.\n"
      ],
      "metadata": {
        "id": "PjVzFfLut1P8"
      }
    },
    {
      "cell_type": "code",
      "source": [
        "class Person:\n",
        "  def getGender(self):\n",
        "    pass\n",
        "\n",
        "class Male(Person):\n",
        "  def getGender(self):\n",
        "    print(\"Male\")\n",
        "\n",
        "class Female(Person):\n",
        "  def getGender(self):\n",
        "    print(\"Female\")"
      ],
      "metadata": {
        "id": "_PlPdqBjtGnL"
      },
      "execution_count": null,
      "outputs": []
    },
    {
      "cell_type": "code",
      "source": [
        "person = Person()\n",
        "person.getGender()  # This will not print anything because the method is not implemented in the base class.\n",
        "\n",
        "male = Male()\n",
        "male.getGender()  # This will print \"Male\" because the `getGender` method is implemented in the `Male` class.\n",
        "\n",
        "female = Female()\n",
        "female.getGender()  # This will print \"Female\" because the `getGender` method is implemented in the `Female` class.\n"
      ],
      "metadata": {
        "colab": {
          "base_uri": "https://localhost:8080/"
        },
        "id": "2Riri3C__XfE",
        "outputId": "bfcc6284-d3ba-4f1a-ff33-436c9599da28"
      },
      "execution_count": null,
      "outputs": [
        {
          "output_type": "stream",
          "name": "stdout",
          "text": [
            "Male\n",
            "Female\n"
          ]
        }
      ]
    },
    {
      "cell_type": "markdown",
      "source": [
        "Question 4:\n",
        "\n",
        "Please write a program to generate all sentences where subject is in [\"I\", \"You\"] and verb is in [\"Play\", \"Love\"] and the object is in [\"Hockey\",\"Football\"].\n"
      ],
      "metadata": {
        "id": "0HDDfycAt-MG"
      }
    },
    {
      "cell_type": "code",
      "source": [
        "subjects = [\"I\", \"You\"]\n",
        "verbs = [\"Play\", \"Love\"]\n",
        "objects = [\"Hockey\", \"Football\"]\n",
        "\n",
        "sentences = []\n",
        "\n",
        "for subject in subjects:\n",
        "    for verb in verbs:\n",
        "        for obj in objects:\n",
        "            sentence = subject + \" \" + verb + \" \" + obj\n",
        "            sentences.append(sentence)\n",
        "\n",
        "# Print all the generated sentences\n",
        "for sentence in sentences:\n",
        "  print(sentence)\n"
      ],
      "metadata": {
        "colab": {
          "base_uri": "https://localhost:8080/"
        },
        "id": "BISRNG2hAPhJ",
        "outputId": "d9d6a057-56b7-40f9-a8ee-8be438f126fc"
      },
      "execution_count": null,
      "outputs": [
        {
          "output_type": "stream",
          "name": "stdout",
          "text": [
            "I Play Hockey\n",
            "I Play Football\n",
            "I Love Hockey\n",
            "I Love Football\n",
            "You Play Hockey\n",
            "You Play Football\n",
            "You Love Hockey\n",
            "You Love Football\n"
          ]
        }
      ]
    },
    {
      "cell_type": "markdown",
      "source": [
        "Question 5:\n",
        "\n",
        "Please write a program to compress and decompress the string \"hello world!hello world!hello world!hello world!\".\n"
      ],
      "metadata": {
        "id": "A3WrssSpuL9A"
      }
    },
    {
      "cell_type": "code",
      "source": [
        "def compress(string):\n",
        "    compressed = \"\"\n",
        "    count = 1\n",
        "    prev_char = string[0]\n",
        "\n",
        "    for char in string[1:]:\n",
        "        if char == prev_char:\n",
        "            count += 1\n",
        "        else:\n",
        "            compressed += str(count) + prev_char\n",
        "            count = 1\n",
        "            prev_char = char\n",
        "\n",
        "    # Add the last character(s) to the compressed string\n",
        "    compressed += str(count) + prev_char\n",
        "\n",
        "    return compressed\n",
        "\n",
        "\n",
        "def decompress(compressed_string):\n",
        "    decompressed = \"\"\n",
        "    i = 0\n",
        "\n",
        "    while i < len(compressed_string):\n",
        "        count = int(compressed_string[i])\n",
        "        char = compressed_string[i + 1]\n",
        "        decompressed += char * count\n",
        "        i += 2\n",
        "\n",
        "    return decompressed\n",
        "\n",
        "\n",
        "if __name__ == \"__main__\":\n",
        "    original_string = \"hello world!hello world!hello world!hello world!\"\n",
        "    print(\"Original string:\", original_string)\n",
        "\n",
        "    compressed_string = compress(original_string)\n",
        "    print(\"Compressed string:\", compressed_string)\n",
        "\n",
        "    decompressed_string = decompress(compressed_string)\n",
        "    print(\"Decompressed string:\", decompressed_string)\n"
      ],
      "metadata": {
        "id": "3GTSonhduNwe",
        "colab": {
          "base_uri": "https://localhost:8080/"
        },
        "outputId": "4666506a-acc1-4a51-9473-035e024560c8"
      },
      "execution_count": null,
      "outputs": [
        {
          "output_type": "stream",
          "name": "stdout",
          "text": [
            "Original string: hello world!hello world!hello world!hello world!\n",
            "Compressed string: 1h1e2l1o1 1w1o1r1l1d1!1h1e2l1o1 1w1o1r1l1d1!1h1e2l1o1 1w1o1r1l1d1!1h1e2l1o1 1w1o1r1l1d1!\n",
            "Decompressed string: hello world!hello world!hello world!hello world!\n"
          ]
        }
      ]
    },
    {
      "cell_type": "markdown",
      "source": [
        "Question 6:\n",
        "\n",
        "Please write a binary search function which searches an item in a sorted list. The function should return the index of element to be searched in the list\n"
      ],
      "metadata": {
        "id": "CEhaA9LQucGm"
      }
    },
    {
      "cell_type": "code",
      "source": [
        "from bisect import bisect_left\n",
        "\n",
        "def BinarySearch(a, x):\n",
        "    i = bisect_left(a, x)\n",
        "    if i != len(a) and a[i] == x:\n",
        "        return i\n",
        "    else:\n",
        "        return -1\n",
        "\n",
        "a  = [1, 2, 4, 4, 8]\n",
        "x = int(8)\n",
        "res = BinarySearch(a, x)\n",
        "if res == -1:\n",
        "    print(x, \"is absent\")\n",
        "else:\n",
        "    print(\"First occurrence of\", x, \"is present at\", res)"
      ],
      "metadata": {
        "colab": {
          "base_uri": "https://localhost:8080/"
        },
        "id": "i8dZ-PwqC1v3",
        "outputId": "b7c4fd0e-093d-4c98-c34f-d7ec3e6aaeaf"
      },
      "execution_count": null,
      "outputs": [
        {
          "output_type": "stream",
          "name": "stdout",
          "text": [
            "First occurrence of 8 is present at 4\n"
          ]
        }
      ]
    },
    {
      "cell_type": "code",
      "source": [],
      "metadata": {
        "id": "BoNuWOHJC2jR"
      },
      "execution_count": null,
      "outputs": []
    }
  ]
}
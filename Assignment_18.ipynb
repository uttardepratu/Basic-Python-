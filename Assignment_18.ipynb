{
  "nbformat": 4,
  "nbformat_minor": 0,
  "metadata": {
    "colab": {
      "provenance": [],
      "authorship_tag": "ABX9TyN3lecoAlF2VhIqpgOCPOF2",
      "include_colab_link": true
    },
    "kernelspec": {
      "name": "python3",
      "display_name": "Python 3"
    },
    "language_info": {
      "name": "python"
    }
  },
  "cells": [
    {
      "cell_type": "markdown",
      "metadata": {
        "id": "view-in-github",
        "colab_type": "text"
      },
      "source": [
        "<a href=\"https://colab.research.google.com/github/uttardepratu/Basic-Python-/blob/main/Assignment_18.ipynb\" target=\"_parent\"><img src=\"https://colab.research.google.com/assets/colab-badge.svg\" alt=\"Open In Colab\"/></a>"
      ]
    },
    {
      "cell_type": "markdown",
      "source": [
        "1. Create a zoo.py file first. Define the hours() function, which prints the string 'Open 9-5 daily'. Then, use the interactive interpreter to import the zoo module and call its hours() function."
      ],
      "metadata": {
        "id": "VvhhZ92JUttD"
      }
    },
    {
      "cell_type": "code",
      "execution_count": null,
      "metadata": {
        "colab": {
          "base_uri": "https://localhost:8080/"
        },
        "id": "kMyTNt_KUsyq",
        "outputId": "fdb071ec-7ebc-432d-ad94-c2f567ad7437"
      },
      "outputs": [
        {
          "output_type": "stream",
          "name": "stdout",
          "text": [
            "Open 9-5 daily\n"
          ]
        }
      ],
      "source": [
        "import zoo\n",
        "from importlib import reload\n",
        "reload(zoo)\n",
        "\n",
        "zoo.hours()"
      ]
    },
    {
      "cell_type": "markdown",
      "source": [
        "2. In the interactive interpreter, import the zoo module as menagerie and call its hours() function."
      ],
      "metadata": {
        "id": "pIaJ87GuVakX"
      }
    },
    {
      "cell_type": "code",
      "source": [
        "import zoo as menagerie\n",
        "from importlib import reload\n",
        "reload(menagerie)\n",
        "\n",
        "zoo.hours()"
      ],
      "metadata": {
        "colab": {
          "base_uri": "https://localhost:8080/"
        },
        "id": "ZY6EbJcRVbX4",
        "outputId": "6bb0587e-0d10-4ca4-9a1d-7b7700d5e6ec"
      },
      "execution_count": null,
      "outputs": [
        {
          "output_type": "stream",
          "name": "stdout",
          "text": [
            "Open 9-5 daily\n"
          ]
        }
      ]
    },
    {
      "cell_type": "markdown",
      "source": [
        "3. Using the interpreter, explicitly import and call the hours() function from zoo."
      ],
      "metadata": {
        "id": "SzLnKE98WAnQ"
      }
    },
    {
      "cell_type": "code",
      "source": [
        "from zoo import hours\n",
        "hours()"
      ],
      "metadata": {
        "colab": {
          "base_uri": "https://localhost:8080/"
        },
        "id": "8an68AHWWLHb",
        "outputId": "ab2d4021-ec30-4693-e64b-350c05cb0d7f"
      },
      "execution_count": null,
      "outputs": [
        {
          "output_type": "stream",
          "name": "stdout",
          "text": [
            "Open 9-5 daily\n"
          ]
        }
      ]
    },
    {
      "cell_type": "markdown",
      "source": [
        "4. Import the hours() function as info and call it."
      ],
      "metadata": {
        "id": "expywJiUWYGr"
      }
    },
    {
      "cell_type": "code",
      "source": [
        "from zoo import hours as info\n",
        "info()"
      ],
      "metadata": {
        "colab": {
          "base_uri": "https://localhost:8080/"
        },
        "id": "eo2GMeTXWMX0",
        "outputId": "bd9f9b5c-4389-43e5-a88f-fc2d501da6f3"
      },
      "execution_count": null,
      "outputs": [
        {
          "output_type": "stream",
          "name": "stdout",
          "text": [
            "Open 9-5 daily\n"
          ]
        }
      ]
    },
    {
      "cell_type": "markdown",
      "source": [
        "5 Q. Create a plain dictionary with the key-value pairs 'a': 1, 'b': 2, 'c': 3, and print it out."
      ],
      "metadata": {
        "id": "rwf7efj2WjtW"
      }
    },
    {
      "cell_type": "code",
      "source": [
        "plain = {'a': 1, 'b': 2, 'c': 3}\n",
        "plain"
      ],
      "metadata": {
        "id": "iX3kpEiQWfIy",
        "colab": {
          "base_uri": "https://localhost:8080/"
        },
        "outputId": "4467dee0-7216-4b2c-e496-a8a71b3526f3"
      },
      "execution_count": null,
      "outputs": [
        {
          "output_type": "execute_result",
          "data": {
            "text/plain": [
              "{'a': 1, 'b': 2, 'c': 3}"
            ]
          },
          "metadata": {},
          "execution_count": 1
        }
      ]
    },
    {
      "cell_type": "markdown",
      "source": [
        "6 Q. Make an OrderedDict called fancy from the same pairs listed in 5 and print it. Did it print in the same order as plain?"
      ],
      "metadata": {
        "id": "irdZ0q4WJkpd"
      }
    },
    {
      "cell_type": "code",
      "source": [
        "#Yes\n",
        "from collections import OrderedDict\n",
        "fancy = OrderedDict([('a', 1), ('b', 2), ('c', 3)])\n",
        "fancy"
      ],
      "metadata": {
        "colab": {
          "base_uri": "https://localhost:8080/"
        },
        "id": "aR92Ck-GJcrl",
        "outputId": "1a5082f9-7129-4aee-8dda-d5ad6962209d"
      },
      "execution_count": null,
      "outputs": [
        {
          "output_type": "execute_result",
          "data": {
            "text/plain": [
              "OrderedDict([('a', 1), ('b', 2), ('c', 3)])"
            ]
          },
          "metadata": {},
          "execution_count": 2
        }
      ]
    },
    {
      "cell_type": "markdown",
      "source": [
        "7 Q. Make a defaultdict called dict_of_lists and pass it the argument list. Make the list dict_of_lists['a'] and append the value 'something for a' to it in one assignment. Print dict_of_lists['a']"
      ],
      "metadata": {
        "id": "tJv3OYzIJxxJ"
      }
    },
    {
      "cell_type": "code",
      "source": [
        "from collections import defaultdict\n",
        "dict_of_lists = defaultdict(list)\n",
        "dict_of_lists['a'].append('something for a')\n",
        "dict_of_lists['a']"
      ],
      "metadata": {
        "colab": {
          "base_uri": "https://localhost:8080/"
        },
        "id": "dvQHAbEgJqzQ",
        "outputId": "2d0ff506-cd99-484d-9cb8-19ca60066d3c"
      },
      "execution_count": null,
      "outputs": [
        {
          "output_type": "execute_result",
          "data": {
            "text/plain": [
              "['something for a']"
            ]
          },
          "metadata": {},
          "execution_count": 3
        }
      ]
    },
    {
      "cell_type": "code",
      "source": [],
      "metadata": {
        "id": "gbG_aW4pJ4vn"
      },
      "execution_count": null,
      "outputs": []
    }
  ]
}
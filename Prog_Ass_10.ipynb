{
  "nbformat": 4,
  "nbformat_minor": 0,
  "metadata": {
    "colab": {
      "provenance": [],
      "authorship_tag": "ABX9TyMl/fz0+Z9vLa12WJFPWDI6",
      "include_colab_link": true
    },
    "kernelspec": {
      "name": "python3",
      "display_name": "Python 3"
    },
    "language_info": {
      "name": "python"
    }
  },
  "cells": [
    {
      "cell_type": "markdown",
      "metadata": {
        "id": "view-in-github",
        "colab_type": "text"
      },
      "source": [
        "<a href=\"https://colab.research.google.com/github/uttardepratu/Basic-Python-/blob/main/Prog_Ass_10.ipynb\" target=\"_parent\"><img src=\"https://colab.research.google.com/assets/colab-badge.svg\" alt=\"Open In Colab\"/></a>"
      ]
    },
    {
      "cell_type": "markdown",
      "source": [
        "1.\tWrite a Python program to find sum of elements in list?"
      ],
      "metadata": {
        "id": "-wCx4qyUYuk6"
      }
    },
    {
      "cell_type": "code",
      "execution_count": null,
      "metadata": {
        "colab": {
          "base_uri": "https://localhost:8080/"
        },
        "id": "Xg7NHnP8V32P",
        "outputId": "0d1c4c8f-4dd4-4147-9aa7-32da8b0a119f"
      },
      "outputs": [
        {
          "output_type": "stream",
          "name": "stdout",
          "text": [
            "Sum of all elements in given list:  20\n"
          ]
        }
      ],
      "source": [
        "lst=[2,3,4,5,6]\n",
        "Sum=0\n",
        "for i in range(0,len(lst)):\n",
        "  Sum = Sum+lst[i]\n",
        "print(\"Sum of all elements in given list: \", Sum)\n"
      ]
    },
    {
      "cell_type": "markdown",
      "source": [
        "2.\tWrite a Python program to  Multiply all numbers in the list?"
      ],
      "metadata": {
        "id": "-AvW0CiEdIKP"
      }
    },
    {
      "cell_type": "code",
      "source": [
        "lst=[2,3,4,5,6]\n",
        "mul=1\n",
        "for i in range(0,len(lst)):\n",
        "  mul = mul*lst[i]\n",
        "print(\"Multiplication of all elements in given list: \", mul)"
      ],
      "metadata": {
        "colab": {
          "base_uri": "https://localhost:8080/"
        },
        "id": "g7w6yqiycCTU",
        "outputId": "be8a6a65-716d-442b-8a66-1e3eb3c518f8"
      },
      "execution_count": null,
      "outputs": [
        {
          "output_type": "stream",
          "name": "stdout",
          "text": [
            "Multiplication of all elements in given list:  720\n"
          ]
        }
      ]
    },
    {
      "cell_type": "markdown",
      "source": [
        "3.\tWrite a Python program to find smallest number in a list?\n",
        "\n"
      ],
      "metadata": {
        "id": "hRl-8dKRdoCC"
      }
    },
    {
      "cell_type": "code",
      "source": [
        "min(lst)"
      ],
      "metadata": {
        "colab": {
          "base_uri": "https://localhost:8080/"
        },
        "id": "-ldI9DoCeT6u",
        "outputId": "46b7d44c-0b1e-4723-ac8d-62cd9faa07da"
      },
      "execution_count": null,
      "outputs": [
        {
          "output_type": "execute_result",
          "data": {
            "text/plain": [
              "2"
            ]
          },
          "metadata": {},
          "execution_count": 11
        }
      ]
    },
    {
      "cell_type": "code",
      "source": [
        "lst=[2,3,4,5,6]\n",
        "\n",
        "print(\"Smallest no of all elements in given list: \", min(lst))"
      ],
      "metadata": {
        "colab": {
          "base_uri": "https://localhost:8080/"
        },
        "id": "NIz4JgWjdo2G",
        "outputId": "86122b43-1690-4faf-b298-36af8abe6930"
      },
      "execution_count": null,
      "outputs": [
        {
          "output_type": "stream",
          "name": "stdout",
          "text": [
            "Smallest no of all elements in given list:  2\n"
          ]
        }
      ]
    },
    {
      "cell_type": "markdown",
      "source": [
        "4.\tWrite a Python program to find largest number in a list?"
      ],
      "metadata": {
        "id": "QU9MCUifffLt"
      }
    },
    {
      "cell_type": "code",
      "source": [
        "lst=[2,3,4,5,6]\n",
        "\n",
        "print(\"largest no of all elements in given list: \", max(lst))"
      ],
      "metadata": {
        "colab": {
          "base_uri": "https://localhost:8080/"
        },
        "id": "nR1vbzwnff0t",
        "outputId": "02554797-b086-4b9c-9091-e935e16d80c3"
      },
      "execution_count": null,
      "outputs": [
        {
          "output_type": "stream",
          "name": "stdout",
          "text": [
            "largest no of all elements in given list:  6\n"
          ]
        }
      ]
    },
    {
      "cell_type": "markdown",
      "source": [
        "5.\tWrite a Python program to find second largest number in a list?"
      ],
      "metadata": {
        "id": "kX-iq3c2fvoV"
      }
    },
    {
      "cell_type": "code",
      "source": [
        "lst=[2,3,4,5,6]\n",
        "lst.sort()\n",
        "print(\"2nd largest no of all elements in given list:\", lst[-2])"
      ],
      "metadata": {
        "colab": {
          "base_uri": "https://localhost:8080/"
        },
        "id": "f4iB7xKqfm_4",
        "outputId": "24842f07-a757-4486-fb47-b648837089cf"
      },
      "execution_count": null,
      "outputs": [
        {
          "output_type": "stream",
          "name": "stdout",
          "text": [
            "2nd largest no of all elements in given list: 5\n"
          ]
        }
      ]
    },
    {
      "cell_type": "markdown",
      "source": [
        "6.\tWrite a Python program to find N largest elements from a list?"
      ],
      "metadata": {
        "id": "FXKv7NYR2FLy"
      }
    },
    {
      "cell_type": "code",
      "source": [
        "l = [1000,298,3579,100,200,-45,900]\n",
        "n = 4\n",
        "\n",
        "l.sort()\n",
        "arr = []\n",
        "\n",
        "while n:\n",
        "    arr.append(l[-n])\n",
        "    n -= 1\n",
        "\n",
        "print(arr)\n"
      ],
      "metadata": {
        "id": "ullgkcg5hiwX",
        "colab": {
          "base_uri": "https://localhost:8080/"
        },
        "outputId": "ef02a727-d542-4e93-9022-3dd589f4ed06"
      },
      "execution_count": null,
      "outputs": [
        {
          "output_type": "stream",
          "name": "stdout",
          "text": [
            "[298, 900, 1000, 3579]\n"
          ]
        }
      ]
    },
    {
      "cell_type": "code",
      "source": [],
      "metadata": {
        "id": "zXrpQEGh7Ais"
      },
      "execution_count": null,
      "outputs": []
    }
  ]
}
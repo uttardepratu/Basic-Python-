{
  "nbformat": 4,
  "nbformat_minor": 0,
  "metadata": {
    "colab": {
      "provenance": [],
      "authorship_tag": "ABX9TyMeOOpUmv9Tfp5upj2vpciO",
      "include_colab_link": true
    },
    "kernelspec": {
      "name": "python3",
      "display_name": "Python 3"
    },
    "language_info": {
      "name": "python"
    }
  },
  "cells": [
    {
      "cell_type": "markdown",
      "metadata": {
        "id": "view-in-github",
        "colab_type": "text"
      },
      "source": [
        "<a href=\"https://colab.research.google.com/github/uttardepratu/Basic-Python-/blob/main/Prog_Ass_9.ipynb\" target=\"_parent\"><img src=\"https://colab.research.google.com/assets/colab-badge.svg\" alt=\"Open In Colab\"/></a>"
      ]
    },
    {
      "cell_type": "markdown",
      "source": [
        "1.\tWrite a Python program to check if the given number is a Disarium Number?\n",
        "\n",
        "A number is said to be the Disarium number when the sum of its digit raised to the power of their respective positions becomes equal to the number itself.\n",
        "\n",
        "For example, 175 is a Disarium number as follows:\n",
        "\n",
        "11+ 72 + 53 = 1+ 49 + 125 = 175"
      ],
      "metadata": {
        "id": "KhmMpsZ60wwm"
      }
    },
    {
      "cell_type": "code",
      "execution_count": null,
      "metadata": {
        "colab": {
          "base_uri": "https://localhost:8080/"
        },
        "id": "lmu7hidB0fBD",
        "outputId": "3b50f9e7-52f9-45c4-bbfe-b7baf6b9f250"
      },
      "outputs": [
        {
          "output_type": "stream",
          "name": "stdout",
          "text": [
            "175\n",
            "disarium number\n"
          ]
        }
      ],
      "source": [
        "num = int(input())\n",
        "rem = s = 0;\n",
        "len = len(str(num))\n",
        "\n",
        "#Makes a copy of the original number num\n",
        "n = num;\n",
        "\n",
        "#Calculates the sum of digits powered with their respective position\n",
        "while(num > 0):\n",
        "    rem = num%10;\n",
        "    s += int(rem**len);\n",
        "    num = num//10;\n",
        "    len -= 1;\n",
        "\n",
        "#Checks whether the sum is equal to the number itself\n",
        "if(s == n):\n",
        "    print( \"disarium number\");\n",
        "else:\n",
        "    print(\" not a disarium number\");"
      ]
    },
    {
      "cell_type": "markdown",
      "source": [
        "2.\tWrite a Python program to print all disarium numbers between 1 to 100?"
      ],
      "metadata": {
        "id": "82mxMR0j2ljg"
      }
    },
    {
      "cell_type": "code",
      "source": [
        "import math\n",
        "def digitsCount(Number):\n",
        "    length = 0\n",
        "    while Number != 0:\n",
        "        length = length + 1\n",
        "        Number = Number // 10\n",
        "    return length\n",
        "\n",
        "def digitsSum(Number):\n",
        "    Sum = 0\n",
        "    rem = 0\n",
        "    length = digitsCount(Number)\n",
        "    while Number > 0:\n",
        "        rem = Number % 10\n",
        "        Sum = Sum + math.pow(rem, length)\n",
        "        Number = Number // 10\n",
        "        length = length - 1\n",
        "    return Sum\n",
        "\n",
        "\n",
        "minDis = int(input(\"Enter the Minimum Disarium Number = \"))\n",
        "maxDis = int(input(\"Enter the Maximum Disarium Number = \"))\n",
        "\n",
        "print(\"\\nThe List of Disarium Numbers from {0} and {1}\".format(minDis, maxDis))\n",
        "for i in range(minDis, maxDis):\n",
        "    Sum = digitsSum(i)\n",
        "\n",
        "    if Sum == i:\n",
        "        print(i, end = \"   \")"
      ],
      "metadata": {
        "colab": {
          "base_uri": "https://localhost:8080/"
        },
        "id": "r0KbMKDp2mKG",
        "outputId": "cc5f6ae1-48ac-418f-eccc-ce3d72f1ef3e"
      },
      "execution_count": null,
      "outputs": [
        {
          "output_type": "stream",
          "name": "stdout",
          "text": [
            "Enter the Minimum Disarium Number = 2\n",
            "Enter the Maximum Disarium Number = 1000\n",
            "\n",
            "The List of Disarium Numbers from 2 and 1000\n",
            "2   3   4   5   6   7   8   9   89   135   175   518   598   "
          ]
        }
      ]
    },
    {
      "cell_type": "markdown",
      "source": [
        "3.\tWrite a Python program to check if the given number is Happy Number?"
      ],
      "metadata": {
        "id": "-JG9MLNP3g-7"
      }
    },
    {
      "cell_type": "markdown",
      "source": [
        "A happy number is defined by the following process:\n",
        "\n",
        "Starting with any positive integer, replace the number by the sum of the squares of its digits, and repeat the process until the number equals 1 (where it will stay), or it loops endlessly in a cycle which does not include 1.\n",
        "\n",
        "Those numbers for which this process ends in 1 are happy numbers, while those that do not end in 1 are unhappy numbers.\n",
        "Write a Python program to check whether a number is \"happy\" or not."
      ],
      "metadata": {
        "id": "-FvPdv254KhG"
      }
    },
    {
      "cell_type": "code",
      "source": [
        "def is_Happy_num(n):\n",
        "  past = set()\n",
        "  while n != 1:\n",
        "        n = sum(int(i)**2 for i in str(n))\n",
        "        if n in past:\n",
        "            return False\n",
        "        past.add(n)\n",
        "  return True\n",
        "print(is_Happy_num(7))\n",
        "print(is_Happy_num(932))\n",
        "print(is_Happy_num(6))"
      ],
      "metadata": {
        "colab": {
          "base_uri": "https://localhost:8080/"
        },
        "id": "ReEvwGCP3LaB",
        "outputId": "96413388-4c86-4603-86e7-2e813564244f"
      },
      "execution_count": null,
      "outputs": [
        {
          "output_type": "stream",
          "name": "stdout",
          "text": [
            "True\n",
            "True\n",
            "False\n"
          ]
        }
      ]
    },
    {
      "cell_type": "markdown",
      "source": [
        "4.\tWrite a Python program to print all happy numbers between 1 and 100?"
      ],
      "metadata": {
        "id": "sw1dqZ5D4h-L"
      }
    },
    {
      "cell_type": "code",
      "source": [
        "#isHappyNumber() will determine whether a number is happy or not\n",
        "def isHappyNumber(num):\n",
        "    rem = sum = 0;\n",
        "\n",
        "    #Calculates the sum of squares of digits\n",
        "    while(num > 0):\n",
        "        rem = num%10;\n",
        "        sum = sum + (rem*rem);\n",
        "        num = num//10;\n",
        "    return sum;\n",
        "\n",
        "#Displays all happy numbers between 1 and 100\n",
        "print(\"List of happy numbers between 1 and 100: \");\n",
        "for i in range(1, 101):\n",
        "    result = i;\n",
        "\n",
        "    #Happy number always ends with 1 and\n",
        "    #unhappy number ends in a cycle of repeating numbers which contains 4\n",
        "    while(result != 1 and result != 4):\n",
        "        result = isHappyNumber(result);\n",
        "\n",
        "    if(result == 1):\n",
        "        print(i),\n",
        "        print(\" \"),"
      ],
      "metadata": {
        "colab": {
          "base_uri": "https://localhost:8080/"
        },
        "id": "uii1_obY4b0g",
        "outputId": "3672a34a-5dc9-419c-8e88-78ad80dfe9f6"
      },
      "execution_count": null,
      "outputs": [
        {
          "output_type": "stream",
          "name": "stdout",
          "text": [
            "List of happy numbers between 1 and 100: \n",
            "1\n",
            " \n",
            "7\n",
            " \n",
            "10\n",
            " \n",
            "13\n",
            " \n",
            "19\n",
            " \n",
            "23\n",
            " \n",
            "28\n",
            " \n",
            "31\n",
            " \n",
            "32\n",
            " \n",
            "44\n",
            " \n",
            "49\n",
            " \n",
            "68\n",
            " \n",
            "70\n",
            " \n",
            "79\n",
            " \n",
            "82\n",
            " \n",
            "86\n",
            " \n",
            "91\n",
            " \n",
            "94\n",
            " \n",
            "97\n",
            " \n",
            "100\n",
            " \n"
          ]
        }
      ]
    },
    {
      "cell_type": "markdown",
      "source": [
        "5.\tWrite a Python program to determine whether the given number is a Harshad Number?\n",
        "\n",
        "In mathematics, a number is said to be Harshad number if it is divisible by the sum of its digits.\n",
        "\n",
        "Harshad number examples: 153, 156, 24 etc.\n",
        "\n",
        "153 is Harshad number becuase it is divisible by 1+5+3=9 i.e. 153/(1+5+3) = 153/9 = 17."
      ],
      "metadata": {
        "id": "0g6OX40n49eb"
      }
    },
    {
      "cell_type": "code",
      "source": [
        "number=int(input(\"Enter the Number: \"))\n",
        "digit_sum= 0\n",
        "\n",
        "copy=number\n",
        "while number:\n",
        "    digit_sum += number%10\n",
        "    number //= 10\n",
        "\n",
        "# Checking divisibility & making decision\n",
        "if copy%digit_sum == 0:\n",
        "    print('%d is Harshad Number' % (copy))\n",
        "else:\n",
        "    print('%d is Not Harshad Number' % (copy))"
      ],
      "metadata": {
        "colab": {
          "base_uri": "https://localhost:8080/"
        },
        "id": "lF2O26C443g7",
        "outputId": "c6fc1479-6066-42cf-8aa5-43ae4a104840"
      },
      "execution_count": null,
      "outputs": [
        {
          "output_type": "stream",
          "name": "stdout",
          "text": [
            "Enter the Number: 55\n",
            "55 is Not Harshad Number\n"
          ]
        }
      ]
    },
    {
      "cell_type": "code",
      "source": [
        "number=int(input(\"Enter the Number: \"))\n",
        "digit_sum= 0\n",
        "\n",
        "copy=number\n",
        "while number:\n",
        "    digit_sum += number%10\n",
        "    number //= 10\n",
        "\n",
        "# Checking divisibility & making decision\n",
        "if copy%digit_sum == 0:\n",
        "    print('%d is Harshad Number' % (copy))\n",
        "else:\n",
        "    print('%d is Not Harshad Number' % (copy))"
      ],
      "metadata": {
        "colab": {
          "base_uri": "https://localhost:8080/"
        },
        "id": "4EJrlB2t6dAr",
        "outputId": "69d94b6f-a7e3-41b4-f388-5a7ef4c4b5f4"
      },
      "execution_count": null,
      "outputs": [
        {
          "output_type": "stream",
          "name": "stdout",
          "text": [
            "Enter the Number: 153\n",
            "153 is Harshad Number\n"
          ]
        }
      ]
    },
    {
      "cell_type": "markdown",
      "source": [
        "6.\tWrite a Python program to print all pronic numbers between 1 and 100?\n",
        "\n",
        "The pronic number is a product of two consecutive integers of the form: n(n+1).\n",
        "\n",
        "For example:\n",
        "\n",
        "6 = 2(2+1)= n(n+1),\n",
        "72 =8(8+1) = n(n+1)\n",
        "\n",
        "Some pronic numbers are: 0, 2, 6, 12, 20, 30, 42, 56 etc."
      ],
      "metadata": {
        "id": "OTr15Fz88NOK"
      }
    },
    {
      "cell_type": "code",
      "source": [
        "def isPronicNumber(num):\n",
        "    flag = False;\n",
        "\n",
        "    for j in range(1, num+1):\n",
        "        #Checks for pronic number by multiplying consecutive numbers\n",
        "        if((j*(j+1)) == num):\n",
        "            flag = True;\n",
        "            break;\n",
        "    return flag;\n",
        "\n",
        "#Displays pronic numbers between 1 and 100\n",
        "print(\"Pronic numbers between 1 and 100: \");\n",
        "for i in range(1, 101):\n",
        "    if(isPronicNumber(i)):\n",
        "        print(i),\n",
        "        print(\" \"),"
      ],
      "metadata": {
        "colab": {
          "base_uri": "https://localhost:8080/"
        },
        "id": "IK9oTuvW6gLP",
        "outputId": "a4466f26-6501-4b64-eed4-d2114c7763aa"
      },
      "execution_count": null,
      "outputs": [
        {
          "output_type": "stream",
          "name": "stdout",
          "text": [
            "Pronic numbers between 1 and 100: \n",
            "2\n",
            " \n",
            "6\n",
            " \n",
            "12\n",
            " \n",
            "20\n",
            " \n",
            "30\n",
            " \n",
            "42\n",
            " \n",
            "56\n",
            " \n",
            "72\n",
            " \n",
            "90\n",
            " \n"
          ]
        }
      ]
    },
    {
      "cell_type": "code",
      "source": [],
      "metadata": {
        "id": "JjEXK9Sz8mAY"
      },
      "execution_count": null,
      "outputs": []
    }
  ]
}
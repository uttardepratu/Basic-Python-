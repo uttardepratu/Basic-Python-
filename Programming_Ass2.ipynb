{
  "nbformat": 4,
  "nbformat_minor": 0,
  "metadata": {
    "colab": {
      "provenance": [],
      "authorship_tag": "ABX9TyNPzGb22vPsaKR++u0m24bZ",
      "include_colab_link": true
    },
    "kernelspec": {
      "name": "python3",
      "display_name": "Python 3"
    },
    "language_info": {
      "name": "python"
    }
  },
  "cells": [
    {
      "cell_type": "markdown",
      "metadata": {
        "id": "view-in-github",
        "colab_type": "text"
      },
      "source": [
        "<a href=\"https://colab.research.google.com/github/uttardepratu/Basic-Python-/blob/main/Programming_Ass2.ipynb\" target=\"_parent\"><img src=\"https://colab.research.google.com/assets/colab-badge.svg\" alt=\"Open In Colab\"/></a>"
      ]
    },
    {
      "cell_type": "markdown",
      "source": [
        "1.\tWrite a Python program to convert kilometers to miles?"
      ],
      "metadata": {
        "id": "1q3NdE974m2n"
      }
    },
    {
      "cell_type": "code",
      "execution_count": null,
      "metadata": {
        "colab": {
          "base_uri": "https://localhost:8080/"
        },
        "id": "_qaUt8qx4bRa",
        "outputId": "a2954c89-05eb-47df-aa56-a32d0f2f4226"
      },
      "outputs": [
        {
          "output_type": "stream",
          "name": "stdout",
          "text": [
            "Enter value in kilometers: 5\n",
            "5.00 kilometers is equal to 3.11 miles\n"
          ]
        }
      ],
      "source": [
        "# Taking kilometers input from the user\n",
        "kilometers = float(input(\"Enter value in kilometers: \"))\n",
        "\n",
        "# conversion factor\n",
        "conv_fac = 0.621371\n",
        "\n",
        "# calculate miles\n",
        "miles = kilometers * conv_fac\n",
        "print('%0.2f kilometers is equal to %0.2f miles' %(kilometers,miles))"
      ]
    },
    {
      "cell_type": "markdown",
      "source": [
        "2.\tWrite a Python program to convert Celsius to Fahrenheit?"
      ],
      "metadata": {
        "id": "-fA7cs2a5VXs"
      }
    },
    {
      "cell_type": "code",
      "source": [
        "celsius = 37.5\n",
        "fahrenheit = celsius * 1.8 + 32"
      ],
      "metadata": {
        "id": "8WNUUpol5MdG"
      },
      "execution_count": null,
      "outputs": []
    },
    {
      "cell_type": "code",
      "source": [
        "# calculate fahrenheit\n",
        "fahrenheit = (celsius * 1.8) + 32\n",
        "print('%0.1f degree Celsius is equal to %0.1f degree Fahrenheit' %(celsius,fahrenheit))"
      ],
      "metadata": {
        "colab": {
          "base_uri": "https://localhost:8080/"
        },
        "id": "lQ_BXsF45oiR",
        "outputId": "9af8ed80-e261-49d1-a9f5-03a8cb0ea5fa"
      },
      "execution_count": null,
      "outputs": [
        {
          "output_type": "stream",
          "name": "stdout",
          "text": [
            "37.5 degree Celsius is equal to 99.5 degree Fahrenheit\n"
          ]
        }
      ]
    },
    {
      "cell_type": "markdown",
      "source": [
        "3.\tWrite a Python program to display calendar?"
      ],
      "metadata": {
        "id": "hHj2c6_I6WPi"
      }
    },
    {
      "cell_type": "code",
      "source": [
        "from calendar import*\n",
        "year=int(input('Enter Year:'))\n",
        "print(calendar(year,2,1,8,4))"
      ],
      "metadata": {
        "colab": {
          "base_uri": "https://localhost:8080/"
        },
        "id": "RvR-WVqR6G9q",
        "outputId": "648a015a-c821-49df-993a-24e5ebca4abd"
      },
      "execution_count": null,
      "outputs": [
        {
          "output_type": "stream",
          "name": "stdout",
          "text": [
            "Enter Year:2023\n",
            "                                                  2023\n",
            "\n",
            "      January                     February                     March                       April\n",
            "Mo Tu We Th Fr Sa Su        Mo Tu We Th Fr Sa Su        Mo Tu We Th Fr Sa Su        Mo Tu We Th Fr Sa Su\n",
            "                   1               1  2  3  4  5               1  2  3  4  5                        1  2\n",
            " 2  3  4  5  6  7  8         6  7  8  9 10 11 12         6  7  8  9 10 11 12         3  4  5  6  7  8  9\n",
            " 9 10 11 12 13 14 15        13 14 15 16 17 18 19        13 14 15 16 17 18 19        10 11 12 13 14 15 16\n",
            "16 17 18 19 20 21 22        20 21 22 23 24 25 26        20 21 22 23 24 25 26        17 18 19 20 21 22 23\n",
            "23 24 25 26 27 28 29        27 28                       27 28 29 30 31              24 25 26 27 28 29 30\n",
            "30 31\n",
            "\n",
            "        May                         June                        July                       August\n",
            "Mo Tu We Th Fr Sa Su        Mo Tu We Th Fr Sa Su        Mo Tu We Th Fr Sa Su        Mo Tu We Th Fr Sa Su\n",
            " 1  2  3  4  5  6  7                  1  2  3  4                        1  2            1  2  3  4  5  6\n",
            " 8  9 10 11 12 13 14         5  6  7  8  9 10 11         3  4  5  6  7  8  9         7  8  9 10 11 12 13\n",
            "15 16 17 18 19 20 21        12 13 14 15 16 17 18        10 11 12 13 14 15 16        14 15 16 17 18 19 20\n",
            "22 23 24 25 26 27 28        19 20 21 22 23 24 25        17 18 19 20 21 22 23        21 22 23 24 25 26 27\n",
            "29 30 31                    26 27 28 29 30              24 25 26 27 28 29 30        28 29 30 31\n",
            "                                                        31\n",
            "\n",
            "     September                    October                     November                    December\n",
            "Mo Tu We Th Fr Sa Su        Mo Tu We Th Fr Sa Su        Mo Tu We Th Fr Sa Su        Mo Tu We Th Fr Sa Su\n",
            "             1  2  3                           1               1  2  3  4  5                     1  2  3\n",
            " 4  5  6  7  8  9 10         2  3  4  5  6  7  8         6  7  8  9 10 11 12         4  5  6  7  8  9 10\n",
            "11 12 13 14 15 16 17         9 10 11 12 13 14 15        13 14 15 16 17 18 19        11 12 13 14 15 16 17\n",
            "18 19 20 21 22 23 24        16 17 18 19 20 21 22        20 21 22 23 24 25 26        18 19 20 21 22 23 24\n",
            "25 26 27 28 29 30           23 24 25 26 27 28 29        27 28 29 30                 25 26 27 28 29 30 31\n",
            "                            30 31\n",
            "\n"
          ]
        }
      ]
    },
    {
      "cell_type": "markdown",
      "source": [
        "4.\tWrite a Python program to solve quadratic equation?"
      ],
      "metadata": {
        "id": "2QRPD1Mg8pYm"
      }
    },
    {
      "cell_type": "code",
      "source": [
        "# Solve the quadratic equation ax**2 + bx + c = 0\n",
        "\n",
        "# import complex math module\n",
        "import cmath\n",
        "\n",
        "a = 1\n",
        "b = 5\n",
        "c = 6\n",
        "\n",
        "# calculate the discriminant\n",
        "d = (b**2) - (4*a*c)\n",
        "\n",
        "# find two solutions\n",
        "sol1 = (-b-cmath.sqrt(d))/(2*a)\n",
        "sol2 = (-b+cmath.sqrt(d))/(2*a)\n",
        "\n",
        "print('The solution are {0} and {1}'.format(sol1,sol2))"
      ],
      "metadata": {
        "colab": {
          "base_uri": "https://localhost:8080/"
        },
        "id": "hrXHR_Af7ZG1",
        "outputId": "c0ba51cf-4054-4fe7-f4f3-ff72bb5f983b"
      },
      "execution_count": null,
      "outputs": [
        {
          "output_type": "stream",
          "name": "stdout",
          "text": [
            "The solution are (-3+0j) and (-2+0j)\n"
          ]
        }
      ]
    },
    {
      "cell_type": "markdown",
      "source": [
        "5.\tWrite a Python program to swap two variables without temp variable?"
      ],
      "metadata": {
        "id": "CiYkru_s8yia"
      }
    },
    {
      "cell_type": "code",
      "source": [
        "x = 5\n",
        "y = 10\n",
        "\n",
        "x, y = y, x\n",
        "print(\"x =\", x)\n",
        "print(\"y =\", y)"
      ],
      "metadata": {
        "colab": {
          "base_uri": "https://localhost:8080/"
        },
        "id": "sk7FOKLm8Y6x",
        "outputId": "8cb027b9-1840-4a63-9e3c-b95ce56666a5"
      },
      "execution_count": null,
      "outputs": [
        {
          "output_type": "stream",
          "name": "stdout",
          "text": [
            "x = 10\n",
            "y = 5\n"
          ]
        }
      ]
    },
    {
      "cell_type": "code",
      "source": [],
      "metadata": {
        "id": "ULxTYpPA9aAl"
      },
      "execution_count": null,
      "outputs": []
    }
  ]
}
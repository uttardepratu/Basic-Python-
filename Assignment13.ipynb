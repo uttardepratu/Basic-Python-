{
  "nbformat": 4,
  "nbformat_minor": 0,
  "metadata": {
    "colab": {
      "provenance": [],
      "authorship_tag": "ABX9TyNzDQyov4MPymfK5ZNGHKFg",
      "include_colab_link": true
    },
    "kernelspec": {
      "name": "python3",
      "display_name": "Python 3"
    },
    "language_info": {
      "name": "python"
    }
  },
  "cells": [
    {
      "cell_type": "markdown",
      "metadata": {
        "id": "view-in-github",
        "colab_type": "text"
      },
      "source": [
        "<a href=\"https://colab.research.google.com/github/uttardepratu/Basic-Python-/blob/main/Assignment13.ipynb\" target=\"_parent\"><img src=\"https://colab.research.google.com/assets/colab-badge.svg\" alt=\"Open In Colab\"/></a>"
      ]
    },
    {
      "cell_type": "markdown",
      "source": [
        "1. What advantages do Excel spreadsheets have over CSV spreadsheets?\n",
        "\n",
        "Ans.\n",
        "\n",
        "It is a binary file that holds information about all the worksheets in a workbook.\n",
        "An Excel not only stores data but can also do operations on the data\n",
        "Files saved in excel cannot be opened or edited by text editors\n",
        "large files user is much easier in Excel for the end user. Also, you can have additional functions like selecting individual cells for import, convert dates and time automatically, reading formulas and their results, filters, sorting, etc.\n",
        "\n",
        "Apart from text, data can also be stored in form of charts and graphs\n",
        "Excel can connect to external data sources to fetch data. You can use custom add-in in Excel to increase its functionality.\n",
        "Excel allows for Review of Data with detailed tracking and commenting feature\n",
        "In Excel, spreadsheets can have values of data types other than strings; cells can have different fonts, sizes, or color settings; cells can have varying widths and heights; adjacent cells can be merged"
      ],
      "metadata": {
        "id": "jzNHQxwMIXCr"
      }
    },
    {
      "cell_type": "markdown",
      "source": [
        "2 Q. What do you pass to csv.reader() and csv.writer() to create reader and writer objects?\n"
      ],
      "metadata": {
        "id": "sffu5bhnIvA9"
      }
    },
    {
      "cell_type": "code",
      "execution_count": null,
      "metadata": {
        "colab": {
          "base_uri": "https://localhost:8080/"
        },
        "id": "lNHmid9kIP0i",
        "outputId": "ffad1b5e-2280-4eef-fd11-8257b54ba7d2"
      },
      "outputs": [
        {
          "output_type": "execute_result",
          "data": {
            "text/plain": [
              "[['YEAR',\n",
              "  'National Waterways- I',\n",
              "  'National Waterways- II',\n",
              "  'National Waterways-III',\n",
              "  'Total'],\n",
              " ['2003-04', '1596', '296', '219', '2111'],\n",
              " ['2004-05', '3119', '381', '154', '3654'],\n",
              " ['2005-06', '4109', '322', '169', '4600'],\n",
              " ['2006-07', '5803', '1728', '149', '7680'],\n",
              " ['2007-08', '7092', '422', '89', '7603'],\n",
              " ['2008-09', '7068', '142', '109', '7319'],\n",
              " ['2009-10', '10402', '74', '97', '10573'],\n",
              " ['2010-11', '12302', '573', '142', '13017'],\n",
              " ['2011-12', '14546', '613', '132', '15291'],\n",
              " ['2012-13', '15119', '580', '139', '15838'],\n",
              " ['2013-14', '18512', '594', '116', '19222']]"
            ]
          },
          "metadata": {},
          "execution_count": 2
        }
      ],
      "source": [
        "#we pass a File object, obtained from a call to open().\n",
        "import csv\n",
        "file_csv = open('/content/National waterways.csv')\n",
        "filereader = csv.reader(file_csv)\n",
        "fileData = list(filereader)\n",
        "fileData\n"
      ]
    },
    {
      "cell_type": "markdown",
      "source": [
        "3Q. What modes do File objects for reader and writer objects need to be opened in?\n",
        "\n",
        "Ans. File objects need to be opened in read-binary ('rb') for Reader objects and write-binary ('wb') for Writer objects\n",
        "\n",
        "\n",
        "\n",
        "\n"
      ],
      "metadata": {
        "id": "D9FWNoagK-iV"
      }
    },
    {
      "cell_type": "markdown",
      "source": [
        "4 Q. What method takes a list argument and writes it to a CSV file?\n"
      ],
      "metadata": {
        "id": "U4RqMH8zLLkx"
      }
    },
    {
      "cell_type": "code",
      "source": [
        "#The writerow() method\n",
        "File_abc = open('abc.csv','w')\n",
        "File_Writer = csv.writer(File_abc)\n",
        "csv.writer(File_abc).writerow(['cat','fish','dog'])"
      ],
      "metadata": {
        "colab": {
          "base_uri": "https://localhost:8080/"
        },
        "id": "Fd05it9nLCsF",
        "outputId": "caf69270-ccdc-42c0-a8f3-7859ca381516"
      },
      "execution_count": null,
      "outputs": [
        {
          "output_type": "execute_result",
          "data": {
            "text/plain": [
              "14"
            ]
          },
          "metadata": {},
          "execution_count": 3
        }
      ]
    },
    {
      "cell_type": "markdown",
      "source": [
        "5 Q. What do the keyword arguments delimiter and line terminator do?\n",
        "\n",
        "Ans.\n",
        "\n",
        "The delimiter argument changes the string used to separate cells in a row.\n",
        "The line terminator argument changes the string used to separate rows."
      ],
      "metadata": {
        "id": "XgC0u81LLiqr"
      }
    },
    {
      "cell_type": "markdown",
      "source": [
        "6 Q. What function takes a string of JSON data and returns a Python data structure?\n",
        "\n",
        "Ans. json.loads()"
      ],
      "metadata": {
        "id": "rGXtNcmsLpiE"
      }
    },
    {
      "cell_type": "markdown",
      "source": [
        "Q. What function takes a Python data structure and returns a string of JSON data?\n",
        "\n",
        "Ans. json.dumps()"
      ],
      "metadata": {
        "id": "yaNy8ijiLuJc"
      }
    },
    {
      "cell_type": "code",
      "source": [],
      "metadata": {
        "id": "KRR0A8WBLRl4"
      },
      "execution_count": null,
      "outputs": []
    }
  ]
}
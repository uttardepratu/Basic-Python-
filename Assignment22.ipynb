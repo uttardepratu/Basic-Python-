{
  "nbformat": 4,
  "nbformat_minor": 0,
  "metadata": {
    "colab": {
      "provenance": [],
      "authorship_tag": "ABX9TyPWCGK3qNAwIlJHqW7XYXZB",
      "include_colab_link": true
    },
    "kernelspec": {
      "name": "python3",
      "display_name": "Python 3"
    },
    "language_info": {
      "name": "python"
    }
  },
  "cells": [
    {
      "cell_type": "markdown",
      "metadata": {
        "id": "view-in-github",
        "colab_type": "text"
      },
      "source": [
        "<a href=\"https://colab.research.google.com/github/uttardepratu/Basic-Python-/blob/main/Assignment22.ipynb\" target=\"_parent\"><img src=\"https://colab.research.google.com/assets/colab-badge.svg\" alt=\"Open In Colab\"/></a>"
      ]
    },
    {
      "cell_type": "markdown",
      "source": [
        "1. What is the result of the code, and explain?"
      ],
      "metadata": {
        "id": "IxnkaFtuKvFp"
      }
    },
    {
      "cell_type": "code",
      "execution_count": null,
      "metadata": {
        "colab": {
          "base_uri": "https://localhost:8080/"
        },
        "id": "dxq1ymTxKrNR",
        "outputId": "4adaf59a-3daa-4860-9d2a-197e7e199aad"
      },
      "outputs": [
        {
          "output_type": "stream",
          "name": "stdout",
          "text": [
            "iNeuron\n"
          ]
        }
      ],
      "source": [
        "X = 'iNeuron'\n",
        "def func():\n",
        "  print(X)\n",
        "\n",
        "\n",
        "func()\n"
      ]
    },
    {
      "cell_type": "code",
      "source": [
        "#The global variables are accessible in side the functions in python.\n",
        "#But we can not access function variable out side function.\n",
        "#Since x is global variable we are able to print it in side the function\n",
        "#solution : 'iNeuron'\n"
      ],
      "metadata": {
        "id": "JITprOTuLcTN"
      },
      "execution_count": null,
      "outputs": []
    },
    {
      "cell_type": "markdown",
      "source": [
        "2 Q. What is the result of the code, and explain?"
      ],
      "metadata": {
        "id": "zKFIHwbmLrwb"
      }
    },
    {
      "cell_type": "code",
      "source": [
        "X = 'iNeuron'\n",
        "def func():\n",
        "  X = 'NI!'\n",
        "func()\n",
        "print(X)"
      ],
      "metadata": {
        "colab": {
          "base_uri": "https://localhost:8080/"
        },
        "id": "fRoP-ufeLnaz",
        "outputId": "eecf1452-7b42-4760-8803-95434be63e6d"
      },
      "execution_count": null,
      "outputs": [
        {
          "output_type": "stream",
          "name": "stdout",
          "text": [
            "iNeuron\n"
          ]
        }
      ]
    },
    {
      "cell_type": "code",
      "source": [
        "#The global variables are access in side the functions in python. But we can not access function variable out side function.\n",
        "# Since x is golbal variable we are able to print it out side of the function then solution = 'iNeuron'"
      ],
      "metadata": {
        "id": "ShdD27rcLtrE"
      },
      "execution_count": null,
      "outputs": []
    },
    {
      "cell_type": "markdown",
      "source": [
        "3 Q. What does this code print, and why?"
      ],
      "metadata": {
        "id": "2e8VXHWCMWNb"
      }
    },
    {
      "cell_type": "code",
      "source": [
        "X = 'iNeuron'\n",
        "def func():\n",
        "  X = 'NI'\n",
        "  print(X)\n",
        "\n",
        "\n",
        "func()\n",
        "print(X)"
      ],
      "metadata": {
        "colab": {
          "base_uri": "https://localhost:8080/"
        },
        "id": "qcMqPKh1MTOw",
        "outputId": "c61cba25-5f88-48cd-a542-0a2f37fc8e1e"
      },
      "execution_count": null,
      "outputs": [
        {
          "output_type": "stream",
          "name": "stdout",
          "text": [
            "NI\n",
            "iNeuron\n"
          ]
        }
      ]
    },
    {
      "cell_type": "code",
      "source": [
        "## X is updated with 'NI' which is local to function and its immutable. its name space is with in the function solution = 'NI!', 'iNeuron'\n"
      ],
      "metadata": {
        "id": "zUjWtomUMuD0"
      },
      "execution_count": null,
      "outputs": []
    },
    {
      "cell_type": "markdown",
      "source": [
        "4 Q. What output does this code produce? Why?"
      ],
      "metadata": {
        "id": "60aevghtNU8q"
      }
    },
    {
      "cell_type": "code",
      "source": [
        "\n",
        "X = 'iNeuron'\n",
        "def func():\n",
        "  global X\n",
        "  X = 'NI'\n",
        "\n",
        "\n",
        "func()\n",
        "print(X)"
      ],
      "metadata": {
        "colab": {
          "base_uri": "https://localhost:8080/"
        },
        "id": "Kcf5FLOCNK8d",
        "outputId": "675e547b-f04e-4ee3-95d3-b67467649d5f"
      },
      "execution_count": null,
      "outputs": [
        {
          "output_type": "stream",
          "name": "stdout",
          "text": [
            "NI\n"
          ]
        }
      ]
    },
    {
      "cell_type": "code",
      "source": [
        "##Ans. since the X in side function is made Global, it will be accesible out side of the function too.\n",
        "#now X will have new value.\n",
        "\n",
        "#solution : 'NI!', 'NI!'"
      ],
      "metadata": {
        "id": "mBTM5DP5N84c"
      },
      "execution_count": null,
      "outputs": []
    },
    {
      "cell_type": "markdown",
      "source": [
        "5 Q. What about this code—what’s the output, and why?"
      ],
      "metadata": {
        "id": "lG0bomCaOIx3"
      }
    },
    {
      "cell_type": "code",
      "source": [
        "X = 'iNeuron'\n",
        "def func():\n",
        "    X = 'NI'\n",
        "def nested():\n",
        "    print(X)\n",
        "\n",
        "nested()\n",
        "func()\n",
        "X"
      ],
      "metadata": {
        "colab": {
          "base_uri": "https://localhost:8080/",
          "height": 54
        },
        "id": "iG4lIc4NN_MM",
        "outputId": "86cde68f-055c-43bf-ebf6-cad3ada49a3b"
      },
      "execution_count": null,
      "outputs": [
        {
          "output_type": "stream",
          "name": "stdout",
          "text": [
            "iNeuron\n"
          ]
        },
        {
          "output_type": "execute_result",
          "data": {
            "text/plain": [
              "'iNeuron'"
            ],
            "application/vnd.google.colaboratory.intrinsic+json": {
              "type": "string"
            }
          },
          "metadata": {},
          "execution_count": 10
        }
      ]
    },
    {
      "cell_type": "code",
      "source": [
        "#Ans. the nested() function will print 'iNeuron', Then func() does not display anything,\n",
        "# and x ='NI' is not accessible out side the function.\n",
        "#Solution : 'iNeuron'"
      ],
      "metadata": {
        "id": "Qfi2qlruOUcj"
      },
      "execution_count": null,
      "outputs": []
    },
    {
      "cell_type": "markdown",
      "source": [
        "6 Q. How about this code: what is its output in Python 3, and explain?"
      ],
      "metadata": {
        "id": "_k99EVMEOqcr"
      }
    },
    {
      "cell_type": "code",
      "source": [
        "def func():\n",
        "  X = 'NI'\n",
        "  def nested():\n",
        "    nonlocal X\n",
        "    X = 'Spam'\n",
        "  nested()\n",
        "  print(X)\n",
        "\n",
        "func()"
      ],
      "metadata": {
        "colab": {
          "base_uri": "https://localhost:8080/"
        },
        "id": "EfBR6N-3PZxx",
        "outputId": "076cc4c6-167f-49aa-8968-47a30b589245"
      },
      "execution_count": null,
      "outputs": [
        {
          "output_type": "stream",
          "name": "stdout",
          "text": [
            "Spam\n"
          ]
        }
      ]
    },
    {
      "cell_type": "code",
      "source": [
        "#Nonlocal variables are used in nested functions whose local scope is not defined.\n",
        "#This means that the variable can be neither in the local nor the global scope. it print the updated value from nested function\n",
        "\n",
        "#Sol : 'spam'"
      ],
      "metadata": {
        "id": "iDe2Wzf9QemU"
      },
      "execution_count": null,
      "outputs": []
    },
    {
      "cell_type": "code",
      "source": [],
      "metadata": {
        "id": "atZMlHwhRIfK"
      },
      "execution_count": null,
      "outputs": []
    }
  ]
}
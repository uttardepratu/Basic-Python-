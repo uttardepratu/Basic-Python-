{
  "nbformat": 4,
  "nbformat_minor": 0,
  "metadata": {
    "colab": {
      "provenance": [],
      "authorship_tag": "ABX9TyNbDuaRNZlc5RxLs2Ythci/",
      "include_colab_link": true
    },
    "kernelspec": {
      "name": "python3",
      "display_name": "Python 3"
    },
    "language_info": {
      "name": "python"
    }
  },
  "cells": [
    {
      "cell_type": "markdown",
      "metadata": {
        "id": "view-in-github",
        "colab_type": "text"
      },
      "source": [
        "<a href=\"https://colab.research.google.com/github/uttardepratu/Basic-Python-/blob/main/Assiagment_10.ipynb\" target=\"_parent\"><img src=\"https://colab.research.google.com/assets/colab-badge.svg\" alt=\"Open In Colab\"/></a>"
      ]
    },
    {
      "cell_type": "markdown",
      "source": [
        "1. How do you distinguish between shutil.copy() and shutil.copytree()?\n",
        "\n",
        "Ans.The shutil.copy() function will copy a single file, while shutil.copytree() will copy an entire folder, along with all its contents."
      ],
      "metadata": {
        "id": "079Ru9r7iy8C"
      }
    },
    {
      "cell_type": "markdown",
      "source": [
        "2.Q. What function is used to rename files??"
      ],
      "metadata": {
        "id": "OLIH0GLEjYcz"
      }
    },
    {
      "cell_type": "markdown",
      "source": [
        "Ans. import os\n",
        "os.rename(\"text.txt\",\"testnew.txt\")"
      ],
      "metadata": {
        "id": "twVdD6Isjfcm"
      }
    },
    {
      "cell_type": "markdown",
      "source": [
        "3 Q. What is the difference between the delete functions in the send2trash and shutil modules?\n",
        "\n",
        "Ans. import shutil\n",
        "shutil.retree(): The shutil module’s rmtree() function can be used to delete files or folders. But, this function delete the files permanently. The operations cannot be undone if there were any accidental deletions performed\n",
        "\n",
        "import send2trash\n",
        "\n",
        "send2trash.send2trash() : Using send2trash, we can send files to the Trash or Recycle Bin instead of permanently\n",
        "\n",
        "deleting them. If the directory contains files or other folders, those are also deleted. A TrashPermissionError exception is raised, in case a file could not be deleted due to permission error or any other unexpected reason."
      ],
      "metadata": {
        "id": "0-BJf8KRji6o"
      }
    },
    {
      "cell_type": "code",
      "execution_count": null,
      "metadata": {
        "id": "nGDLt2QIix5F"
      },
      "outputs": [],
      "source": [
        "import shutil\n",
        "import send2trash\n",
        "shutil.rmtree(\"path\")\n",
        "send2trash.send2trash(\"path\")"
      ]
    },
    {
      "cell_type": "markdown",
      "source": [
        "4 Q. ZipFile objects have a close() method just like File objects’ close() method. What ZipFile method is equivalent to File objects’ open() method?\n",
        "\n",
        "Ans. from zipfile import Zipfile\n",
        "with ZipFile(file_name, 'r') as zip: -> this code will open specified zipfile for us. we can use zip object to preform other operation the ziplife. like zip.read()\n"
      ],
      "metadata": {
        "id": "SWFyOh_MkC3H"
      }
    },
    {
      "cell_type": "code",
      "source": [
        "from zipfile import Zipfile\n",
        "with ZipFile(file_name, 'r') as zip"
      ],
      "metadata": {
        "id": "lrfB3BM1jzHZ"
      },
      "execution_count": null,
      "outputs": []
    },
    {
      "cell_type": "markdown",
      "source": [
        "5 Q. Create a programme that searches a folder tree for files with a certain file extension (such as .pdf or .jpg). Copy these files from whatever location they are in to a new folder.\n",
        "\n"
      ],
      "metadata": {
        "id": "TSNJUk9jkYth"
      }
    },
    {
      "cell_type": "code",
      "source": [
        "# Write a program that walks through a folder tree \n",
        "# and searches for files with a certain file extension (such as .pdf or .jpg).\n",
        "# Copy these files from whatever location they are in to a new folder.\n",
        "\n",
        "import os, shutil\n",
        "\n",
        "def selectiveCopy(source, extensions, destination):\n",
        "    folder = os.path.abspath(source)\n",
        "    destination = os.path.abspath(destination)\n",
        "    print('Looking in', source, 'for files with extensions of', ', '.join(extensions))\n",
        "    for foldername, subfolders, filenames in os.walk(source):\n",
        "        for filename in filenames:\n",
        "            name, extension = os.path.splitext(filename)\n",
        "            if extension in extensions:\n",
        "                fileAbsPath = foldername + os.path.sep + filename\n",
        "                print('Coping', fileAbsPath, 'to', destination)\n",
        "                shutil.copy(fileAbsPath, destination)\n",
        "\n",
        "extensions = ['.mp4', '.pdf','.jpg']\n",
        "source = \"C:\\Users\\Shiva000\\Desktop\"\n",
        "destination = \"C:\\Users\\Shiva000\\Desktop\\abc\""
      ],
      "metadata": {
        "id": "HlmmhxMEkLje"
      },
      "execution_count": null,
      "outputs": []
    }
  ]
}
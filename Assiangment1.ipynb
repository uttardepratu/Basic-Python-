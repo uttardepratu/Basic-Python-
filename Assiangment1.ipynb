{
  "nbformat": 4,
  "nbformat_minor": 0,
  "metadata": {
    "colab": {
      "provenance": [],
      "authorship_tag": "ABX9TyMnrV37IEc8m1h+lzI3lC68",
      "include_colab_link": true
    },
    "kernelspec": {
      "name": "python3",
      "display_name": "Python 3"
    },
    "language_info": {
      "name": "python"
    }
  },
  "cells": [
    {
      "cell_type": "markdown",
      "metadata": {
        "id": "view-in-github",
        "colab_type": "text"
      },
      "source": [
        "<a href=\"https://colab.research.google.com/github/uttardepratu/Basic-Python-/blob/main/Assiangment1.ipynb\" target=\"_parent\"><img src=\"https://colab.research.google.com/assets/colab-badge.svg\" alt=\"Open In Colab\"/></a>"
      ]
    },
    {
      "cell_type": "markdown",
      "source": [
        "1. In the below elements which of them are values or an expression? eg:- values can be integer or string and expressions will be mathematical operators.\n",
        "- * \n",
        "-'hello'\n",
        "-87.8\n",
        "- / \n",
        "- +\n",
        "-6 \n",
        "- -\n",
        "   "
      ],
      "metadata": {
        "id": "QxoWh6hDScq7"
      }
    },
    {
      "cell_type": "code",
      "source": [
        "#Ans. Values: 'hello', 87.8, 6\n",
        "\n",
        "#Expression: *,/,+,-"
      ],
      "metadata": {
        "id": "cvrzSjRkSqXj"
      },
      "execution_count": null,
      "outputs": []
    },
    {
      "cell_type": "markdown",
      "source": [
        "2.What is the difference between string and variable?"
      ],
      "metadata": {
        "id": "UhuQSUhXTE7Z"
      }
    },
    {
      "cell_type": "code",
      "source": [
        "#Ans.Variable: It is container, when we put value. eg. x=2, here x is a variable(container) contain value 2.\n",
        "\n",
        "#Strings: It is a text values composed of a sequence of characters. and string always coated with double or single coat. \n",
        "#eg. \"Pratiksha\", here my name pratiksha is a string value."
      ],
      "metadata": {
        "id": "Uje35EqxSxdJ"
      },
      "execution_count": null,
      "outputs": []
    },
    {
      "cell_type": "markdown",
      "source": [
        "3.Describe three different data types.\n",
        "\n",
        "Ans. In python programming we have Built In Datatype and user defined datatype...\n",
        "\n",
        "-Built In Datatype: 1.strings 2.List 3.Tuple 4.Range 5.Numeric 6.Sets 7.None\n",
        "\n",
        "1.List:It is a datatype contains string, integer, operators, etc and separated by comma and use a square brackets. it is a mutable.\n",
        "\n",
        "2.None:The variable are not assiagned by any value.\n",
        "\n",
        "3.Tuple:It is same like List but it is immutable. It is a datatype contains string, integer, operators, etc and separated by comma and use a open brackets.\n",
        "\n"
      ],
      "metadata": {
        "id": "ws5PZhTaTY8I"
      }
    },
    {
      "cell_type": "markdown",
      "source": [
        "4. What is an expression made up of? What do all expressions do?\n",
        "\n",
        "Ans. An expression is made up of identifiers, operators, and operands.\n",
        "An identifier is a name that is used to define and identify a class, variable, or function in Python.\n",
        "An operand is an object that is operated on. \n",
        "operator is a special symbol that performs the arithmetic or logical computations on the operands."
      ],
      "metadata": {
        "id": "5NLbCKDuT6H3"
      }
    },
    {
      "cell_type": "code",
      "source": [
        "#eg. below is one expression we make from x, y operands and addition operator\n",
        "x = 10\n",
        "y = 5\n",
        "\n",
        "addition = x + y\n",
        "print(addition)"
      ],
      "metadata": {
        "colab": {
          "base_uri": "https://localhost:8080/"
        },
        "id": "qNmTUgoTTQZy",
        "outputId": "928a9698-44a1-47a7-d16a-89faa8c2a0be"
      },
      "execution_count": null,
      "outputs": [
        {
          "output_type": "stream",
          "name": "stdout",
          "text": [
            "15\n"
          ]
        }
      ]
    },
    {
      "cell_type": "markdown",
      "source": [
        "5.This assignment statements, like spam = 10. What is the difference between an expression and a statement?\n",
        "Expression:The expression in Python produces some value or result after being interpreted by the Python interpreter. An expression in Python is a combination of operators and input value.\n",
        "\n",
        "Statement: A statement is not evaluated for some results. A statement is used for creating variables or for displaying values."
      ],
      "metadata": {
        "id": "rRZYJY16UXFn"
      }
    },
    {
      "cell_type": "code",
      "source": [
        "#statement\n",
        "spam=10\n",
        "#Expression is suppose x\n",
        "x=spam+10\n",
        "\n",
        "print(x)"
      ],
      "metadata": {
        "colab": {
          "base_uri": "https://localhost:8080/"
        },
        "id": "H3v3s-ziUgeJ",
        "outputId": "d3a8f555-86a8-4200-dfaa-6ffcc8732f71"
      },
      "execution_count": null,
      "outputs": [
        {
          "output_type": "stream",
          "name": "stdout",
          "text": [
            "20\n"
          ]
        }
      ]
    },
    {
      "cell_type": "markdown",
      "source": [
        "6.After running the following code, what does the variable bacon contain?"
      ],
      "metadata": {
        "id": "g0MeGprVUmb3"
      }
    },
    {
      "cell_type": "code",
      "source": [
        "bacon = 22\n",
        "bacon + 1"
      ],
      "metadata": {
        "colab": {
          "base_uri": "https://localhost:8080/"
        },
        "id": "drB8276mUljY",
        "outputId": "2ff2db2b-134a-4ec6-9fbf-f348f85d4e9a"
      },
      "execution_count": null,
      "outputs": [
        {
          "output_type": "execute_result",
          "data": {
            "text/plain": [
              "23"
            ]
          },
          "metadata": {},
          "execution_count": 7
        }
      ]
    },
    {
      "cell_type": "code",
      "source": [
        "print(bacon)"
      ],
      "metadata": {
        "colab": {
          "base_uri": "https://localhost:8080/"
        },
        "id": "f2HRcwewUhR4",
        "outputId": "967ca7bc-afb3-4a09-cfb2-e200704d1e0d"
      },
      "execution_count": null,
      "outputs": [
        {
          "output_type": "stream",
          "name": "stdout",
          "text": [
            "22\n"
          ]
        }
      ]
    },
    {
      "cell_type": "markdown",
      "source": [
        "still bacon variable contain 22, bcz we r not store (bacon + 1) in that variable."
      ],
      "metadata": {
        "id": "FZndr-SXU65q"
      }
    },
    {
      "cell_type": "markdown",
      "source": [
        "7.What should the values of the following two terms be?"
      ],
      "metadata": {
        "id": "KsxP0iwuVDbM"
      }
    },
    {
      "cell_type": "code",
      "source": [
        "x='spam' + 'spamspam'\n",
        "y='spam' * 3"
      ],
      "metadata": {
        "id": "AjStI-SmVFQF"
      },
      "execution_count": null,
      "outputs": []
    },
    {
      "cell_type": "code",
      "source": [
        "print(x, y)"
      ],
      "metadata": {
        "colab": {
          "base_uri": "https://localhost:8080/"
        },
        "id": "EEuQAqJtVQng",
        "outputId": "346da9b6-c258-43e2-a5a1-cf78601a4d08"
      },
      "execution_count": null,
      "outputs": [
        {
          "output_type": "stream",
          "name": "stdout",
          "text": [
            "spamspamspam spamspamspam\n"
          ]
        }
      ]
    },
    {
      "cell_type": "markdown",
      "source": [
        "so the output of both x and y are same. bcz the operator are different but works similar in this case."
      ],
      "metadata": {
        "id": "s2VGOm8gVfH9"
      }
    },
    {
      "cell_type": "markdown",
      "source": [
        "8. Why is eggs a valid variable name while 100 is invalid?\n",
        "\n",
        "Ans. Because we can not use integer as a variable.or\n",
        "We should not use reseve numbers/digits as a variable."
      ],
      "metadata": {
        "id": "j697krsGV07w"
      }
    },
    {
      "cell_type": "code",
      "source": [
        "eggs=2+5\n",
        "eggs"
      ],
      "metadata": {
        "colab": {
          "base_uri": "https://localhost:8080/"
        },
        "id": "_A4UXQ1GVV1L",
        "outputId": "0b899575-80f4-4ef0-c1bf-d72acdfc993d"
      },
      "execution_count": null,
      "outputs": [
        {
          "output_type": "execute_result",
          "data": {
            "text/plain": [
              "7"
            ]
          },
          "metadata": {},
          "execution_count": 11
        }
      ]
    },
    {
      "cell_type": "code",
      "source": [
        "100=2+5\n",
        "100"
      ],
      "metadata": {
        "colab": {
          "base_uri": "https://localhost:8080/",
          "height": 135
        },
        "id": "k8CFnjNPWXKI",
        "outputId": "547385d0-06ec-46f6-e2fb-c38e7b6ab380"
      },
      "execution_count": null,
      "outputs": [
        {
          "output_type": "error",
          "ename": "SyntaxError",
          "evalue": "ignored",
          "traceback": [
            "\u001b[0;36m  File \u001b[0;32m\"<ipython-input-12-23d43d1c57c2>\"\u001b[0;36m, line \u001b[0;32m1\u001b[0m\n\u001b[0;31m    100=2+5\u001b[0m\n\u001b[0m    ^\u001b[0m\n\u001b[0;31mSyntaxError\u001b[0m\u001b[0;31m:\u001b[0m cannot assign to literal here. Maybe you meant '==' instead of '='?\n"
          ]
        }
      ]
    },
    {
      "cell_type": "markdown",
      "source": [
        "9.What three functions can be used to get the integer, floating-point number, or string version of a value?\n",
        "\n",
        "Ans. the functions we require to get integer is int(), to get floating_point number is float(), and for getting string function used is str()"
      ],
      "metadata": {
        "id": "78PVX0eyWjP8"
      }
    },
    {
      "cell_type": "code",
      "source": [
        "float(100)"
      ],
      "metadata": {
        "colab": {
          "base_uri": "https://localhost:8080/"
        },
        "id": "D0Fgs7cPJCQ5",
        "outputId": "5ec2c687-f33e-420c-88d0-595b78834a6f"
      },
      "execution_count": 1,
      "outputs": [
        {
          "output_type": "execute_result",
          "data": {
            "text/plain": [
              "100.0"
            ]
          },
          "metadata": {},
          "execution_count": 1
        }
      ]
    },
    {
      "cell_type": "code",
      "source": [
        "v=100\n",
        "integer=int(v)\n",
        "float_pt= float(v)\n",
        "string=str(v)\n",
        "print(integer, float_pt, string)"
      ],
      "metadata": {
        "colab": {
          "base_uri": "https://localhost:8080/"
        },
        "id": "OUratjfVYpUn",
        "outputId": "554d13a3-d995-4dc5-afa6-99c37c55e5d1"
      },
      "execution_count": 2,
      "outputs": [
        {
          "output_type": "stream",
          "name": "stdout",
          "text": [
            "100 100.0 100\n"
          ]
        }
      ]
    },
    {
      "cell_type": "markdown",
      "source": [
        "this is in jupyter noebook.\n",
        "\n",
        "![Screenshot (757).png](data:image/png;base64,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)"
      ],
      "metadata": {
        "id": "N2VVSniefzo8"
      }
    },
    {
      "cell_type": "markdown",
      "source": [
        "10. Why does this expression cause an error? How can you fix it?"
      ],
      "metadata": {
        "id": "1X85DsKXeeOS"
      }
    },
    {
      "cell_type": "code",
      "source": [
        "'I have eaten ' + 99 + ' burritos.'"
      ],
      "metadata": {
        "id": "xpGWPzhwdH5H",
        "colab": {
          "base_uri": "https://localhost:8080/",
          "height": 171
        },
        "outputId": "595d55de-c065-4e6e-8963-62bb7e45086a"
      },
      "execution_count": null,
      "outputs": [
        {
          "output_type": "error",
          "ename": "TypeError",
          "evalue": "ignored",
          "traceback": [
            "\u001b[0;31m---------------------------------------------------------------------------\u001b[0m",
            "\u001b[0;31mTypeError\u001b[0m                                 Traceback (most recent call last)",
            "\u001b[0;32m<ipython-input-36-d24137131a5c>\u001b[0m in \u001b[0;36m<cell line: 1>\u001b[0;34m()\u001b[0m\n\u001b[0;32m----> 1\u001b[0;31m \u001b[0;34m'I have eaten '\u001b[0m \u001b[0;34m+\u001b[0m \u001b[0;36m99\u001b[0m \u001b[0;34m+\u001b[0m \u001b[0;34m' burritos.'\u001b[0m\u001b[0;34m\u001b[0m\u001b[0;34m\u001b[0m\u001b[0m\n\u001b[0m",
            "\u001b[0;31mTypeError\u001b[0m: can only concatenate str (not \"int\") to str"
          ]
        }
      ]
    },
    {
      "cell_type": "code",
      "source": [
        "'I have eaten ' + '99' + ' burritos.'"
      ],
      "metadata": {
        "colab": {
          "base_uri": "https://localhost:8080/",
          "height": 36
        },
        "id": "kJTX2kVfeora",
        "outputId": "d6cdff6a-7ecc-413e-9b27-d94a0cdbe4fc"
      },
      "execution_count": null,
      "outputs": [
        {
          "output_type": "execute_result",
          "data": {
            "text/plain": [
              "'I have eaten 99 burritos.'"
            ],
            "application/vnd.google.colaboratory.intrinsic+json": {
              "type": "string"
            }
          },
          "metadata": {},
          "execution_count": 37
        }
      ]
    },
    {
      "cell_type": "code",
      "source": [],
      "metadata": {
        "id": "ojM8gucLerde"
      },
      "execution_count": null,
      "outputs": []
    }
  ]
}
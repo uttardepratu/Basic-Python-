{
  "nbformat": 4,
  "nbformat_minor": 0,
  "metadata": {
    "colab": {
      "provenance": [],
      "authorship_tag": "ABX9TyP/7a/3hgTRXnIPR2gyod3h",
      "include_colab_link": true
    },
    "kernelspec": {
      "name": "python3",
      "display_name": "Python 3"
    },
    "language_info": {
      "name": "python"
    }
  },
  "cells": [
    {
      "cell_type": "markdown",
      "metadata": {
        "id": "view-in-github",
        "colab_type": "text"
      },
      "source": [
        "<a href=\"https://colab.research.google.com/github/uttardepratu/Basic-Python-/blob/main/Assignment_25.ipynb\" target=\"_parent\"><img src=\"https://colab.research.google.com/assets/colab-badge.svg\" alt=\"Open In Colab\"/></a>"
      ]
    },
    {
      "cell_type": "markdown",
      "source": [
        "1) . What is the difference between enclosing a list comprehension in square brackets and parentheses?"
      ],
      "metadata": {
        "id": "61MpBTaIPsYK"
      }
    },
    {
      "cell_type": "code",
      "execution_count": 1,
      "metadata": {
        "colab": {
          "base_uri": "https://localhost:8080/"
        },
        "id": "p3kl5BICPlNN",
        "outputId": "7c06fee7-0a13-4b26-a3ce-cd2a9bdb687c"
      },
      "outputs": [
        {
          "output_type": "execute_result",
          "data": {
            "text/plain": [
              "[0, 1, 2, 3, 4, 5, 6, 7, 8, 9]"
            ]
          },
          "metadata": {},
          "execution_count": 1
        }
      ],
      "source": [
        "lst = [i for i in range(10)]\n",
        "lst\n",
        "#List Comprehension with square brackets produces list.\n",
        "#List Comprehension with parentheses creates generators"
      ]
    },
    {
      "cell_type": "code",
      "source": [
        "#If you are familiar with list comprehensions, then this look likes it might create a tuple which is (1,2,3,4,....),\n",
        "#but it is actually a generator expression - this expression is a one time only iterator which will yield the values 1, 2, 3, 4.... in that order\n",
        "\n",
        "lstParanthesis = (i for i in range(10))\n",
        "lstParanthesis"
      ],
      "metadata": {
        "colab": {
          "base_uri": "https://localhost:8080/"
        },
        "id": "A0GBnTeTQJUx",
        "outputId": "ca2e9a9a-9d0e-4c86-8316-49f522a83ecc"
      },
      "execution_count": 2,
      "outputs": [
        {
          "output_type": "execute_result",
          "data": {
            "text/plain": [
              "<generator object <genexpr> at 0x7f9365711cb0>"
            ]
          },
          "metadata": {},
          "execution_count": 2
        }
      ]
    },
    {
      "cell_type": "code",
      "source": [
        "list(lstParanthesis)"
      ],
      "metadata": {
        "colab": {
          "base_uri": "https://localhost:8080/"
        },
        "id": "2yuLF0k5QWbw",
        "outputId": "cc6c44f8-228e-41cd-91d7-5a9e9dad530f"
      },
      "execution_count": 3,
      "outputs": [
        {
          "output_type": "execute_result",
          "data": {
            "text/plain": [
              "[0, 1, 2, 3, 4, 5, 6, 7, 8, 9]"
            ]
          },
          "metadata": {},
          "execution_count": 3
        }
      ]
    },
    {
      "cell_type": "markdown",
      "source": [
        "2 Q. What is the relationship between generators and iterators?\n",
        "\n",
        "Ans. An iterator is an object which contains a countable number of values and it is used to iterate over iterable objects like list, tuples etc\n",
        "Using an iterator- iter() keyword is used to create an iterator containing an iterable object. next() keyword is used to call the next element in the iterable object.\n",
        "\n",
        "Generator\n",
        "It is another way of creating iterators in a simple way where it uses the keyword “yield” instead of returning it in a defined function Generators are implemented using a function Here, the yield function returns the data without affecting or exiting the function. It will return a sequence of data in an iterable format where we need to iterate over the sequence to use the data as they won’t store the entire sequence in the memory By using next() function we can iterate the output of generator function."
      ],
      "metadata": {
        "id": "YJBg9fdMQeSe"
      }
    },
    {
      "cell_type": "code",
      "source": [
        "# iterator\n",
        "iter_list = iter(['Dog', 'CAt', 'Bear'])\n",
        "print(next(iter_list))\n",
        "print(next(iter_list))\n",
        "print(next(iter_list))"
      ],
      "metadata": {
        "colab": {
          "base_uri": "https://localhost:8080/"
        },
        "id": "9tvXjGweQZ4h",
        "outputId": "58686b44-b66c-41bb-e0e1-7fb5820b047f"
      },
      "execution_count": 4,
      "outputs": [
        {
          "output_type": "stream",
          "name": "stdout",
          "text": [
            "Dog\n",
            "CAt\n",
            "Bear\n"
          ]
        }
      ]
    },
    {
      "cell_type": "code",
      "source": [
        "# GEnerator\n",
        "\n",
        "def sq(n):\n",
        "    for i in range(1, n+1):\n",
        "        yield i*i"
      ],
      "metadata": {
        "id": "H9PNcsA6QnoF"
      },
      "execution_count": 11,
      "outputs": []
    },
    {
      "cell_type": "code",
      "source": [
        "sq(6)"
      ],
      "metadata": {
        "colab": {
          "base_uri": "https://localhost:8080/"
        },
        "id": "41XThpUAQtQj",
        "outputId": "f9879dd1-69df-42f4-8876-de3849f5461e"
      },
      "execution_count": 12,
      "outputs": [
        {
          "output_type": "execute_result",
          "data": {
            "text/plain": [
              "<generator object sq at 0x7f93551ef1b0>"
            ]
          },
          "metadata": {},
          "execution_count": 12
        }
      ]
    },
    {
      "cell_type": "code",
      "source": [
        "lst = sq(6)\n",
        "lst"
      ],
      "metadata": {
        "colab": {
          "base_uri": "https://localhost:8080/"
        },
        "id": "p5Vb64PoQ1wZ",
        "outputId": "c8495f8a-3d68-4465-cb6d-f861ba9d11fe"
      },
      "execution_count": 7,
      "outputs": [
        {
          "output_type": "execute_result",
          "data": {
            "text/plain": [
              "<generator object sq at 0x7f93657122d0>"
            ]
          },
          "metadata": {},
          "execution_count": 7
        }
      ]
    },
    {
      "cell_type": "code",
      "source": [
        "print(next(lst))\n",
        "print(next(lst))\n",
        "print(next(lst))\n",
        "print(next(lst))\n",
        ""
      ],
      "metadata": {
        "colab": {
          "base_uri": "https://localhost:8080/"
        },
        "id": "uL2QENR0Q_Z1",
        "outputId": "dc516bb4-6e4e-4713-d7f5-a9ca6f50dffb"
      },
      "execution_count": 8,
      "outputs": [
        {
          "output_type": "stream",
          "name": "stdout",
          "text": [
            "1\n",
            "4\n",
            "9\n",
            "16\n"
          ]
        }
      ]
    },
    {
      "cell_type": "markdown",
      "source": [
        "3 Q. What are the signs that a function is a generator function?\n",
        "\n",
        "Ans. If a function contains at least one yield statement (it may contain other yield or return statements), it becomes a generator function. Both yield and return will return some value from a function."
      ],
      "metadata": {
        "id": "yO6fGGQjRFiS"
      }
    },
    {
      "cell_type": "markdown",
      "source": [
        "4 Q. What is the purpose of a yield statement?\n",
        "\n",
        "Ans. A yield statement looks much like a return statement, except that instead of stopping execution of the function and\n",
        "returning, yield instead provides a value to the code looping over the generator and pauses execution of the generator function"
      ],
      "metadata": {
        "id": "pSWbmU7nRJ4C"
      }
    },
    {
      "cell_type": "markdown",
      "source": [
        "5 Q. What is the relationship between map calls and list comprehensions? Make a comparison and contrast between the two.\n",
        "\n",
        "Ans.\n",
        "\n",
        "Map function:\n",
        "Suppose we have a function and we want to compute this function for different values in a single line of code . This is where map() function plays its role. map() function returns a map object(which is an iterator) of the results after applying the given function to each item of a given iterable (list, tuple etc.)\n",
        "\n",
        "If we already have a function defined, it is often good to use map For example, map(sum, myLists) is more neat than [sum(x) for x in myLists]. You gain the elegance of not having to make up a dummy variable (e.g. sum(x) for x... or sum(_) for _... or sum(readableName) for readableName...) which you have to type twice, just to iterate.\n",
        "List Comprehension:\n",
        "\n",
        "List Comprehension is a substitute for the lambda function, map(), filter() and reduce()\n",
        "\n",
        "Comparision :\n",
        "1.List comprehension is more concise and easier to read as compared to map\n",
        "\n",
        "2.List comprehension allows filtering. In map, we have no such facility\n",
        "For example, to print all even numbers in range of 100, we can write [n for n in range(100) if n%2 == 0]. There is no alternate for it in map\n",
        "\n",
        "3.List comprehension are used when a list of results is required, where as map only returns a map object and does not return any list.\n",
        "\n",
        "4.List comprehension is faster than map when we need to evaluate expressions that are too long or complicated to express 5. Map is faster in case of calling an already defined function (as no lambda is required).\n"
      ],
      "metadata": {
        "id": "7w1qS0oOROBB"
      }
    },
    {
      "cell_type": "code",
      "source": [],
      "metadata": {
        "id": "yit5WdUZRAOg"
      },
      "execution_count": null,
      "outputs": []
    }
  ]
}
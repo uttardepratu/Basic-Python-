{
  "nbformat": 4,
  "nbformat_minor": 0,
  "metadata": {
    "colab": {
      "provenance": [],
      "authorship_tag": "ABX9TyMq/i5cesw5lzjM6Hqf2REK",
      "include_colab_link": true
    },
    "kernelspec": {
      "name": "python3",
      "display_name": "Python 3"
    },
    "language_info": {
      "name": "python"
    }
  },
  "cells": [
    {
      "cell_type": "markdown",
      "metadata": {
        "id": "view-in-github",
        "colab_type": "text"
      },
      "source": [
        "<a href=\"https://colab.research.google.com/github/uttardepratu/Basic-Python-/blob/main/Prog_Ass_17.ipynb\" target=\"_parent\"><img src=\"https://colab.research.google.com/assets/colab-badge.svg\" alt=\"Open In Colab\"/></a>"
      ]
    },
    {
      "cell_type": "markdown",
      "source": [
        "Question1. Create a function that takes three arguments a, b, c and returns the sum of the numbers that are evenly divided by c from the range a, b inclusive.\n",
        "\n",
        "Examples\n",
        "evenly_divisible(1, 10, 20) ➞ 0\n",
        "# No number between 1 and 10 can be evenly divided by 20.\n",
        "\n",
        "evenly_divisible(1, 10, 2) ➞ 30\n",
        "# 2 + 4 + 6 + 8 + 10 = 30\n",
        "\n",
        "evenly_divisible(1, 10, 3) ➞ 18\n",
        "# 3 + 6 + 9 = 18\n"
      ],
      "metadata": {
        "id": "o5FTGmzETRRG"
      }
    },
    {
      "cell_type": "code",
      "execution_count": null,
      "metadata": {
        "colab": {
          "base_uri": "https://localhost:8080/"
        },
        "id": "1g_Xii7BTDGC",
        "outputId": "f25181d2-2f1c-49bd-f061-6547304c5c16"
      },
      "outputs": [
        {
          "output_type": "stream",
          "name": "stdout",
          "text": [
            "30\n"
          ]
        }
      ],
      "source": [
        "def evenly_divisible(a,b,c):\n",
        "\n",
        "    sum= 0\n",
        "\n",
        "    # Find sum of num in bet a and b divisible by c\n",
        "    for i in range(a,b+1):\n",
        "      if (i % c == 0):\n",
        "        sum += i\n",
        "    return sum\n",
        "\n",
        "# Driver code\n",
        "if __name__ == '__main__':\n",
        "  a=1\n",
        "  b=10\n",
        "  c=2\n",
        "\n",
        "print(evenly_divisible(a,b,c))"
      ]
    },
    {
      "cell_type": "code",
      "source": [
        "def evenly_divisible(a,b,c):\n",
        "\n",
        "    sum= 0\n",
        "\n",
        "    # Find sum of num in bet a and b divisible by c\n",
        "    for i in range(a,b+1):\n",
        "      if (i % c == 0):\n",
        "        sum += i\n",
        "    return sum\n",
        "\n",
        "# Driver code\n",
        "if __name__ == '__main__':\n",
        "  a=1\n",
        "  b=10\n",
        "  c=3\n",
        "\n",
        "print(evenly_divisible(a,b,c))"
      ],
      "metadata": {
        "colab": {
          "base_uri": "https://localhost:8080/"
        },
        "id": "R856oGTuW9-E",
        "outputId": "73e6ac2b-e465-47f8-c9c2-8e4988204b69"
      },
      "execution_count": null,
      "outputs": [
        {
          "output_type": "stream",
          "name": "stdout",
          "text": [
            "18\n"
          ]
        }
      ]
    },
    {
      "cell_type": "code",
      "source": [
        "def evenly_divisible(a,b,c):\n",
        "\n",
        "    sum= 0\n",
        "\n",
        "    # Find sum of num in bet a and b divisible by c\n",
        "    for i in range(a,b+1):\n",
        "      if (i % c == 0):\n",
        "        sum += i\n",
        "    return sum\n",
        "\n",
        "# Driver code\n",
        "if __name__ == '__main__':\n",
        "  a=1\n",
        "  b=10\n",
        "  c=20\n",
        "\n",
        "print(evenly_divisible(a,b,c))"
      ],
      "metadata": {
        "colab": {
          "base_uri": "https://localhost:8080/"
        },
        "id": "2uoVX7HAZpu4",
        "outputId": "06e8b026-d1dc-4c81-edcd-0a8228e635e0"
      },
      "execution_count": null,
      "outputs": [
        {
          "output_type": "stream",
          "name": "stdout",
          "text": [
            "0\n"
          ]
        }
      ]
    },
    {
      "cell_type": "markdown",
      "source": [
        "Question2. Create a function that returns True if a given inequality expression is correct and False otherwise.\n",
        "\n",
        "Examples\n",
        "correct_signs(\"3 < 7 < 11\") ➞ True\n",
        "\n",
        "correct_signs(\"13 > 44 > 33 > 1\") ➞ False\n",
        "\n",
        "correct_signs(\"1 < 2 < 6 < 9 > 3\") ➞ True\n"
      ],
      "metadata": {
        "id": "vn-pPAioZtpX"
      }
    },
    {
      "cell_type": "code",
      "source": [
        "def correct_signs ( txt ) :\n",
        "  return eval ( txt )\n",
        "print(correct_signs(\"3 < 7 < 11\"))\n",
        "print(correct_signs(\"13 > 44 > 33 > 1\"))\n",
        "print(correct_signs(\"1 < 2 < 6 < 9 > 3\"))"
      ],
      "metadata": {
        "colab": {
          "base_uri": "https://localhost:8080/"
        },
        "id": "MMWv7O0ebyAv",
        "outputId": "2df233d3-8883-41cc-f4e0-5f98a8a7f1d1"
      },
      "execution_count": null,
      "outputs": [
        {
          "output_type": "stream",
          "name": "stdout",
          "text": [
            "True\n",
            "False\n",
            "True\n"
          ]
        }
      ]
    },
    {
      "cell_type": "markdown",
      "source": [
        "Question3. Create a function that replaces all the vowels in a string with a specified character.\n",
        "\n",
        "Examples\n",
        "\n",
        "replace_vowels(\"the aardvark\", \"#\") ➞ \"th# ##rdv#rk\"\n",
        "\n",
        "replace_vowels(\"minnie mouse\", \"?\") ➞ \"m?nn?? m??s?\"\n",
        "\n",
        "replace_vowels(\"shakespeare\", \"*\") ➞ \"sh*k*sp**r*\""
      ],
      "metadata": {
        "id": "itG5K1svcHNn"
      }
    },
    {
      "cell_type": "code",
      "source": [
        "def replace_vowels(txt,char):\n",
        "\n",
        "  vowels='aeiou'\n",
        "  for i in vowels:\n",
        "    txt=txt.replace(i,char)\n",
        "    return txt\n",
        "\n",
        "# Driver code\n",
        "if __name__ == \"__main__\" :\n",
        "\n",
        "    # length of a side.\n",
        "    txt=\"the aardvark\"\n",
        "    char=\"#\"\n",
        "\n",
        "print(replace_vowels(txt,char))"
      ],
      "metadata": {
        "colab": {
          "base_uri": "https://localhost:8080/"
        },
        "id": "6T1bcA4k-HmU",
        "outputId": "6d8f24d7-930b-4c73-e2b0-8d073abfdf6c"
      },
      "execution_count": 16,
      "outputs": [
        {
          "output_type": "stream",
          "name": "stdout",
          "text": [
            "the ##rdv#rk\n"
          ]
        }
      ]
    },
    {
      "cell_type": "code",
      "source": [
        "def replace_vowel(str, s):\n",
        "    vowel = 'AEIOUaeiou'\n",
        "    for ele in vowel:\n",
        "      str = str.replace(ele, s)\n",
        "    return str\n",
        "\n",
        "input_str = input(\"enter a string : \")\n",
        "s = input(\"enter a vowel replacing string : \")\n",
        "print(\"\\nGiven Sting:\", input_str)\n",
        "print(\"Given Specified Character:\", s)\n",
        "print(\"Afer replacing vowels with the specified character:\",replace_vowel(input_str, s))"
      ],
      "metadata": {
        "colab": {
          "base_uri": "https://localhost:8080/"
        },
        "id": "cHNAVbb3AnHw",
        "outputId": "4a8d7e6f-6449-4d5f-db9f-f1b3fe54ca70"
      },
      "execution_count": 11,
      "outputs": [
        {
          "output_type": "stream",
          "name": "stdout",
          "text": [
            "enter a string : \"minnie mouse\"\n",
            "enter a vowel replacing string : ?\n",
            "\n",
            "Given Sting: \"minnie mouse\"\n",
            "Given Specified Character: ?\n",
            "Afer replacing vowels with the specified character: \"m?nn?? m??s?\"\n"
          ]
        }
      ]
    },
    {
      "cell_type": "markdown",
      "source": [
        "Question4. Write a function that calculates the factorial of a number recursively.\n",
        "\n",
        "Examples\n",
        "factorial(5) ➞ 120\n",
        "\n",
        "factorial(3) ➞ 6\n",
        "\n",
        "factorial(1) ➞ 1\n",
        "\n",
        "factorial(0) ➞ 1\n"
      ],
      "metadata": {
        "id": "uP97TiKXCO25"
      }
    },
    {
      "cell_type": "code",
      "source": [
        "def factorial(n):\n",
        "  fact = 1\n",
        "  for i in range(1, n+1):\n",
        "    fact = fact * i\n",
        "  return fact\n",
        "\n",
        "# Driver code\n",
        "if __name__ == \"__main__\" :\n",
        "\n",
        "  n=3\n",
        "print(factorial(n))"
      ],
      "metadata": {
        "colab": {
          "base_uri": "https://localhost:8080/"
        },
        "id": "2ymF53phCQrw",
        "outputId": "212f68d2-19d5-48ee-8001-15cde383474c"
      },
      "execution_count": 19,
      "outputs": [
        {
          "output_type": "stream",
          "name": "stdout",
          "text": [
            "6\n"
          ]
        }
      ]
    },
    {
      "cell_type": "code",
      "source": [
        "def factorial(n):\n",
        "  fact = 1\n",
        "  for i in range(1, n+1):\n",
        "    fact = fact * i\n",
        "  return fact\n",
        "\n",
        "# Driver code\n",
        "if __name__ == \"__main__\" :\n",
        "\n",
        "  n=5\n",
        "print(factorial(n))"
      ],
      "metadata": {
        "colab": {
          "base_uri": "https://localhost:8080/"
        },
        "id": "hfyfp_HHGgnt",
        "outputId": "f03ce5d5-a37c-46e4-9ed7-e8bd1ef2d390"
      },
      "execution_count": 20,
      "outputs": [
        {
          "output_type": "stream",
          "name": "stdout",
          "text": [
            "120\n"
          ]
        }
      ]
    },
    {
      "cell_type": "markdown",
      "source": [
        "Question 5\n",
        "Hamming distance is the number of characters that differ between two strings.\n",
        "\n",
        "To illustrate:\n",
        "\n",
        "String1: \"abcbba\"\n",
        "\n",
        "String2: \"abcbda\"\n",
        "\n",
        "Hamming Distance: 1 - \"b\" vs. \"d\" is the only difference.\n",
        "Create a function that computes the hamming distance between two strings.\n",
        "Examples\n",
        "\n",
        "hamming_distance(\"abcde\", \"bcdef\") ➞ 5\n",
        "\n",
        "hamming_distance(\"abcde\", \"abcde\") ➞ 0\n",
        "\n",
        "hamming_distance(\"strong\", \"strung\") ➞ 1\n",
        "\n",
        "\n"
      ],
      "metadata": {
        "id": "tyrDrE_-G04a"
      }
    },
    {
      "cell_type": "code",
      "source": [
        "def hamming_distance(str1, str2):\n",
        "    i = 0\n",
        "    count = 0\n",
        "\n",
        "    while(i < len(str1)):\n",
        "        if(str1[i] != str2[i]):\n",
        "            count += 1\n",
        "        i += 1\n",
        "    return count\n",
        "\n",
        "# Driver code\n",
        "str1 = \"abcde\"\n",
        "str2 = \"bcdef\"\n",
        "\n",
        "# function call\n",
        "print(hamming_distance(str1, str2))"
      ],
      "metadata": {
        "colab": {
          "base_uri": "https://localhost:8080/"
        },
        "id": "mpXrKck2G5gf",
        "outputId": "c3c2a306-0ee9-4c1c-d1ba-e726635ab875"
      },
      "execution_count": 21,
      "outputs": [
        {
          "output_type": "stream",
          "name": "stdout",
          "text": [
            "5\n"
          ]
        }
      ]
    },
    {
      "cell_type": "code",
      "source": [
        "def hamming_distance(str1, str2):\n",
        "    i = 0\n",
        "    count = 0\n",
        "\n",
        "    while(i < len(str1)):\n",
        "        if(str1[i] != str2[i]):\n",
        "            count += 1\n",
        "        i += 1\n",
        "    return count\n",
        "\n",
        "# Driver code\n",
        "str1 = \"strong\"\n",
        "str2 = \"strung\"\n",
        "\n",
        "# function call\n",
        "print(hamming_distance(str1, str2))"
      ],
      "metadata": {
        "colab": {
          "base_uri": "https://localhost:8080/"
        },
        "id": "XfThIz9LHbMH",
        "outputId": "92895f0e-8127-4120-9dab-a8d8c14fbc63"
      },
      "execution_count": 22,
      "outputs": [
        {
          "output_type": "stream",
          "name": "stdout",
          "text": [
            "1\n"
          ]
        }
      ]
    }
  ]
}
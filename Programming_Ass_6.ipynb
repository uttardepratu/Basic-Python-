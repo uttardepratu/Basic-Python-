{
  "nbformat": 4,
  "nbformat_minor": 0,
  "metadata": {
    "colab": {
      "provenance": [],
      "authorship_tag": "ABX9TyNbQoN35zVJFQ+4Qa7X1L1n",
      "include_colab_link": true
    },
    "kernelspec": {
      "name": "python3",
      "display_name": "Python 3"
    },
    "language_info": {
      "name": "python"
    }
  },
  "cells": [
    {
      "cell_type": "markdown",
      "metadata": {
        "id": "view-in-github",
        "colab_type": "text"
      },
      "source": [
        "<a href=\"https://colab.research.google.com/github/uttardepratu/Basic-Python-/blob/main/Programming_Ass_6.ipynb\" target=\"_parent\"><img src=\"https://colab.research.google.com/assets/colab-badge.svg\" alt=\"Open In Colab\"/></a>"
      ]
    },
    {
      "cell_type": "markdown",
      "source": [
        "1.\tWrite a Python Program to Display Fibonacci Sequence Using Recursion?"
      ],
      "metadata": {
        "id": "76oSeXwmwS5H"
      }
    },
    {
      "cell_type": "code",
      "execution_count": null,
      "metadata": {
        "colab": {
          "base_uri": "https://localhost:8080/"
        },
        "id": "7fnLwJ9UwNAi",
        "outputId": "15c08f9e-219c-4b1d-f61b-9c4564d1d6be"
      },
      "outputs": [
        {
          "output_type": "stream",
          "name": "stdout",
          "text": [
            "Fibonacci sequence:\n",
            "0\n",
            "1\n",
            "1\n",
            "2\n",
            "3\n",
            "5\n",
            "8\n",
            "13\n",
            "21\n",
            "34\n"
          ]
        }
      ],
      "source": [
        "# Python program to display the Fibonacci sequence\n",
        "\n",
        "def recur_fibo(n):\n",
        "   if n <= 1:\n",
        "       return n\n",
        "   else:\n",
        "       return(recur_fibo(n-1) + recur_fibo(n-2))\n",
        "\n",
        "nterms = 10\n",
        "\n",
        "# check if the number of terms is valid\n",
        "if nterms <= 0:\n",
        "   print(\"Plese enter a positive integer\")\n",
        "else:\n",
        "   print(\"Fibonacci sequence:\")\n",
        "   for i in range(nterms):\n",
        "       print(recur_fibo(i))"
      ]
    },
    {
      "cell_type": "markdown",
      "source": [
        "2.\tWrite a Python Program to Find Factorial of Number Using Recursion?"
      ],
      "metadata": {
        "id": "LN8pj-cfw9PJ"
      }
    },
    {
      "cell_type": "code",
      "source": [
        "# Factorial of a number using recursion\n",
        "\n",
        "def recur_factorial(n):\n",
        "   if n == 1:\n",
        "       return n\n",
        "   else:\n",
        "       return n*recur_factorial(n-1)\n",
        "\n",
        "num = 7\n",
        "\n",
        "# check if the number is negative\n",
        "if num < 0:\n",
        "   print(\"Sorry, factorial does not exist for negative numbers\")\n",
        "elif num == 0:\n",
        "   print(\"The factorial of 0 is 1\")\n",
        "else:\n",
        "   print(\"The factorial of\", num, \"is\", recur_factorial(num))"
      ],
      "metadata": {
        "colab": {
          "base_uri": "https://localhost:8080/"
        },
        "id": "hetMUZOow-Oy",
        "outputId": "7b1cfabf-0853-41ea-86b7-6483d593aa74"
      },
      "execution_count": null,
      "outputs": [
        {
          "output_type": "stream",
          "name": "stdout",
          "text": [
            "The factorial of 7 is 5040\n"
          ]
        }
      ]
    },
    {
      "cell_type": "markdown",
      "source": [
        "3.\tWrite a Python Program to calculate your Body Mass Index?"
      ],
      "metadata": {
        "id": "gknUEJotxXP-"
      }
    },
    {
      "cell_type": "code",
      "source": [
        "#Simple BMI calculator using python\n",
        "\n",
        "def bodymassindex(height, weight):\n",
        "    return round((weight / height**2),2)\n",
        "\n",
        "\n",
        "h = float(input(\"Enter your height in meters: \"))\n",
        "w = float(input(\"Enter your weight in kg: \"))\n",
        "\n",
        "\n",
        "print(\"Welcome to the BMI calculator.\")\n",
        "\n",
        "bmi = bodymassindex(h, w)\n",
        "print(\"Your BMI is: \", bmi)\n",
        "\n",
        "\n",
        "if bmi <= 18.5:\n",
        "    print(\"You are underweight.\")\n",
        "elif 18.5 < bmi <= 24.9:\n",
        "    print(\"Your weight is normal.\")\n",
        "elif 25 < bmi <= 29.29:\n",
        "    print(\"You are overweight.\")\n",
        "else:\n",
        "    print(\"You are obese.\")"
      ],
      "metadata": {
        "colab": {
          "base_uri": "https://localhost:8080/"
        },
        "id": "AP2Qgu2gxSjk",
        "outputId": "2e8e9de2-eae8-48b1-fbec-365652064784"
      },
      "execution_count": null,
      "outputs": [
        {
          "output_type": "stream",
          "name": "stdout",
          "text": [
            "Enter your height in meters: 1.52\n",
            "Enter your weight in kg: 60\n",
            "Welcome to the BMI calculator.\n",
            "Your BMI is:  25.97\n",
            "You are overweight.\n"
          ]
        }
      ]
    },
    {
      "cell_type": "code",
      "source": [
        "#Simple BMI calculator using python\n",
        "\n",
        "def bodymassindex(height, weight):\n",
        "    return round((weight / height**2),2)\n",
        "\n",
        "\n",
        "h = float(input(\"Enter your height in meters: \"))\n",
        "w = float(input(\"Enter your weight in kg: \"))\n",
        "\n",
        "\n",
        "print(\"Welcome to the BMI calculator.\")\n",
        "\n",
        "bmi = bodymassindex(h, w)\n",
        "print(\"Your BMI is: \", bmi)\n",
        "\n",
        "\n",
        "if bmi <= 18.5:\n",
        "    print(\"You are underweight.\")\n",
        "elif 18.5 < bmi <= 24.9:\n",
        "    print(\"Your weight is normal.\")\n",
        "elif 25 < bmi <= 29.29:\n",
        "    print(\"You are overweight.\")\n",
        "else:\n",
        "    print(\"You are obese.\")"
      ],
      "metadata": {
        "colab": {
          "base_uri": "https://localhost:8080/"
        },
        "id": "Vbht5T_Czcyd",
        "outputId": "4e699d59-6698-426d-ab78-fc254086abd5"
      },
      "execution_count": null,
      "outputs": [
        {
          "output_type": "stream",
          "name": "stdout",
          "text": [
            "Enter your height in meters: 1.52\n",
            "Enter your weight in kg: 56\n",
            "Welcome to the BMI calculator.\n",
            "Your BMI is:  24.24\n",
            "Your weight is normal.\n"
          ]
        }
      ]
    },
    {
      "cell_type": "code",
      "source": [
        "#Simple BMI calculator using python\n",
        "\n",
        "def bodymassindex(height, weight):\n",
        "    return round((weight / height**2),2)\n",
        "\n",
        "\n",
        "h = float(input(\"Enter your height in meters: \"))\n",
        "w = float(input(\"Enter your weight in kg: \"))\n",
        "\n",
        "\n",
        "print(\"Welcome to the BMI calculator.\")\n",
        "\n",
        "bmi = bodymassindex(h, w)\n",
        "print(\"Your BMI is: \", bmi)\n",
        "\n",
        "\n",
        "if bmi <= 18.5:\n",
        "    print(\"You are underweight.\")\n",
        "elif 18.5 < bmi <= 24.9:\n",
        "    print(\"Your weight is normal.\")\n",
        "elif 25 < bmi <= 29.29:\n",
        "    print(\"You are overweight.\")\n",
        "else:\n",
        "    print(\"You are obese.\")"
      ],
      "metadata": {
        "colab": {
          "base_uri": "https://localhost:8080/"
        },
        "id": "UQkx6HdhzyW8",
        "outputId": "b6e3987b-0200-4438-d5ee-a84905d3ff96"
      },
      "execution_count": null,
      "outputs": [
        {
          "output_type": "stream",
          "name": "stdout",
          "text": [
            "Enter your height in meters: 1.46\n",
            "Enter your weight in kg: 60\n",
            "Welcome to the BMI calculator.\n",
            "Your BMI is:  28.15\n",
            "You are overweight.\n"
          ]
        }
      ]
    },
    {
      "cell_type": "code",
      "source": [
        "#Simple BMI calculator using python\n",
        "\n",
        "def bodymassindex(height, weight):\n",
        "    return round((weight / height**2),2)\n",
        "\n",
        "\n",
        "h = float(input(\"Enter your height in meters: \"))\n",
        "w = float(input(\"Enter your weight in kg: \"))\n",
        "\n",
        "\n",
        "print(\"Welcome to the BMI calculator.\")\n",
        "\n",
        "bmi = bodymassindex(h, w)\n",
        "print(\"Your BMI is: \", bmi)\n",
        "\n",
        "\n",
        "if bmi <= 18.5:\n",
        "    print(\"You are underweight.\")\n",
        "elif 18.5 < bmi <= 24.9:\n",
        "    print(\"Your weight is normal.\")\n",
        "elif 25 < bmi <= 29.29:\n",
        "    print(\"You are overweight.\")\n",
        "else:\n",
        "    print(\"You are obese.\")"
      ],
      "metadata": {
        "colab": {
          "base_uri": "https://localhost:8080/"
        },
        "id": "zs-tTdJ6zemK",
        "outputId": "655c3f4d-b37f-4c1c-8edb-b72f1d5c258f"
      },
      "execution_count": null,
      "outputs": [
        {
          "output_type": "stream",
          "name": "stdout",
          "text": [
            "Enter your height in meters: 1.46\n",
            "Enter your weight in kg: 53\n",
            "Welcome to the BMI calculator.\n",
            "Your BMI is:  24.86\n",
            "Your weight is normal.\n"
          ]
        }
      ]
    },
    {
      "cell_type": "markdown",
      "source": [
        "4.\tWrite a Python Program to calculate the natural logarithm of any number?\n",
        "\n",
        "Syntax :\n",
        "\n",
        "math.log(a,Base)\n",
        "\n",
        "Parameters :\n",
        "\n",
        "a : The numeric value\n",
        "\n",
        "Base :  Base to which the logarithm has to be computed.(here natural log i.e. base e )"
      ],
      "metadata": {
        "id": "stZt0qC900Wx"
      }
    },
    {
      "cell_type": "code",
      "source": [
        "\n",
        "# Python code to demonstrate the working of\n",
        "# log(a,Base)\n",
        "\n",
        "import math\n",
        "\n",
        "# Printing the log base e of 10\n",
        "print (\"Natural logarithm of 10 is : \", end=\"\")\n",
        "print (math.log(10))"
      ],
      "metadata": {
        "colab": {
          "base_uri": "https://localhost:8080/"
        },
        "id": "oXmDNpTV038N",
        "outputId": "0c4e553e-0702-4249-9fcd-0999383c03ed"
      },
      "execution_count": null,
      "outputs": [
        {
          "output_type": "stream",
          "name": "stdout",
          "text": [
            "Natural logarithm of 10 is : 2.302585092994046\n"
          ]
        }
      ]
    },
    {
      "cell_type": "code",
      "source": [
        "# Printing the log base 5 of 10\n",
        "print (\"Logarithm base 5 of 10 is : \", end=\"\")\n",
        "print (math.log(10,5))"
      ],
      "metadata": {
        "colab": {
          "base_uri": "https://localhost:8080/"
        },
        "id": "ayrx3hvQ2LAK",
        "outputId": "fc06ee11-07eb-49c2-80fa-8b70fe2b9044"
      },
      "execution_count": null,
      "outputs": [
        {
          "output_type": "stream",
          "name": "stdout",
          "text": [
            "Logarithm base 5 of 10 is : 1.4306765580733933\n"
          ]
        }
      ]
    },
    {
      "cell_type": "markdown",
      "source": [
        "5.\tWrite a Python Program for cube sum of first n natural numbers?"
      ],
      "metadata": {
        "id": "aAuZ7yaX2Kik"
      }
    },
    {
      "cell_type": "code",
      "source": [
        "pow(2,3) #we use this fun to find out cube of any number"
      ],
      "metadata": {
        "colab": {
          "base_uri": "https://localhost:8080/"
        },
        "id": "vhzLnSlg2XxE",
        "outputId": "9af71f74-1f8b-488e-8f28-1dc980951e97"
      },
      "execution_count": null,
      "outputs": [
        {
          "output_type": "execute_result",
          "data": {
            "text/plain": [
              "8"
            ]
          },
          "metadata": {},
          "execution_count": 15
        }
      ]
    },
    {
      "cell_type": "code",
      "source": [
        "n=10\n",
        "s=0\n",
        "# iterating loop up to given number n\n",
        "for i in range(1,n+1):\n",
        "    # adding cube sum using pow() function\n",
        "    s=s+pow(i,3)\n",
        "print(s)"
      ],
      "metadata": {
        "colab": {
          "base_uri": "https://localhost:8080/"
        },
        "id": "zedlMSQA2-IK",
        "outputId": "f05cc570-f0a6-4dc8-b444-49e587841878"
      },
      "execution_count": null,
      "outputs": [
        {
          "output_type": "stream",
          "name": "stdout",
          "text": [
            "3025\n"
          ]
        }
      ]
    },
    {
      "cell_type": "code",
      "source": [],
      "metadata": {
        "id": "xQmLSWkC3V5O"
      },
      "execution_count": null,
      "outputs": []
    }
  ]
}
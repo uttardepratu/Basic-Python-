{
  "nbformat": 4,
  "nbformat_minor": 0,
  "metadata": {
    "colab": {
      "provenance": [],
      "authorship_tag": "ABX9TyPkzN4rHbdaSlrn6Pg+NZys",
      "include_colab_link": true
    },
    "kernelspec": {
      "name": "python3",
      "display_name": "Python 3"
    },
    "language_info": {
      "name": "python"
    }
  },
  "cells": [
    {
      "cell_type": "markdown",
      "metadata": {
        "id": "view-in-github",
        "colab_type": "text"
      },
      "source": [
        "<a href=\"https://colab.research.google.com/github/uttardepratu/Basic-Python-/blob/main/prog_ass_11.ipynb\" target=\"_parent\"><img src=\"https://colab.research.google.com/assets/colab-badge.svg\" alt=\"Open In Colab\"/></a>"
      ]
    },
    {
      "cell_type": "markdown",
      "source": [
        "2.\tWrite a Python program for removing i-th character from a string?"
      ],
      "metadata": {
        "id": "8Pb-vVaLbPVR"
      }
    },
    {
      "cell_type": "code",
      "execution_count": null,
      "metadata": {
        "colab": {
          "base_uri": "https://localhost:8080/"
        },
        "id": "Fy0ybblzbN22",
        "outputId": "6ad39911-4969-4442-cc1e-a571782ee564"
      },
      "outputs": [
        {
          "output_type": "stream",
          "name": "stdout",
          "text": [
            "Raja\n"
          ]
        }
      ],
      "source": [
        "def remove(string, i):\n",
        "  return \"\".join(string)\n",
        "\n",
        "print(remove(\"Raja\",1))"
      ]
    },
    {
      "cell_type": "code",
      "source": [
        "  def remove(string, i):\n",
        "    if i > len(string):\n",
        "      return string\n",
        "    a = list(string)\n",
        "    a.pop(i)\n",
        "    return \"\".join(a)\n",
        "\n",
        "\n",
        "# Driver Code\n",
        "if __name__ == '__main__':\n",
        "\n",
        "    string = \"ineuron\"\n",
        "\n",
        "    # Remove nth index element\n",
        "    i = 5\n",
        "\n",
        "    # Print the new string\n",
        "    print(remove(string, i))"
      ],
      "metadata": {
        "colab": {
          "base_uri": "https://localhost:8080/"
        },
        "id": "YnueC7pQcvWt",
        "outputId": "5e89c050-3eaa-490e-9370-69a0e9ce5ca2"
      },
      "execution_count": null,
      "outputs": [
        {
          "output_type": "stream",
          "name": "stdout",
          "text": [
            "ineurn\n"
          ]
        }
      ]
    },
    {
      "cell_type": "markdown",
      "source": [
        "3.\tWrite a Python program to split and join a string?"
      ],
      "metadata": {
        "id": "XxAefcmCd8Vy"
      }
    },
    {
      "cell_type": "code",
      "source": [
        "s = 'We are from Ineuron.ai'\n",
        "# print the string after split method\n",
        "print(s.split(\" \"))\n",
        "# print the string after join method\n",
        "print(\"-\".join(s.split()))\n"
      ],
      "metadata": {
        "colab": {
          "base_uri": "https://localhost:8080/"
        },
        "id": "HjKFHCRYd9DE",
        "outputId": "8fd0272a-70c2-499c-8ea6-d66453cf45ad"
      },
      "execution_count": null,
      "outputs": [
        {
          "output_type": "stream",
          "name": "stdout",
          "text": [
            "['We', 'are', 'from', 'Ineuron.ai']\n",
            "We-are-from-Ineuron.ai\n"
          ]
        }
      ]
    },
    {
      "cell_type": "markdown",
      "source": [
        "4.\tWrite a Python to check if a given string is binary string or not?"
      ],
      "metadata": {
        "id": "QhqywDZRemop"
      }
    },
    {
      "cell_type": "code",
      "source": [
        "string = \"01010101010\"\n",
        "if(string.count('0')+string.count('1')==len(string)):\n",
        "    print(\"Yes\")\n",
        "else:\n",
        "    print(\"No\")"
      ],
      "metadata": {
        "colab": {
          "base_uri": "https://localhost:8080/"
        },
        "id": "9UwRaeupeniE",
        "outputId": "4bca7711-93a9-4121-aea9-5cbf4c97685b"
      },
      "execution_count": null,
      "outputs": [
        {
          "output_type": "stream",
          "name": "stdout",
          "text": [
            "Yes\n"
          ]
        }
      ]
    },
    {
      "cell_type": "code",
      "source": [
        "string = \"0101hello011\"\n",
        "if(string.count('0')+string.count('1')==len(string)):\n",
        "    print(\"Yes\")\n",
        "else:\n",
        "    print(\"No\")"
      ],
      "metadata": {
        "colab": {
          "base_uri": "https://localhost:8080/"
        },
        "id": "gFntXydkfM5u",
        "outputId": "9c77f967-5836-4447-f43a-3a3cc7a9cd96"
      },
      "execution_count": null,
      "outputs": [
        {
          "output_type": "stream",
          "name": "stdout",
          "text": [
            "No\n"
          ]
        }
      ]
    },
    {
      "cell_type": "code",
      "source": [
        "string = \"010110102\"\n",
        "binary=\"01\"\n",
        "for i in binary:\n",
        "    string=string.replace(i,\"\")\n",
        "if(len(string)==0):\n",
        "    print(\"Yes\")\n",
        "else:\n",
        "    print(\"No\")"
      ],
      "metadata": {
        "colab": {
          "base_uri": "https://localhost:8080/"
        },
        "id": "uzu3qA95fquD",
        "outputId": "7ac1d968-9142-49fd-c530-086544c84069"
      },
      "execution_count": null,
      "outputs": [
        {
          "output_type": "stream",
          "name": "stdout",
          "text": [
            "No\n"
          ]
        }
      ]
    },
    {
      "cell_type": "markdown",
      "source": [
        "5.\tWrite a Python program to find uncommon words from two Strings?"
      ],
      "metadata": {
        "id": "rDxnp6vVfzJe"
      }
    },
    {
      "cell_type": "code",
      "source": [
        "\n",
        "# Python3 program to find a list of uncommon words\n",
        "\n",
        "# Function to return all uncommon words\n",
        "\n",
        "\n",
        "def UncommonWords(A, B):\n",
        "\n",
        "    # count will contain all the word counts\n",
        "    count = {}\n",
        "\n",
        "    # insert words of string A to hash\n",
        "    for word in A.split():\n",
        "        count[word] = count.get(word, 0) + 1\n",
        "\n",
        "    # insert words of string B to hash\n",
        "    for word in B.split():\n",
        "        count[word] = count.get(word, 0) + 1\n",
        "\n",
        "    # return required list of words\n",
        "    return [word for word in count if count[word] == 1]\n",
        "\n",
        "\n",
        "# Driver Code\n",
        "A = \"Geeks for Geeks\"\n",
        "B = \"Learning from Geeks for Geeks\"\n",
        "\n",
        "# Print required answer\n",
        "print(UncommonWords(A, B))"
      ],
      "metadata": {
        "colab": {
          "base_uri": "https://localhost:8080/"
        },
        "id": "mPB5Yivsf1cp",
        "outputId": "301240cc-beb4-4665-bc46-a56d17d8c163"
      },
      "execution_count": null,
      "outputs": [
        {
          "output_type": "stream",
          "name": "stdout",
          "text": [
            "['Learning', 'from']\n"
          ]
        }
      ]
    },
    {
      "cell_type": "markdown",
      "source": [
        "6.\tWrite a Python to find all duplicate characters in string?"
      ],
      "metadata": {
        "id": "Bvpqx7tsgkyY"
      }
    },
    {
      "cell_type": "code",
      "source": [
        "def find_dup_char(input):\n",
        "    x=[]\n",
        "    for i in input:\n",
        "        if i not in x and input.count(i)>1:\n",
        "            x.append(i)\n",
        "    print(\" \".join(x))\n",
        "\n",
        "# Driver program\n",
        "if __name__ == \"__main__\":\n",
        "    input = 'kindness'\n",
        "    find_dup_char(input)"
      ],
      "metadata": {
        "colab": {
          "base_uri": "https://localhost:8080/"
        },
        "id": "FbK3VK2Fgg2r",
        "outputId": "82020067-683e-45c8-96a2-70048f7a7d9c"
      },
      "execution_count": null,
      "outputs": [
        {
          "output_type": "stream",
          "name": "stdout",
          "text": [
            "n s\n"
          ]
        }
      ]
    },
    {
      "cell_type": "markdown",
      "source": [
        "7.\tWrite a Python Program to check if a string contains any special character?"
      ],
      "metadata": {
        "id": "I7bGQgEmgppH"
      }
    },
    {
      "cell_type": "code",
      "source": [
        "import string\n",
        "\n",
        "def check_string(s):\n",
        "    for c in s:\n",
        "        if c in string.punctuation:\n",
        "            print(\"String is not accepted\")\n",
        "            return\n",
        "    print(\"String is accepted\")\n",
        "\n",
        "# Example usage\n",
        "check_string(\"Geeks$For$Geeks\")  # Output: String is not accepted\n",
        "check_string(\"Geeks For Geeks\")  # Output: String is accepted"
      ],
      "metadata": {
        "colab": {
          "base_uri": "https://localhost:8080/"
        },
        "id": "freHD5iwgqe6",
        "outputId": "8938083c-e107-4703-c27a-1fb85969eb68"
      },
      "execution_count": null,
      "outputs": [
        {
          "output_type": "stream",
          "name": "stdout",
          "text": [
            "String is not accepted\n",
            "String is accepted\n"
          ]
        }
      ]
    }
  ]
}
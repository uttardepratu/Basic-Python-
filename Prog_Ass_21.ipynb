{
  "nbformat": 4,
  "nbformat_minor": 0,
  "metadata": {
    "colab": {
      "provenance": [],
      "authorship_tag": "ABX9TyN1X22jr1P+QzCKbFehSgVl",
      "include_colab_link": true
    },
    "kernelspec": {
      "name": "python3",
      "display_name": "Python 3"
    },
    "language_info": {
      "name": "python"
    }
  },
  "cells": [
    {
      "cell_type": "markdown",
      "metadata": {
        "id": "view-in-github",
        "colab_type": "text"
      },
      "source": [
        "<a href=\"https://colab.research.google.com/github/uttardepratu/Basic-Python-/blob/main/Prog_Ass_21.ipynb\" target=\"_parent\"><img src=\"https://colab.research.google.com/assets/colab-badge.svg\" alt=\"Open In Colab\"/></a>"
      ]
    },
    {
      "cell_type": "markdown",
      "source": [
        "Question1\n",
        "Write a function that takes a list and a number as arguments. Add the number to the end of the list, then remove the first element of the list. The function should then return the updated list.\n",
        "\n",
        "Examples\n",
        "next_in_line([5, 6, 7, 8, 9], 1) ➞ [6, 7, 8, 9, 1]\n",
        "\n",
        "next_in_line([7, 6, 3, 23, 17], 10) ➞ [6, 3, 23, 17, 10]\n",
        "\n",
        "next_in_line([1, 10, 20, 42 ], 6) ➞ [10, 20, 42, 6]\n",
        "\n",
        "next_in_line([], 6) ➞ \"No list has been selected\"\n",
        "\n"
      ],
      "metadata": {
        "id": "o2Gl2SNsERqr"
      }
    },
    {
      "cell_type": "code",
      "execution_count": 1,
      "metadata": {
        "id": "sATkCPTcD-ai"
      },
      "outputs": [],
      "source": [
        "lst = [5, 6, 7, 8, 9]\n",
        "def next_in_line(lst,num):\n",
        "    if len(lst) > 0 :\n",
        "        lst.append(num)\n",
        "        return lst[1:]\n",
        "    else:\n",
        "        print(\"'No list has been selected'\")\n"
      ]
    },
    {
      "cell_type": "code",
      "source": [
        "next_in_line([5, 6, 7, 8, 9], 1)"
      ],
      "metadata": {
        "colab": {
          "base_uri": "https://localhost:8080/"
        },
        "id": "BLgAYa_2Eoxx",
        "outputId": "445bfaec-dbe4-415f-ff35-434cfff0088f"
      },
      "execution_count": 2,
      "outputs": [
        {
          "output_type": "execute_result",
          "data": {
            "text/plain": [
              "[6, 7, 8, 9, 1]"
            ]
          },
          "metadata": {},
          "execution_count": 2
        }
      ]
    },
    {
      "cell_type": "code",
      "source": [
        "next_in_line([7, 6, 3, 23, 17], 10)"
      ],
      "metadata": {
        "colab": {
          "base_uri": "https://localhost:8080/"
        },
        "id": "dbJxfU6cEpfr",
        "outputId": "2d17cfd4-44de-4bbe-be57-536dbe9fe2fb"
      },
      "execution_count": 3,
      "outputs": [
        {
          "output_type": "execute_result",
          "data": {
            "text/plain": [
              "[6, 3, 23, 17, 10]"
            ]
          },
          "metadata": {},
          "execution_count": 3
        }
      ]
    },
    {
      "cell_type": "code",
      "source": [
        "next_in_line([], 6)"
      ],
      "metadata": {
        "colab": {
          "base_uri": "https://localhost:8080/"
        },
        "id": "tBsDao5QEsrn",
        "outputId": "20f8a124-9a0f-493d-a5d1-2ec7b8260f2f"
      },
      "execution_count": 4,
      "outputs": [
        {
          "output_type": "stream",
          "name": "stdout",
          "text": [
            "'No list has been selected'\n"
          ]
        }
      ]
    },
    {
      "cell_type": "markdown",
      "source": [
        "Question2\n",
        "Create the function that takes a list of dictionaries and returns the sum of people's budgets.\n",
        "\n",
        "Examples\n",
        "get_budgets([\n",
        "  { \"name\": \"John\", \"age\": 21, \"budget\": 23000 },\n",
        "  { \"name\": \"Steve\",  \"age\": 32, \"budget\": 40000 },\n",
        "  { \"name\": \"Martin\",  \"age\": 16, \"budget\": 2700 }\n",
        "])\n",
        "\n",
        "➞ 65700\n",
        "\n",
        "get_budgets([\n",
        "  { \"name\": \"John\",  \"age\": 21, \"budget\": 29000 },\n",
        "  { \"name\": \"Steve\",  \"age\": 32, \"budget\": 32000 },\n",
        "  { \"name\": \"Martin\",  \"age\": 16, \"budget\": 1600 }\n",
        "])\n",
        "\n",
        "➞ 62600\n"
      ],
      "metadata": {
        "id": "x7f6MHnqE1_x"
      }
    },
    {
      "cell_type": "code",
      "source": [
        "def get_budgets(listDict):\n",
        "    sum = 0\n",
        "    for dc in listDict:\n",
        "        for k,v in dc.items():\n",
        "            if k == 'budget':\n",
        "                sum = sum + v\n",
        "    return sum"
      ],
      "metadata": {
        "id": "anSPiRLBExxk"
      },
      "execution_count": 5,
      "outputs": []
    },
    {
      "cell_type": "code",
      "source": [
        "get_budgets([\n",
        "{ 'name': 'John', 'age': 21, 'budget': 23000 },\n",
        "{ 'name': 'Steve', 'age': 32, 'budget': 40000 },\n",
        "{ 'name': 'Martin', 'age': 16, 'budget': 2700 }\n",
        "])"
      ],
      "metadata": {
        "colab": {
          "base_uri": "https://localhost:8080/"
        },
        "id": "j2dpxhp9FCL3",
        "outputId": "235cb625-1332-446b-b1aa-be31061561a0"
      },
      "execution_count": 6,
      "outputs": [
        {
          "output_type": "execute_result",
          "data": {
            "text/plain": [
              "65700"
            ]
          },
          "metadata": {},
          "execution_count": 6
        }
      ]
    },
    {
      "cell_type": "code",
      "source": [
        "get_budgets([\n",
        "    { \"name\": \"John\", \"age\": 21, \"budget\": 29000 },\n",
        "    { \"name\": \"Steve\", \"age\": 32, \"budget\": 32000 },\n",
        "    { \"name\": \"Martin\", \"age\": 16, \"budget\": 1600 }\n",
        "  ])"
      ],
      "metadata": {
        "colab": {
          "base_uri": "https://localhost:8080/"
        },
        "id": "qRco6vnrFEqn",
        "outputId": "447c9256-c23b-4284-8196-9e73d5b8e3c9"
      },
      "execution_count": 7,
      "outputs": [
        {
          "output_type": "execute_result",
          "data": {
            "text/plain": [
              "62600"
            ]
          },
          "metadata": {},
          "execution_count": 7
        }
      ]
    },
    {
      "cell_type": "markdown",
      "source": [
        "Question3\n",
        "Create a function that takes a string and returns a string with its letters in alphabetical order.\n",
        "\n",
        "Examples\n",
        "alphabet_soup(\"hello\") ➞ \"ehllo\"\n",
        "\n",
        "alphabet_soup(\"edabit\") ➞ \"abdeit\"\n",
        "\n",
        "alphabet_soup(\"hacker\") ➞ \"acehkr\"\n",
        "\n",
        "alphabet_soup(\"geek\") ➞ \"eegk\"\n",
        "\n",
        "alphabet_soup(\"javascript\") ➞ \"aacijprstv\"\n"
      ],
      "metadata": {
        "id": "O8yb1kHgFYzX"
      }
    },
    {
      "cell_type": "code",
      "source": [
        "def alphabet_soup(str):\n",
        "  return ''.join(sorted(str))"
      ],
      "metadata": {
        "id": "Gd0f0krFFWV0"
      },
      "execution_count": 9,
      "outputs": []
    },
    {
      "cell_type": "code",
      "source": [
        " alphabet_soup(\"hello\")"
      ],
      "metadata": {
        "colab": {
          "base_uri": "https://localhost:8080/",
          "height": 36
        },
        "id": "jXM50L2qFiGw",
        "outputId": "25ea8194-1fdf-4909-97ba-d0b7e5336c8b"
      },
      "execution_count": 10,
      "outputs": [
        {
          "output_type": "execute_result",
          "data": {
            "text/plain": [
              "'ehllo'"
            ],
            "application/vnd.google.colaboratory.intrinsic+json": {
              "type": "string"
            }
          },
          "metadata": {},
          "execution_count": 10
        }
      ]
    },
    {
      "cell_type": "code",
      "source": [
        "alphabet_soup(\"hacker\")"
      ],
      "metadata": {
        "colab": {
          "base_uri": "https://localhost:8080/",
          "height": 36
        },
        "id": "leWKkNXZFmCt",
        "outputId": "11624e17-a048-4b6a-9fae-5685da7b4d3e"
      },
      "execution_count": 11,
      "outputs": [
        {
          "output_type": "execute_result",
          "data": {
            "text/plain": [
              "'acehkr'"
            ],
            "application/vnd.google.colaboratory.intrinsic+json": {
              "type": "string"
            }
          },
          "metadata": {},
          "execution_count": 11
        }
      ]
    },
    {
      "cell_type": "code",
      "source": [
        "alphabet_soup(\"javascript\")"
      ],
      "metadata": {
        "colab": {
          "base_uri": "https://localhost:8080/",
          "height": 36
        },
        "id": "rtmo8YWYFpJp",
        "outputId": "9f44993c-bb6b-40d0-aa78-bb12f3c61a8e"
      },
      "execution_count": 12,
      "outputs": [
        {
          "output_type": "execute_result",
          "data": {
            "text/plain": [
              "'aacijprstv'"
            ],
            "application/vnd.google.colaboratory.intrinsic+json": {
              "type": "string"
            }
          },
          "metadata": {},
          "execution_count": 12
        }
      ]
    },
    {
      "cell_type": "markdown",
      "source": [
        "Question4\n",
        "Suppose that you invest $10,000 for 10 years at an interest rate of 6% compounded monthly. What will be the value of your investment at the end of the 10 year period?\n",
        "\n",
        "Create a function that accepts the principal p, the term in years t, the interest rate r, and the number of compounding periods per year n. The function returns the value at the end of term rounded to the nearest cent.\n",
        "For the example above:\n",
        "\n",
        "compound_interest(10000, 10, 0.06, 12) ➞ 18193.97\n",
        "\n",
        "Note that the interest rate is given as a decimal and n=12 because with monthly compounding there are 12 periods per year. Compounding can also be done annually, quarterly, weekly, or daily.\n",
        "\n",
        "Examples\n",
        "compound_interest(100, 1, 0.05, 1) ➞ 105.0\n",
        "\n",
        "compound_interest(3500, 15, 0.1, 4) ➞ 15399.26\n",
        "\n",
        "compound_interest(100000, 20, 0.15, 365) ➞ 2007316.26\n"
      ],
      "metadata": {
        "id": "SlUDSZooFxDd"
      }
    },
    {
      "cell_type": "code",
      "source": [
        "#FV = PV(1 + r/m)mt\n",
        "\n",
        "def compound_interest(amt, years, intrest, compPeriod):\n",
        "  future_value = amt *(1 + (intrest/compPeriod)) ** (years * compPeriod)\n",
        "  return round(future_value,2)"
      ],
      "metadata": {
        "id": "FA8J9p3mFrVH"
      },
      "execution_count": 13,
      "outputs": []
    },
    {
      "cell_type": "code",
      "source": [
        "compound_interest(100, 1, 0.05, 1)"
      ],
      "metadata": {
        "colab": {
          "base_uri": "https://localhost:8080/"
        },
        "id": "XATcDiuhGSvE",
        "outputId": "15f9e754-c064-46ba-bc29-fa7bab9b4393"
      },
      "execution_count": 14,
      "outputs": [
        {
          "output_type": "execute_result",
          "data": {
            "text/plain": [
              "105.0"
            ]
          },
          "metadata": {},
          "execution_count": 14
        }
      ]
    },
    {
      "cell_type": "code",
      "source": [
        "compound_interest(3500, 15, 0.1, 4)"
      ],
      "metadata": {
        "colab": {
          "base_uri": "https://localhost:8080/"
        },
        "id": "IT8bZdrsGTqG",
        "outputId": "18267aaf-4e7b-4959-ce8c-fe764dc3f95d"
      },
      "execution_count": 15,
      "outputs": [
        {
          "output_type": "execute_result",
          "data": {
            "text/plain": [
              "15399.26"
            ]
          },
          "metadata": {},
          "execution_count": 15
        }
      ]
    },
    {
      "cell_type": "code",
      "source": [
        "compound_interest(100000, 20, 0.15, 365)"
      ],
      "metadata": {
        "colab": {
          "base_uri": "https://localhost:8080/"
        },
        "id": "vC9INVL0GWZX",
        "outputId": "fef44cd3-21c6-42ce-bda5-027ba51ce9a9"
      },
      "execution_count": 16,
      "outputs": [
        {
          "output_type": "execute_result",
          "data": {
            "text/plain": [
              "2007316.26"
            ]
          },
          "metadata": {},
          "execution_count": 16
        }
      ]
    },
    {
      "cell_type": "markdown",
      "source": [
        "Question5\n",
        "Write a function that takes a list of elements and returns only the integers.\n",
        "\n",
        "Examples\n",
        "return_only_integer([9, 2, \"space\", \"car\", \"lion\", 16]) ➞ [9, 2, 16]\n",
        "\n",
        "return_only_integer([\"hello\", 81, \"basketball\", 123, \"fox\"]) ➞ [81, 123]\n",
        "\n",
        "return_only_integer([10, \"121\", 56, 20, \"car\", 3, \"lion\"]) ➞ [10, 56, 20, 3]\n",
        "\n",
        "return_only_integer([\"String\",  True,  3.3,  1]) ➞ [1]\n"
      ],
      "metadata": {
        "id": "tFUUvLgRGgAg"
      }
    },
    {
      "cell_type": "code",
      "source": [
        "def return_only_integer(lst):\n",
        "    intLst = []\n",
        "    for i in lst:\n",
        "        if type(i) == int:\n",
        "            intLst.append(i)\n",
        "    return intLst"
      ],
      "metadata": {
        "id": "R-As5aRZGZw2"
      },
      "execution_count": 17,
      "outputs": []
    },
    {
      "cell_type": "code",
      "source": [
        "return_only_integer([9, 2, \"space\", \"car\", \"lion\", 16])"
      ],
      "metadata": {
        "colab": {
          "base_uri": "https://localhost:8080/"
        },
        "id": "o25safm_HEh4",
        "outputId": "d711fb95-2629-456f-e925-6fcccd192193"
      },
      "execution_count": 18,
      "outputs": [
        {
          "output_type": "execute_result",
          "data": {
            "text/plain": [
              "[9, 2, 16]"
            ]
          },
          "metadata": {},
          "execution_count": 18
        }
      ]
    },
    {
      "cell_type": "code",
      "source": [
        "return_only_integer([\"hello\", 81, \"basketball\", 123, \"fox\"])"
      ],
      "metadata": {
        "colab": {
          "base_uri": "https://localhost:8080/"
        },
        "id": "-BuOv0KUHHz1",
        "outputId": "ae2d4012-3589-4827-d9e3-6ca2cdbb8afc"
      },
      "execution_count": 19,
      "outputs": [
        {
          "output_type": "execute_result",
          "data": {
            "text/plain": [
              "[81, 123]"
            ]
          },
          "metadata": {},
          "execution_count": 19
        }
      ]
    },
    {
      "cell_type": "code",
      "source": [
        "return_only_integer([\"String\", True, 3.3, 1])"
      ],
      "metadata": {
        "colab": {
          "base_uri": "https://localhost:8080/"
        },
        "id": "DNOTM9ZzHK0r",
        "outputId": "c6ebbd6c-b07e-433e-e282-5868b13aac70"
      },
      "execution_count": 20,
      "outputs": [
        {
          "output_type": "execute_result",
          "data": {
            "text/plain": [
              "[1]"
            ]
          },
          "metadata": {},
          "execution_count": 20
        }
      ]
    },
    {
      "cell_type": "code",
      "source": [
        "return_only_integer([10, \"121\", 56, 20, \"car\", 3, \"lion\"])"
      ],
      "metadata": {
        "colab": {
          "base_uri": "https://localhost:8080/"
        },
        "id": "O2Kz0UTYHNHp",
        "outputId": "2a5cd956-6a56-4c78-8bc6-90f328e20f42"
      },
      "execution_count": 21,
      "outputs": [
        {
          "output_type": "execute_result",
          "data": {
            "text/plain": [
              "[10, 56, 20, 3]"
            ]
          },
          "metadata": {},
          "execution_count": 21
        }
      ]
    },
    {
      "cell_type": "code",
      "source": [],
      "metadata": {
        "id": "uy2-D1kfHTEM"
      },
      "execution_count": null,
      "outputs": []
    }
  ]
}
{
  "nbformat": 4,
  "nbformat_minor": 0,
  "metadata": {
    "colab": {
      "provenance": [],
      "authorship_tag": "ABX9TyOzwm/pYl9fUvQyyVRtn0k5",
      "include_colab_link": true
    },
    "kernelspec": {
      "name": "python3",
      "display_name": "Python 3"
    },
    "language_info": {
      "name": "python"
    }
  },
  "cells": [
    {
      "cell_type": "markdown",
      "metadata": {
        "id": "view-in-github",
        "colab_type": "text"
      },
      "source": [
        "<a href=\"https://colab.research.google.com/github/uttardepratu/Basic-Python-/blob/main/Assiangment2.ipynb\" target=\"_parent\"><img src=\"https://colab.research.google.com/assets/colab-badge.svg\" alt=\"Open In Colab\"/></a>"
      ]
    },
    {
      "cell_type": "markdown",
      "source": [
        "1.What are the two values of the Boolean data type? How do you write them?"
      ],
      "metadata": {
        "id": "ZbPoIDQqLobu"
      }
    },
    {
      "cell_type": "markdown",
      "source": [
        "Ans.two values of Boolean data type are: True and False. \n",
        "this r write using capital T and F, with the rest of the word in lowercase\n",
        "\n",
        "we can take there meaning as 1 and 0."
      ],
      "metadata": {
        "id": "QDG41FS0Lyi0"
      }
    },
    {
      "cell_type": "markdown",
      "source": [
        "2. What are the three different types of Boolean operators?"
      ],
      "metadata": {
        "id": "ouwpBlcUNBew"
      }
    },
    {
      "cell_type": "markdown",
      "source": [
        "The three basic boolean operators are: AND, OR, and NOT.\n"
      ],
      "metadata": {
        "id": "CD9iExBqN4bm"
      }
    },
    {
      "cell_type": "markdown",
      "source": [
        "3.Make a list of each Boolean operator's truth tables (i.e. every possible combination of Boolean values for the operator and what it evaluate)."
      ],
      "metadata": {
        "id": "2t38k4kEOcLK"
      }
    },
    {
      "cell_type": "code",
      "source": [
        "a=True and True \n",
        "b=True and False\n",
        "c=False and True \n",
        "d=False and False\n",
        "e=True or True \n",
        "f=True or False\n",
        "g=False or True\n",
        "h=False or False\n",
        "i=not True\n",
        "j=not False\n",
        "print(list[a,b,c,d,e,f,g,h,i,j])"
      ],
      "metadata": {
        "colab": {
          "base_uri": "https://localhost:8080/"
        },
        "id": "0usCZ9ox23ZJ",
        "outputId": "e37fe181-de0d-467d-a44c-5f9f6cc983ab"
      },
      "execution_count": null,
      "outputs": [
        {
          "output_type": "stream",
          "name": "stdout",
          "text": [
            "list[True, False, False, False, True, True, True, False, False, True]\n"
          ]
        }
      ]
    },
    {
      "cell_type": "markdown",
      "source": [
        "4. What are the values of the following expressions?\n"
      ],
      "metadata": {
        "id": "KjgIaCu73DXz"
      }
    },
    {
      "cell_type": "code",
      "source": [
        "(5 > 4) and (3 == 5)"
      ],
      "metadata": {
        "colab": {
          "base_uri": "https://localhost:8080/"
        },
        "id": "GxaUPQFPNAan",
        "outputId": "734cb2ce-1e4f-457e-dd36-a206da6868c0"
      },
      "execution_count": null,
      "outputs": [
        {
          "output_type": "execute_result",
          "data": {
            "text/plain": [
              "False"
            ]
          },
          "metadata": {},
          "execution_count": 2
        }
      ]
    },
    {
      "cell_type": "code",
      "source": [
        "not (5 > 4)"
      ],
      "metadata": {
        "colab": {
          "base_uri": "https://localhost:8080/"
        },
        "id": "_But-dKOO7Cg",
        "outputId": "c77b1673-99da-42a8-845d-241708c1779e"
      },
      "execution_count": null,
      "outputs": [
        {
          "output_type": "execute_result",
          "data": {
            "text/plain": [
              "False"
            ]
          },
          "metadata": {},
          "execution_count": 3
        }
      ]
    },
    {
      "cell_type": "code",
      "source": [
        "(5 > 4) or (3 == 5)"
      ],
      "metadata": {
        "colab": {
          "base_uri": "https://localhost:8080/"
        },
        "id": "zWebRr2GPAu0",
        "outputId": "1fa4d712-8ff6-4b0a-d5be-b8219d33a54c"
      },
      "execution_count": null,
      "outputs": [
        {
          "output_type": "execute_result",
          "data": {
            "text/plain": [
              "True"
            ]
          },
          "metadata": {},
          "execution_count": 4
        }
      ]
    },
    {
      "cell_type": "code",
      "source": [
        "not ((5 > 4) or (3 == 5))"
      ],
      "metadata": {
        "colab": {
          "base_uri": "https://localhost:8080/"
        },
        "id": "nLtpVEVqPDpd",
        "outputId": "f91cdf46-d168-481a-b10b-9e7cd91fd6a7"
      },
      "execution_count": null,
      "outputs": [
        {
          "output_type": "execute_result",
          "data": {
            "text/plain": [
              "False"
            ]
          },
          "metadata": {},
          "execution_count": 5
        }
      ]
    },
    {
      "cell_type": "code",
      "source": [
        "(True and True) and (True == False)"
      ],
      "metadata": {
        "colab": {
          "base_uri": "https://localhost:8080/"
        },
        "id": "znn-7pw7PGJw",
        "outputId": "57052844-af6e-4aac-e0fc-497deb294a8b"
      },
      "execution_count": null,
      "outputs": [
        {
          "output_type": "execute_result",
          "data": {
            "text/plain": [
              "False"
            ]
          },
          "metadata": {},
          "execution_count": 6
        }
      ]
    },
    {
      "cell_type": "code",
      "source": [
        "(not False) or (not True)"
      ],
      "metadata": {
        "colab": {
          "base_uri": "https://localhost:8080/"
        },
        "id": "7nktSJLpPLSp",
        "outputId": "6fdec53e-67e4-42bf-9cd6-4f539a1265d8"
      },
      "execution_count": null,
      "outputs": [
        {
          "output_type": "execute_result",
          "data": {
            "text/plain": [
              "True"
            ]
          },
          "metadata": {},
          "execution_count": 8
        }
      ]
    },
    {
      "cell_type": "markdown",
      "source": [
        "5. What are the six comparison operators?"
      ],
      "metadata": {
        "id": "tsjwpc8iPk1t"
      }
    },
    {
      "cell_type": "markdown",
      "source": [
        "the six comparison operator in Python\n",
        "\n",
        "1) ==\tEqual\t\n",
        "2) !=\tNot equal\t\t\n",
        "3) >\tGreater than\t\n",
        "4) <\tLess than\t\n",
        "5) >=\tGreater than or equal to\t\t\n",
        "6) <=\tLess than or equal to\t"
      ],
      "metadata": {
        "id": "g_z_8-jxnTnF"
      }
    },
    {
      "cell_type": "markdown",
      "source": [
        "6. How do you tell the difference between the equal to and assignment operators?Describe a condition and when you would use one."
      ],
      "metadata": {
        "id": "QwXJG53gP1FH"
      }
    },
    {
      "cell_type": "markdown",
      "source": [
        "-assignment operator(=)that helps to assign values or expressions.\n",
        "\n",
        "-Equal to(==) that help to compare to variables and gives o/p as True or False."
      ],
      "metadata": {
        "id": "YtDRdMpsolTj"
      }
    },
    {
      "cell_type": "code",
      "source": [
        "x = 5 #here we assiagn 5 to operand x\n",
        "y = 3  #here we assiagn y to operand y\n",
        "\n",
        "print(x == y)  #here we compare 2 variable"
      ],
      "metadata": {
        "colab": {
          "base_uri": "https://localhost:8080/"
        },
        "id": "EAilOQu6oL0f",
        "outputId": "1e321e0f-657d-494b-cd1b-f665e9f1dcf1"
      },
      "execution_count": null,
      "outputs": [
        {
          "output_type": "stream",
          "name": "stdout",
          "text": [
            "False\n"
          ]
        }
      ]
    },
    {
      "cell_type": "markdown",
      "source": [
        "7. Identify the three blocks in this code:\n",
        "spam = 0\n",
        "if spam == 10:\n",
        "print('eggs')\n",
        "if spam > 5:\n",
        "print('bacon')\n",
        "else:\n",
        "print('ham')\n",
        "print('spam')\n",
        "print('spam')"
      ],
      "metadata": {
        "id": "7nKlS8uqP9St"
      }
    },
    {
      "cell_type": "code",
      "source": [
        "spam = 0\n",
        "if spam == 10:\n",
        "  print('eggs')\n",
        "if spam > 5:\n",
        "  print('bacon')\n",
        "else:\n",
        "  print('ham')\n",
        "  print('spam')\n",
        "  print('spam')\n"
      ],
      "metadata": {
        "id": "zUNwTkw5PPOR",
        "colab": {
          "base_uri": "https://localhost:8080/"
        },
        "outputId": "b3dc3ade-7e5e-4002-ab2e-462eed88c1cd"
      },
      "execution_count": null,
      "outputs": [
        {
          "output_type": "stream",
          "name": "stdout",
          "text": [
            "ham\n",
            "spam\n",
            "spam\n"
          ]
        }
      ]
    },
    {
      "cell_type": "markdown",
      "source": [
        "so, in this code we have 3 blocks mean we used 3 comparison operator\n",
        "\n",
        "1)first block contain condition spam==10\n",
        "\n",
        "2)second block cotain condition spam>5 and\n",
        "\n",
        "3)third block contain condition spam<5\n",
        "\n",
        "in our case we gave spam=0\n",
        "so 3rd condition is satisfy and it print 'ham','spam' and again 'spam'."
      ],
      "metadata": {
        "id": "o9Drn3uhrWdE"
      }
    },
    {
      "cell_type": "markdown",
      "source": [
        "8. Write code that prints Hello if 1 is stored in spam, prints Howdy if 2 is stored in spam, and prints Greetings! if anything else is stored in spam."
      ],
      "metadata": {
        "id": "nNlu1B84rf35"
      }
    },
    {
      "cell_type": "code",
      "source": [
        "spam = 3\n",
        "if spam == 1:\n",
        "  print('Hello')\n",
        "if spam == 2:\n",
        "  print('Howdy')\n",
        "else:\n",
        "  print('Greetings')"
      ],
      "metadata": {
        "colab": {
          "base_uri": "https://localhost:8080/"
        },
        "id": "Y3WQG7v2ro5O",
        "outputId": "1cc4fde5-f2e2-4f36-c503-665672d850b0"
      },
      "execution_count": null,
      "outputs": [
        {
          "output_type": "stream",
          "name": "stdout",
          "text": [
            "Greetings\n"
          ]
        }
      ]
    },
    {
      "cell_type": "markdown",
      "source": [
        "9.If your programme is stuck in an endless loop, what keys you’ll press?"
      ],
      "metadata": {
        "id": "KKRrHeWlsQoz"
      }
    },
    {
      "cell_type": "markdown",
      "source": [
        "if our programme is get into an endless loop, then we have to use CTRL + C key to stop the loop."
      ],
      "metadata": {
        "id": "TFV0jbTbsxek"
      }
    },
    {
      "cell_type": "markdown",
      "source": [
        "10. How can you tell the difference between break and continue?"
      ],
      "metadata": {
        "id": "w3Iw5YJ5tPft"
      }
    },
    {
      "cell_type": "markdown",
      "source": [
        "Break:A break statement in Python alters the flow of a loop by terminating it once a specified condition is met.\n",
        "\n",
        "Continue: The continue statement in Python is used to skip the remaining code inside a loop for the current iteration only.\n",
        "\n",
        "maim difference between both of them is they work opposite to each other."
      ],
      "metadata": {
        "id": "aNjtVFzEuSg3"
      }
    },
    {
      "cell_type": "code",
      "source": [
        "# Break statement\n",
        "for num in range(0,10):\n",
        "    if num == 5:\n",
        "        break\n",
        "    print(f'Iteration: {num}')"
      ],
      "metadata": {
        "colab": {
          "base_uri": "https://localhost:8080/"
        },
        "id": "Dh2yEdYPuZGP",
        "outputId": "9ec056ed-3ae0-4d70-8997-a58a1278fc21"
      },
      "execution_count": null,
      "outputs": [
        {
          "output_type": "stream",
          "name": "stdout",
          "text": [
            "Iteration: 0\n",
            "Iteration: 1\n",
            "Iteration: 2\n",
            "Iteration: 3\n",
            "Iteration: 4\n"
          ]
        }
      ]
    },
    {
      "cell_type": "code",
      "source": [
        "# Continue statement \n",
        "for num in range(0,10):\n",
        "    if num == 5:\n",
        "        continue\n",
        "    print(f'Iteration: {num}')"
      ],
      "metadata": {
        "colab": {
          "base_uri": "https://localhost:8080/"
        },
        "id": "EYuNwk08umZR",
        "outputId": "ce31dc27-8b11-4828-d5e8-18313e151e86"
      },
      "execution_count": null,
      "outputs": [
        {
          "output_type": "stream",
          "name": "stdout",
          "text": [
            "Iteration: 0\n",
            "Iteration: 1\n",
            "Iteration: 2\n",
            "Iteration: 3\n",
            "Iteration: 4\n",
            "Iteration: 6\n",
            "Iteration: 7\n",
            "Iteration: 8\n",
            "Iteration: 9\n"
          ]
        }
      ]
    },
    {
      "cell_type": "code",
      "source": [
        "# the sode contains both break and continue statement\n",
        "for k in range(0,4):\n",
        "  if k==2:\n",
        "    continue\n",
        "  print(f'Outer For Loop Iteration: {k}')\n",
        "  for num in range(0,10):\n",
        "        if num == 2:\n",
        "            break\n",
        "        print(f'--Inner For Loop Iteration: {num}')"
      ],
      "metadata": {
        "colab": {
          "base_uri": "https://localhost:8080/"
        },
        "id": "jBB1fsfVvzai",
        "outputId": "33027992-f273-4a0a-a80f-e0e1f26768b5"
      },
      "execution_count": null,
      "outputs": [
        {
          "output_type": "stream",
          "name": "stdout",
          "text": [
            "Outer For Loop Iteration: 0\n",
            "--Inner For Loop Iteration: 0\n",
            "--Inner For Loop Iteration: 1\n",
            "Outer For Loop Iteration: 1\n",
            "--Inner For Loop Iteration: 0\n",
            "--Inner For Loop Iteration: 1\n",
            "Outer For Loop Iteration: 3\n",
            "--Inner For Loop Iteration: 0\n",
            "--Inner For Loop Iteration: 1\n"
          ]
        }
      ]
    },
    {
      "cell_type": "markdown",
      "source": [
        "11. In a for loop, what is the difference between range(10), range(0, 10), and range(0, 10, 1)?\n",
        "\n",
        "Ans. There is no any difference in between above range fuction.\n",
        "bcz if we r not specify anything in range i.e.range(10) then bydefault the range fuction start with 0, and there is bydefault difference in range is 1. "
      ],
      "metadata": {
        "id": "sAXsIILVyMwP"
      }
    },
    {
      "cell_type": "code",
      "source": [
        "range(10)"
      ],
      "metadata": {
        "colab": {
          "base_uri": "https://localhost:8080/"
        },
        "id": "OULmD2l1wx9Q",
        "outputId": "deda7156-af5b-4295-ac3e-1953a7f0ed27"
      },
      "execution_count": null,
      "outputs": [
        {
          "output_type": "execute_result",
          "data": {
            "text/plain": [
              "range(0, 10)"
            ]
          },
          "metadata": {},
          "execution_count": 15
        }
      ]
    },
    {
      "cell_type": "code",
      "source": [
        "range(0,10,1)"
      ],
      "metadata": {
        "colab": {
          "base_uri": "https://localhost:8080/"
        },
        "id": "EwIOe7NBySsp",
        "outputId": "c4cc0e7c-fc07-485b-8a07-a26ef83599f8"
      },
      "execution_count": null,
      "outputs": [
        {
          "output_type": "execute_result",
          "data": {
            "text/plain": [
              "range(0, 10)"
            ]
          },
          "metadata": {},
          "execution_count": 16
        }
      ]
    },
    {
      "cell_type": "code",
      "source": [
        "a=range(5,60,2)\n",
        "a #here we specify range from 5 upto 60 by taking differece of 2"
      ],
      "metadata": {
        "colab": {
          "base_uri": "https://localhost:8080/"
        },
        "id": "oz3yHpjJybj_",
        "outputId": "4a5af541-d29b-4134-ae67-92163ed7b0ce"
      },
      "execution_count": null,
      "outputs": [
        {
          "output_type": "execute_result",
          "data": {
            "text/plain": [
              "range(5, 60, 2)"
            ]
          },
          "metadata": {},
          "execution_count": 20
        }
      ]
    },
    {
      "cell_type": "markdown",
      "source": [
        "12. Write a short program that prints the numbers 1 to 10 using a for loop. Then write an equivalent program that prints the numbers 1 to 10 using a while loop."
      ],
      "metadata": {
        "id": "YSmKP5rYz21J"
      }
    },
    {
      "cell_type": "code",
      "source": [
        "#for loop\n",
        "for num in range(1,11):\n",
        "  print(f'Iteration: {num}')"
      ],
      "metadata": {
        "colab": {
          "base_uri": "https://localhost:8080/"
        },
        "id": "EnRxGP1F0IXg",
        "outputId": "88384cb0-70b0-4907-c0da-3564bd78f8ed"
      },
      "execution_count": null,
      "outputs": [
        {
          "output_type": "stream",
          "name": "stdout",
          "text": [
            "Iteration: 1\n",
            "Iteration: 2\n",
            "Iteration: 3\n",
            "Iteration: 4\n",
            "Iteration: 5\n",
            "Iteration: 6\n",
            "Iteration: 7\n",
            "Iteration: 8\n",
            "Iteration: 9\n",
            "Iteration: 10\n"
          ]
        }
      ]
    },
    {
      "cell_type": "code",
      "source": [
        "#while loop\n",
        "num = 1\n",
        "while num <= 10:\n",
        "  print(num)\n",
        "  num += 1"
      ],
      "metadata": {
        "colab": {
          "base_uri": "https://localhost:8080/"
        },
        "id": "GAkj6AgF007m",
        "outputId": "246001ec-7c0d-4b93-da8f-982d08ce9c80"
      },
      "execution_count": null,
      "outputs": [
        {
          "output_type": "stream",
          "name": "stdout",
          "text": [
            "1\n",
            "2\n",
            "3\n",
            "4\n",
            "5\n",
            "6\n",
            "7\n",
            "8\n",
            "9\n",
            "10\n"
          ]
        }
      ]
    },
    {
      "cell_type": "markdown",
      "source": [
        "13. If you had a function named bacon() inside a module named spam, how would you call it after importing spam?\n",
        "\n",
        "Ans. We called becon from spam module is: spam.bacon()"
      ],
      "metadata": {
        "id": "k30_EJxq0IAj"
      }
    },
    {
      "cell_type": "code",
      "source": [
        "#This function can\n",
        "import spam\n",
        "print(spam.bacon(2,4))"
      ],
      "metadata": {
        "colab": {
          "base_uri": "https://localhost:8080/"
        },
        "id": "buDYXUlM1a9L",
        "outputId": "0fdb984d-655f-4246-c9a3-50233688759c"
      },
      "execution_count": 5,
      "outputs": [
        {
          "output_type": "stream",
          "name": "stdout",
          "text": [
            "-2\n"
          ]
        }
      ]
    },
    {
      "cell_type": "code",
      "source": [],
      "metadata": {
        "id": "kR6Zy9mK6BEb"
      },
      "execution_count": null,
      "outputs": []
    }
  ]
}
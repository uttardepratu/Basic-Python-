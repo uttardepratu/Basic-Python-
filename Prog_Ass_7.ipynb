{
  "nbformat": 4,
  "nbformat_minor": 0,
  "metadata": {
    "colab": {
      "provenance": [],
      "authorship_tag": "ABX9TyPgdctoJ7o2UEQYePUGHLnZ",
      "include_colab_link": true
    },
    "kernelspec": {
      "name": "python3",
      "display_name": "Python 3"
    },
    "language_info": {
      "name": "python"
    }
  },
  "cells": [
    {
      "cell_type": "markdown",
      "metadata": {
        "id": "view-in-github",
        "colab_type": "text"
      },
      "source": [
        "<a href=\"https://colab.research.google.com/github/uttardepratu/Basic-Python-/blob/main/Prog_Ass_7.ipynb\" target=\"_parent\"><img src=\"https://colab.research.google.com/assets/colab-badge.svg\" alt=\"Open In Colab\"/></a>"
      ]
    },
    {
      "cell_type": "markdown",
      "source": [
        "1.\tWrite a Python Program to find sum of array?"
      ],
      "metadata": {
        "id": "SAwt2TDq3nmn"
      }
    },
    {
      "cell_type": "code",
      "execution_count": null,
      "metadata": {
        "colab": {
          "base_uri": "https://localhost:8080/"
        },
        "id": "pVgXGA753jzp",
        "outputId": "b94a5830-4d85-4b21-e423-55d30fbc732a"
      },
      "outputs": [
        {
          "output_type": "stream",
          "name": "stdout",
          "text": [
            "Sum of the array is :  34\n"
          ]
        }
      ],
      "source": [
        "# input values to list\n",
        "arr = [12, 3, 4, 15]\n",
        "\n",
        "ans = sum(arr)\n",
        "\n",
        "# display sum\n",
        "print('Sum of the array is : ', ans)"
      ]
    },
    {
      "cell_type": "markdown",
      "source": [
        "2.\tWrite a Python Program to find largest element in an array?"
      ],
      "metadata": {
        "id": "57KHfpsT4xfw"
      }
    },
    {
      "cell_type": "code",
      "source": [
        "arr = [12, 3, 4, 15]\n",
        "\n",
        "ans = max(arr)\n",
        "\n",
        "# display sum\n",
        "print('Sum of the array is : ', ans)"
      ],
      "metadata": {
        "colab": {
          "base_uri": "https://localhost:8080/"
        },
        "id": "4_oONbQW4yJP",
        "outputId": "5766264f-93b9-4012-b4d7-f8519c857afa"
      },
      "execution_count": null,
      "outputs": [
        {
          "output_type": "stream",
          "name": "stdout",
          "text": [
            "Sum of the array is :  15\n"
          ]
        }
      ]
    },
    {
      "cell_type": "markdown",
      "source": [
        "3.\tWrite a Python Program for array rotation?"
      ],
      "metadata": {
        "id": "Ck5_lXDr4-9e"
      }
    },
    {
      "cell_type": "code",
      "source": [
        "# Python program using the List\n",
        "# slicing approach to rotate the array\n",
        "def rotateList(arr,d,n):\n",
        "  arr[:]=arr[d:n]+arr[0:d]\n",
        "  return arr\n",
        "# Driver function to test above function\n",
        "arr = [1, 2, 3, 4, 5, 6]\n",
        "print(arr)\n",
        "print(\"Rotated list is :\")\n",
        "print(rotateList(arr,1,len(arr)))\n"
      ],
      "metadata": {
        "colab": {
          "base_uri": "https://localhost:8080/"
        },
        "id": "6I73wpwQ5BJ7",
        "outputId": "7d2ac350-1a44-46dc-9a68-7988e595aef4"
      },
      "execution_count": null,
      "outputs": [
        {
          "output_type": "stream",
          "name": "stdout",
          "text": [
            "[1, 2, 3, 4, 5, 6]\n",
            "Rotated list is :\n",
            "[2, 3, 4, 5, 6, 1]\n"
          ]
        }
      ]
    },
    {
      "cell_type": "code",
      "source": [
        "# function to rotate array by d elements using temp array\n",
        "def rotateArray(arr, n, d):\n",
        "    temp = []\n",
        "    i = 0\n",
        "    while (i < d):\n",
        "        temp.append(arr[i])\n",
        "        i = i + 1\n",
        "    i = 0\n",
        "    while (d < n):\n",
        "        arr[i] = arr[d]\n",
        "        i = i + 1\n",
        "        d = d + 1\n",
        "    arr[:] = arr[: i] + temp\n",
        "    return arr\n",
        "\n",
        "\n",
        "# Driver function to test above function\n",
        "arr = [1, 2, 3, 4, 5, 6, 7]\n",
        "print(arr)\n",
        "print(\"Array after left rotation is: \")\n",
        "print(rotateArray(arr, len(arr), 1))"
      ],
      "metadata": {
        "colab": {
          "base_uri": "https://localhost:8080/"
        },
        "id": "cOvOh8DL6ZIz",
        "outputId": "a8c02d52-c2af-4f8a-d72a-56fc1401eda2"
      },
      "execution_count": null,
      "outputs": [
        {
          "output_type": "stream",
          "name": "stdout",
          "text": [
            "[1, 2, 3, 4, 5, 6, 7]\n",
            "Array after left rotation is: \n",
            "[2, 3, 4, 5, 6, 7, 1]\n"
          ]
        }
      ]
    },
    {
      "cell_type": "markdown",
      "source": [
        "4.\tWrite a Python Program to Split the array and add the first part to the end?"
      ],
      "metadata": {
        "id": "cwtNEkI07HvP"
      }
    },
    {
      "cell_type": "code",
      "source": [
        "\n",
        "def splitArr(arr, n, k):\n",
        "    for i in range(0, k):\n",
        "        x = arr[0]\n",
        "        for j in range(0, n-1):\n",
        "            arr[j] = arr[j + 1]\n",
        "\n",
        "        arr[n-1] = x\n",
        "\n",
        "\n",
        "# main\n",
        "arr = [12, 10, 5, 6, 52, 36]\n",
        "n = len(arr)\n",
        "position = 2\n",
        "\n",
        "splitArr(arr, n, position)\n",
        "\n",
        "for i in range(0, n):\n",
        "    print(arr[i], end=' ')"
      ],
      "metadata": {
        "colab": {
          "base_uri": "https://localhost:8080/"
        },
        "id": "VuVSVSlW7IZr",
        "outputId": "d4672d31-c1bf-4fb2-c5ff-ee41be163fc9"
      },
      "execution_count": null,
      "outputs": [
        {
          "output_type": "stream",
          "name": "stdout",
          "text": [
            "5 6 52 36 12 10 "
          ]
        }
      ]
    },
    {
      "cell_type": "markdown",
      "source": [
        "5.\tWrite a Python Program to check if given array is Monotonic?\n",
        "\n",
        "An array is monotonic if it is either monotone increasing or monotone decreasing. An array A is monotone increasing if for all i <= j, A[i] <= A[j]."
      ],
      "metadata": {
        "id": "Zb5FHmCb8O0C"
      }
    },
    {
      "cell_type": "code",
      "source": [
        "\n",
        "# Check if given array is Monotonic\n",
        "def isMonotonic(A):\n",
        "    x, y = [], []\n",
        "    x.extend(A)\n",
        "    y.extend(A)\n",
        "    x.sort()\n",
        "    y.sort(reverse=True)\n",
        "    if(x == A or y == A):\n",
        "        return True\n",
        "    return False\n",
        "\n",
        "\n",
        "# Driver program\n",
        "A = [6, 5, 4, 4]\n",
        "\n",
        "# Print required result\n",
        "print(isMonotonic(A))"
      ],
      "metadata": {
        "colab": {
          "base_uri": "https://localhost:8080/"
        },
        "id": "i9l0F7WX8RcN",
        "outputId": "00899cae-75d4-4135-8e40-267e1285b93c"
      },
      "execution_count": null,
      "outputs": [
        {
          "output_type": "stream",
          "name": "stdout",
          "text": [
            "True\n"
          ]
        }
      ]
    },
    {
      "cell_type": "code",
      "source": [
        "\n",
        "# Check if given array is Monotonic\n",
        "def isMonotonic(A):\n",
        "    x, y = [], []\n",
        "    x.extend(A)\n",
        "    y.extend(A)\n",
        "    x.sort()\n",
        "    y.sort(reverse=True)\n",
        "    if(x == A or y == A):\n",
        "        return True\n",
        "    return False\n",
        "\n",
        "\n",
        "# Driver program\n",
        "A = [6, 5, 3, 4]\n",
        "\n",
        "# Print required result\n",
        "print(isMonotonic(A))"
      ],
      "metadata": {
        "colab": {
          "base_uri": "https://localhost:8080/"
        },
        "id": "BkgTUjrW9R7v",
        "outputId": "b13fc1f0-90a9-4b43-d907-f1a9672744ef"
      },
      "execution_count": null,
      "outputs": [
        {
          "output_type": "stream",
          "name": "stdout",
          "text": [
            "False\n"
          ]
        }
      ]
    }
  ]
}
{
  "nbformat": 4,
  "nbformat_minor": 0,
  "metadata": {
    "colab": {
      "provenance": [],
      "authorship_tag": "ABX9TyMw0TxScZQYr0hi5/KMHrR0",
      "include_colab_link": true
    },
    "kernelspec": {
      "name": "python3",
      "display_name": "Python 3"
    },
    "language_info": {
      "name": "python"
    }
  },
  "cells": [
    {
      "cell_type": "markdown",
      "metadata": {
        "id": "view-in-github",
        "colab_type": "text"
      },
      "source": [
        "<a href=\"https://colab.research.google.com/github/uttardepratu/Basic-Python-/blob/main/Prog_Ass_16.ipynb\" target=\"_parent\"><img src=\"https://colab.research.google.com/assets/colab-badge.svg\" alt=\"Open In Colab\"/></a>"
      ]
    },
    {
      "cell_type": "markdown",
      "source": [
        "Question1. Write a function that stutters a word as if someone is struggling to read it. The first two letters are repeated twice with an ellipsis ... and space after each, and then the word is pronounced with a question mark ?.\n",
        "Examples\n",
        "stutter(\"incredible\") ➞ \"in... in... incredible?\"\n",
        "\n",
        "stutter(\"enthusiastic\") ➞ \"en... en... enthusiastic?\"\n",
        "\n",
        "stutter(\"outstanding\") ➞ \"ou... ou... outstanding?\"\n",
        "\n",
        "Hint :- Assume all input is in lower case and at least two characters long.\n"
      ],
      "metadata": {
        "id": "9ilKM9btvw9h"
      }
    },
    {
      "cell_type": "code",
      "execution_count": null,
      "metadata": {
        "colab": {
          "base_uri": "https://localhost:8080/"
        },
        "id": "IINVUs6PvNJU",
        "outputId": "76c59d34-edc9-4c51-d052-203993541a6b"
      },
      "outputs": [
        {
          "output_type": "stream",
          "name": "stdout",
          "text": [
            "in... in... incredible?\n"
          ]
        }
      ],
      "source": [
        "def stutter(word):\n",
        "    s = word[:2]\n",
        "    return (2 * (s + '... ')) + word + '?'\n",
        "\n",
        "\n",
        "print(stutter(\"incredible\"))"
      ]
    },
    {
      "cell_type": "code",
      "source": [
        "def stutter(word):\n",
        "    s = word[:2]\n",
        "    return (2 * (s + '... ')) + word + '?'\n",
        "\n",
        "\n",
        "print(stutter(\"enthusiastic\"))"
      ],
      "metadata": {
        "colab": {
          "base_uri": "https://localhost:8080/"
        },
        "id": "xWDD3mvUwVZN",
        "outputId": "61a1697a-4d73-4e88-cf2d-bedaa7450030"
      },
      "execution_count": null,
      "outputs": [
        {
          "output_type": "stream",
          "name": "stdout",
          "text": [
            "en... en... enthusiastic?\n"
          ]
        }
      ]
    },
    {
      "cell_type": "code",
      "source": [
        "def stutter(word):\n",
        "    s = word[:2]\n",
        "    return (2 * (s + '... ')) + word + '?'\n",
        "\n",
        "\n",
        "print(stutter(\"outstanding\"))"
      ],
      "metadata": {
        "colab": {
          "base_uri": "https://localhost:8080/"
        },
        "id": "YrWwj8T-wvVQ",
        "outputId": "21ca449f-c5bd-4cd4-a5fa-2b93ed422c26"
      },
      "execution_count": null,
      "outputs": [
        {
          "output_type": "stream",
          "name": "stdout",
          "text": [
            "ou... ou... outstanding?\n"
          ]
        }
      ]
    },
    {
      "cell_type": "markdown",
      "source": [
        "Question 2.Create a function that takes an angle in radians and returns the corresponding angle in degrees rounded to one decimal place.\n",
        "\n",
        "Examples\n",
        "radians_to_degrees(1) ➞ 57.3\n",
        "\n",
        "radians_to_degrees(20) ➞ 1145.9\n",
        "\n",
        "radians_to_degrees(50) ➞ 2864.8\n"
      ],
      "metadata": {
        "id": "GidWdD2JxBNz"
      }
    },
    {
      "cell_type": "code",
      "source": [
        "def radians_to_degrees(radian):\n",
        "    pi = 3.14159\n",
        "    # Simply used the formula\n",
        "    degree = radian * (180/pi)\n",
        "    return degree\n",
        "\n",
        "# Driver Code\n",
        "radian = 1\n",
        "print(\"degree =\", round(radians_to_degrees(radian),1))"
      ],
      "metadata": {
        "colab": {
          "base_uri": "https://localhost:8080/"
        },
        "id": "KPS29jw0xDGZ",
        "outputId": "d50dc267-ef8e-44a8-a6ec-b9dc710d947a"
      },
      "execution_count": null,
      "outputs": [
        {
          "output_type": "stream",
          "name": "stdout",
          "text": [
            "degree = 57.3\n"
          ]
        }
      ]
    },
    {
      "cell_type": "code",
      "source": [
        "def radians_to_degrees(radian):\n",
        "    pi = 3.14159\n",
        "    # Simply used the formula\n",
        "    degree = radian * (180/pi)\n",
        "    return degree\n",
        "\n",
        "# Driver Code\n",
        "radian = 20\n",
        "print(\"degree =\", round(radians_to_degrees(radian),1))"
      ],
      "metadata": {
        "colab": {
          "base_uri": "https://localhost:8080/"
        },
        "id": "CM9g4F5HyoXi",
        "outputId": "37d58706-6268-4f3d-c2a0-f3750b07a87a"
      },
      "execution_count": null,
      "outputs": [
        {
          "output_type": "stream",
          "name": "stdout",
          "text": [
            "degree = 1145.9\n"
          ]
        }
      ]
    },
    {
      "cell_type": "code",
      "source": [
        "def radians_to_degrees(radian):\n",
        "    pi = 3.14159\n",
        "    # Simply used the formula\n",
        "    degree = radian * (180/pi)\n",
        "    return degree\n",
        "\n",
        "# Driver Code\n",
        "radian = 50\n",
        "print(\"degree =\", round(radians_to_degrees(radian),1))"
      ],
      "metadata": {
        "colab": {
          "base_uri": "https://localhost:8080/"
        },
        "id": "xHDrOuzsyth2",
        "outputId": "b32ba56d-4d4b-4e87-ee71-7e04fb3bc689"
      },
      "execution_count": null,
      "outputs": [
        {
          "output_type": "stream",
          "name": "stdout",
          "text": [
            "degree = 2864.8\n"
          ]
        }
      ]
    },
    {
      "cell_type": "markdown",
      "source": [
        "\n",
        "Question 3. In this challenge, establish if a given integer num is a Curzon number. If 1 plus 2 elevated to num is exactly divisible by 1 plus 2 multiplied by num, then num is a Curzon number.\n",
        "Given a non-negative integer num, implement a function that returns True if num is a Curzon number, or False otherwise.\n",
        "\n",
        "Examples\n",
        "is_curzon(5) ➞ True\n",
        "# 2 ** 5 + 1 = 33\n",
        "# 2 * 5 + 1 = 11\n",
        "# 33 is a multiple of 11\n",
        "\n",
        "is_curzon(10) ➞ False\n",
        "# 2 ** 10 + 1 = 1025\n",
        "# 2 * 10 + 1 = 21\n",
        "# 1025 is not a multiple of 21\n",
        "\n",
        "is_curzon(14) ➞ True\n",
        "# 2 ** 14 + 1 = 16385\n",
        "# 2 * 14 + 1 = 29\n",
        "# 16385 is a multiple of 29\n"
      ],
      "metadata": {
        "id": "_VAIG3tKzEFa"
      }
    },
    {
      "cell_type": "code",
      "source": [
        "def is_curzon(N):\n",
        "\n",
        "    powerTerm, productTerm = 0, 0\n",
        "\n",
        "    # Find 2^N + 1\n",
        "    powerTerm = pow(2, N) + 1\n",
        "\n",
        "    # Find 2*N + 1\n",
        "    productTerm = 2 * N + 1\n",
        "\n",
        "    # Check for divisibility\n",
        "    if (powerTerm % productTerm == 0):\n",
        "        print(\"True\")\n",
        "    else:\n",
        "        print(\"False\")\n",
        "\n",
        "# Driver code\n",
        "if __name__ == '__main__':\n",
        "\n",
        "    N = 5\n",
        "    is_curzon(N)\n",
        "\n",
        "    N = 10\n",
        "    is_curzon(N)\n",
        "\n",
        "    N = 14\n",
        "    is_curzon(N)"
      ],
      "metadata": {
        "id": "CWMTvunyzGtt",
        "colab": {
          "base_uri": "https://localhost:8080/"
        },
        "outputId": "1b75b0dd-867f-4e0f-c96e-e1400deebae7"
      },
      "execution_count": null,
      "outputs": [
        {
          "output_type": "stream",
          "name": "stdout",
          "text": [
            "True\n",
            "False\n",
            "True\n"
          ]
        }
      ]
    },
    {
      "cell_type": "markdown",
      "source": [
        "Question 4.Given the side length x find the area of a hexagon.\n",
        "\n",
        "Examples\n",
        "area_of_hexagon(1) ➞ 2.6\n",
        "\n",
        "area_of_hexagon(2) ➞ 10.4\n",
        "\n",
        "area_of_hexagon(3) ➞ 23.4\n",
        "\n"
      ],
      "metadata": {
        "id": "pFqym8gazw5D"
      }
    },
    {
      "cell_type": "code",
      "source": [
        "import math\n",
        "\n",
        "# Function for calculating\n",
        "# area of the hexagon.\n",
        "def hexagonArea(s):\n",
        "\n",
        "    return ((3 * math.sqrt(3) *\n",
        "            (s * s)) / 2);\n",
        "\n",
        "# Driver code\n",
        "if __name__ == \"__main__\" :\n",
        "\n",
        "    # length of a side.\n",
        "    s = 2\n",
        "\n",
        "    print(\"Area:\",\"{0:.1f}\" . format(hexagonArea(s)))"
      ],
      "metadata": {
        "colab": {
          "base_uri": "https://localhost:8080/"
        },
        "id": "hsis201azx-i",
        "outputId": "95d48caf-125b-47ab-a659-376c6260b96b"
      },
      "execution_count": null,
      "outputs": [
        {
          "output_type": "stream",
          "name": "stdout",
          "text": [
            "Area: 10.4\n"
          ]
        }
      ]
    },
    {
      "cell_type": "code",
      "source": [
        "import math\n",
        "\n",
        "# Function for calculating\n",
        "# area of the hexagon.\n",
        "def hexagonArea(s):\n",
        "\n",
        "    return ((3 * math.sqrt(3) *\n",
        "            (s * s)) / 2);\n",
        "\n",
        "# Driver code\n",
        "if __name__ == \"__main__\" :\n",
        "\n",
        "    # length of a side.\n",
        "    s = 1\n",
        "\n",
        "    print(\"Area:\",\"{0:.1f}\" . format(hexagonArea(s)))"
      ],
      "metadata": {
        "colab": {
          "base_uri": "https://localhost:8080/"
        },
        "id": "av7IBnxs1u7r",
        "outputId": "cb04aaa6-0dfc-4be9-9ade-c5c18ad425ab"
      },
      "execution_count": null,
      "outputs": [
        {
          "output_type": "stream",
          "name": "stdout",
          "text": [
            "Area: 2.6\n"
          ]
        }
      ]
    },
    {
      "cell_type": "code",
      "source": [
        "import math\n",
        "\n",
        "# Function for calculating\n",
        "# area of the hexagon.\n",
        "def hexagonArea(s):\n",
        "\n",
        "    return ((3 * math.sqrt(3) *\n",
        "            (s * s)) / 2);\n",
        "\n",
        "# Driver code\n",
        "if __name__ == \"__main__\" :\n",
        "\n",
        "    # length of a side.\n",
        "    s = 3\n",
        "\n",
        "    print(\"Area:\",\"{0:.1f}\" . format(hexagonArea(s)))"
      ],
      "metadata": {
        "colab": {
          "base_uri": "https://localhost:8080/"
        },
        "id": "v2LWjT3V1zFH",
        "outputId": "13553e60-f597-4443-8978-3e43147de6dc"
      },
      "execution_count": null,
      "outputs": [
        {
          "output_type": "stream",
          "name": "stdout",
          "text": [
            "Area: 23.4\n"
          ]
        }
      ]
    },
    {
      "cell_type": "markdown",
      "source": [
        "Question 5. Create a function that returns a base-2 (binary) representation of a base-10 (decimal) string number. To convert is simple: ((2) means base-2 and (10) means base-10) 010101001(2) = 1 + 8 + 32 + 128.\n",
        "Going from right to left, the value of the most right bit is 1, now from that every bit to the left will be x2 the value, value of an 8 bit binary numbers are (256, 128, 64, 32, 16, 8, 4, 2, 1).\n",
        "\n",
        "Examples\n",
        "binary(1) ➞ \"1\"\n",
        "# 1*1 = 1\n",
        "\n",
        "binary(5) ➞ \"101\"\n",
        "# 1*1 + 1*4 = 5\n",
        "\n",
        "binary(10) ➞ \"1010\"\n",
        "# 1*2 + 1*8 = 10\n"
      ],
      "metadata": {
        "id": "KRadiEr719TY"
      }
    },
    {
      "cell_type": "code",
      "source": [
        "b_string  = bin(10)     # For testing purpose, get the binary string representation of 89.\n",
        "print(b_string)         # Print the binary string representation.\n",
        "#Output\n",
        "#0b1011001\n",
        "# Now, convert back the binary string to integer with int() and base parameter.\n",
        "int(x = b_string, base = 2)   # Convert to base 2.\n"
      ],
      "metadata": {
        "id": "bmv4saaj1_I6",
        "colab": {
          "base_uri": "https://localhost:8080/",
          "height": 263
        },
        "outputId": "77721b0f-f966-49da-f2fc-4715c304661e"
      },
      "execution_count": null,
      "outputs": [
        {
          "output_type": "stream",
          "name": "stdout",
          "text": [
            "0b1010\n"
          ]
        },
        {
          "output_type": "error",
          "ename": "TypeError",
          "evalue": "ignored",
          "traceback": [
            "\u001b[0;31m---------------------------------------------------------------------------\u001b[0m",
            "\u001b[0;31mTypeError\u001b[0m                                 Traceback (most recent call last)",
            "\u001b[0;32m<ipython-input-2-2b4742834280>\u001b[0m in \u001b[0;36m<cell line: 6>\u001b[0;34m()\u001b[0m\n\u001b[1;32m      4\u001b[0m \u001b[0;31m#0b1011001\u001b[0m\u001b[0;34m\u001b[0m\u001b[0;34m\u001b[0m\u001b[0m\n\u001b[1;32m      5\u001b[0m \u001b[0;31m# Now, convert back the binary string to integer with int() and base parameter.\u001b[0m\u001b[0;34m\u001b[0m\u001b[0;34m\u001b[0m\u001b[0m\n\u001b[0;32m----> 6\u001b[0;31m \u001b[0mint\u001b[0m\u001b[0;34m(\u001b[0m\u001b[0mx\u001b[0m \u001b[0;34m=\u001b[0m \u001b[0mb_string\u001b[0m\u001b[0;34m,\u001b[0m \u001b[0mbase\u001b[0m \u001b[0;34m=\u001b[0m \u001b[0;36m2\u001b[0m\u001b[0;34m)\u001b[0m   \u001b[0;31m# Convert to base 2.\u001b[0m\u001b[0;34m\u001b[0m\u001b[0;34m\u001b[0m\u001b[0m\n\u001b[0m\u001b[1;32m      7\u001b[0m \u001b[0;31m#Output\u001b[0m\u001b[0;34m\u001b[0m\u001b[0;34m\u001b[0m\u001b[0m\n\u001b[1;32m      8\u001b[0m \u001b[0;31m#89\u001b[0m\u001b[0;34m\u001b[0m\u001b[0;34m\u001b[0m\u001b[0m\n",
            "\u001b[0;31mTypeError\u001b[0m: 'x' is an invalid keyword argument for int()"
          ]
        }
      ]
    },
    {
      "cell_type": "code",
      "source": [
        "b_string  = bin(5)     # For testing purpose, get the binary string representation of 89.\n",
        "print(b_string)         # Print the binary string representation.\n",
        "#Output\n",
        "#0b1011001\n",
        "# Now, convert back the binary string to integer with int() and base parameter.\n",
        "int(x = b_string, base = 2)   # Convert to base 2.\n"
      ],
      "metadata": {
        "id": "iVfFTdoigH04",
        "outputId": "f540702d-a5d8-4960-c623-516e9b8ef02e",
        "colab": {
          "base_uri": "https://localhost:8080/",
          "height": 226
        }
      },
      "execution_count": null,
      "outputs": [
        {
          "output_type": "stream",
          "name": "stdout",
          "text": [
            "0b101\n"
          ]
        },
        {
          "output_type": "error",
          "ename": "TypeError",
          "evalue": "ignored",
          "traceback": [
            "\u001b[0;31m---------------------------------------------------------------------------\u001b[0m",
            "\u001b[0;31mTypeError\u001b[0m                                 Traceback (most recent call last)",
            "\u001b[0;32m<ipython-input-3-ecd18ce04827>\u001b[0m in \u001b[0;36m<cell line: 6>\u001b[0;34m()\u001b[0m\n\u001b[1;32m      4\u001b[0m \u001b[0;31m#0b1011001\u001b[0m\u001b[0;34m\u001b[0m\u001b[0;34m\u001b[0m\u001b[0m\n\u001b[1;32m      5\u001b[0m \u001b[0;31m# Now, convert back the binary string to integer with int() and base parameter.\u001b[0m\u001b[0;34m\u001b[0m\u001b[0;34m\u001b[0m\u001b[0m\n\u001b[0;32m----> 6\u001b[0;31m \u001b[0mint\u001b[0m\u001b[0;34m(\u001b[0m\u001b[0mx\u001b[0m \u001b[0;34m=\u001b[0m \u001b[0mb_string\u001b[0m\u001b[0;34m,\u001b[0m \u001b[0mbase\u001b[0m \u001b[0;34m=\u001b[0m \u001b[0;36m2\u001b[0m\u001b[0;34m)\u001b[0m   \u001b[0;31m# Convert to base 2.\u001b[0m\u001b[0;34m\u001b[0m\u001b[0;34m\u001b[0m\u001b[0m\n\u001b[0m",
            "\u001b[0;31mTypeError\u001b[0m: 'x' is an invalid keyword argument for int()"
          ]
        }
      ]
    }
  ]
}
{
  "nbformat": 4,
  "nbformat_minor": 0,
  "metadata": {
    "colab": {
      "provenance": [],
      "authorship_tag": "ABX9TyOgXRLWoiXJZK+X1scbCxX4",
      "include_colab_link": true
    },
    "kernelspec": {
      "name": "python3",
      "display_name": "Python 3"
    },
    "language_info": {
      "name": "python"
    }
  },
  "cells": [
    {
      "cell_type": "markdown",
      "metadata": {
        "id": "view-in-github",
        "colab_type": "text"
      },
      "source": [
        "<a href=\"https://colab.research.google.com/github/uttardepratu/Basic-Python-/blob/main/Assigment_9.ipynb\" target=\"_parent\"><img src=\"https://colab.research.google.com/assets/colab-badge.svg\" alt=\"Open In Colab\"/></a>"
      ]
    },
    {
      "cell_type": "markdown",
      "source": [
        "1. To what does a relative path refer?"
      ],
      "metadata": {
        "id": "7qujiaaZuUNR"
      }
    },
    {
      "cell_type": "markdown",
      "source": [
        "Relative paths are relative to the current working directory."
      ],
      "metadata": {
        "id": "ovMvnMulvJ_g"
      }
    },
    {
      "cell_type": "markdown",
      "source": [
        "2. Absolute paths start with the root folder, such as / or C:\\.\n",
        "\n",
        "\n",
        "Absolute paths start with the root folder, such as / or C:\\.\n",
        "\n"
      ],
      "metadata": {
        "id": "QlAGUt3LvRQR"
      }
    },
    {
      "cell_type": "markdown",
      "source": [
        "3. What do the functions os.getcwd() and os.chdir() do?\n",
        "\n",
        "On Windows, it evaluates to WindowsPath('C:/Users/Al'). On other operating systems, it evaluates to a different kind of Path object but with the same path.\n",
        "\n"
      ],
      "metadata": {
        "id": "05llzxMOvmI-"
      }
    },
    {
      "cell_type": "markdown",
      "source": [
        "4. What are the . and .. folders?\n",
        "\n",
        "The expression 'C:/Users' / 'Al' results in an error, since you can’t use the / operator to join two strings.\n"
      ],
      "metadata": {
        "id": "HrcxMcb9vwCE"
      }
    },
    {
      "cell_type": "markdown",
      "source": [
        "5. The os.getcwd() function returns the current working directory. The os.chdir() function changes the current working directory.\n",
        "\n",
        "The os.getcwd() function returns the current working directory. The os.chdir() function changes the current working directory."
      ],
      "metadata": {
        "id": "kLJHiFuvwEAj"
      }
    },
    {
      "cell_type": "markdown",
      "source": [
        "6. What are the three “mode” arguments that can be passed to the open() function?\n",
        "\n",
        "Ans.The string 'r' for read mode, 'w' for write mode, and 'a' for append mode\n",
        "\n",
        "\n",
        "\n"
      ],
      "metadata": {
        "id": "eiyaOUVSwZpl"
      }
    },
    {
      "cell_type": "markdown",
      "source": [
        "7. What happens if an existing file is opened in write mode?\n",
        "\n",
        "Ans An existing file opened in write mode is erased and completely overwritten.\n",
        "\n"
      ],
      "metadata": {
        "id": "AVqQvkLawuTb"
      }
    },
    {
      "cell_type": "markdown",
      "source": [
        "8. How do you tell the difference between read() and readlines()?\n",
        "\n",
        "Ans. The read() method returns the file’s entire contents as a single string value. The readlines() method returns a list of strings, where each string is a line from the file’s contents.\n",
        "\n"
      ],
      "metadata": {
        "id": "R5a9Jp_YwyU0"
      }
    },
    {
      "cell_type": "markdown",
      "source": [
        "9. What data structure does a shelf value resemble?\n",
        "\n",
        "Ans. A shelf value resembles a dictionary value; it has keys and values, along with keys() and values() methods that work similarly to the dictionary methods of the same names.\n",
        "\n"
      ],
      "metadata": {
        "id": "Fo6ARWaOw21c"
      }
    },
    {
      "cell_type": "code",
      "execution_count": null,
      "metadata": {
        "id": "ONRMxg1kuTNZ"
      },
      "outputs": [],
      "source": []
    }
  ]
}
{
  "nbformat": 4,
  "nbformat_minor": 0,
  "metadata": {
    "colab": {
      "provenance": [],
      "authorship_tag": "ABX9TyM+lfW6L+xyLgkwQwutB/Yc",
      "include_colab_link": true
    },
    "kernelspec": {
      "name": "python3",
      "display_name": "Python 3"
    },
    "language_info": {
      "name": "python"
    }
  },
  "cells": [
    {
      "cell_type": "markdown",
      "metadata": {
        "id": "view-in-github",
        "colab_type": "text"
      },
      "source": [
        "<a href=\"https://colab.research.google.com/github/uttardepratu/Basic-Python-/blob/main/Assiangment3.ipynb\" target=\"_parent\"><img src=\"https://colab.research.google.com/assets/colab-badge.svg\" alt=\"Open In Colab\"/></a>"
      ]
    },
    {
      "cell_type": "markdown",
      "source": [
        "Q1. Why are functions advantageous to have in your programs?\n",
        "\n",
        "Ans. Advantages of having functions:\n",
        "Functions reduce the need for duplicate code. This makes programs shorter, easier to read, and easier to update."
      ],
      "metadata": {
        "id": "tyZ9V5SdtUnG"
      }
    },
    {
      "cell_type": "markdown",
      "source": [
        "Q2. When does the code in a function run:when it's specified or when it's called?\n",
        "\n",
        "Ans . Code in the function runs when the function is called."
      ],
      "metadata": {
        "id": "hGjJM6aGtbaA"
      }
    },
    {
      "cell_type": "markdown",
      "source": [
        "Q3. What statement creates a function?\n",
        "\n",
        "Ans. The def statement defines (i.e. creates) a function.\n"
      ],
      "metadata": {
        "id": "1rexTsfEtqaO"
      }
    },
    {
      "cell_type": "code",
      "execution_count": 2,
      "metadata": {
        "id": "MkomxGITshc5"
      },
      "outputs": [],
      "source": [
        "def my_func(a,b):\n",
        "  print(a+b)"
      ]
    },
    {
      "cell_type": "markdown",
      "source": [
        "Q4. What is the difference between a function and a function call?\n",
        "\n",
        "A function consists of the def statement and the code in its def clause.\n",
        "\n",
        "A function call is what moves the program execution into the function, and the function call evaluates to the function's return value."
      ],
      "metadata": {
        "id": "c_T_5EdDuEVF"
      }
    },
    {
      "cell_type": "code",
      "source": [
        "#def of func\n",
        "def my_func(): \n",
        "    pass \n",
        "my_func() #calling of function"
      ],
      "metadata": {
        "id": "X7wNfdrAuFmS"
      },
      "execution_count": 3,
      "outputs": []
    },
    {
      "cell_type": "markdown",
      "source": [
        "Q5. How many global scopes are there in a Python program? How many local scopes?\n",
        "\n",
        "Ans .There's only one global Python scope per program execution. This scope remains in existence until the program terminates , and a local scope is created whenever a function is called."
      ],
      "metadata": {
        "id": "Gc-kiCtVuliY"
      }
    },
    {
      "cell_type": "markdown",
      "source": [
        "Q6. What happens to variables in a local scope when the function call returns?\n",
        "\n",
        "Ans. When a function returns, the local scope is destroyed."
      ],
      "metadata": {
        "id": "cKQ_jzjruvVq"
      }
    },
    {
      "cell_type": "markdown",
      "source": [
        "Q7. What is the concept of a return value? Is it possible to have a return value in an expression?\n",
        "\n",
        "Ans. A return value is the value that a function call evaluates to. Like any value, a return value can be used as part of an expression."
      ],
      "metadata": {
        "id": "hyEHLtiuu52O"
      }
    },
    {
      "cell_type": "markdown",
      "source": [
        "Q8. If a function does not have a return statement, what is the return value of a call to that function?\n",
        "\n",
        "Ans. If the funtion does not have a return statement it will not return anything."
      ],
      "metadata": {
        "id": "clRyvfQevE0X"
      }
    },
    {
      "cell_type": "markdown",
      "source": [
        "Q9. How do you make a function variable refer to the global variable?\n",
        "\n",
        "Ans. To make function variable as a global variable you can use the global keyword to declare which variables are global."
      ],
      "metadata": {
        "id": "9zDzVclXvJMk"
      }
    },
    {
      "cell_type": "markdown",
      "source": [
        "Q10. What is the data type of None?\n",
        "\n",
        "Ans . The data type of None is NoneType."
      ],
      "metadata": {
        "id": "y5wa82nhvRN5"
      }
    },
    {
      "cell_type": "markdown",
      "source": [
        "Q11. What does the sentence import areallyourpetsnamederic do?\n",
        "\n",
        "Ans. That import statement imports a module named areallyourpetsnamederic. (But a module of this name doesnt exists in Python)"
      ],
      "metadata": {
        "id": "lrd4MMeGvX8w"
      }
    },
    {
      "cell_type": "code",
      "source": [
        "import areallyourpetsnamederic"
      ],
      "metadata": {
        "colab": {
          "base_uri": "https://localhost:8080/",
          "height": 317
        },
        "id": "x29GSInUvFwJ",
        "outputId": "792a25fd-41a5-4779-eb74-a797c387c744"
      },
      "execution_count": 4,
      "outputs": [
        {
          "output_type": "error",
          "ename": "ModuleNotFoundError",
          "evalue": "ignored",
          "traceback": [
            "\u001b[0;31m---------------------------------------------------------------------------\u001b[0m",
            "\u001b[0;31mModuleNotFoundError\u001b[0m                       Traceback (most recent call last)",
            "\u001b[0;32m<ipython-input-4-b1ea9cb2228f>\u001b[0m in \u001b[0;36m<cell line: 1>\u001b[0;34m()\u001b[0m\n\u001b[0;32m----> 1\u001b[0;31m \u001b[0;32mimport\u001b[0m \u001b[0mareallyourpetsnamederic\u001b[0m\u001b[0;34m\u001b[0m\u001b[0;34m\u001b[0m\u001b[0m\n\u001b[0m",
            "\u001b[0;31mModuleNotFoundError\u001b[0m: No module named 'areallyourpetsnamederic'",
            "",
            "\u001b[0;31m---------------------------------------------------------------------------\u001b[0;32m\nNOTE: If your import is failing due to a missing package, you can\nmanually install dependencies using either !pip or !apt.\n\nTo view examples of installing some common dependencies, click the\n\"Open Examples\" button below.\n\u001b[0;31m---------------------------------------------------------------------------\u001b[0m\n"
          ],
          "errorDetails": {
            "actions": [
              {
                "action": "open_url",
                "actionText": "Open Examples",
                "url": "/notebooks/snippets/importing_libraries.ipynb"
              }
            ]
          }
        }
      ]
    },
    {
      "cell_type": "markdown",
      "source": [
        "Q12. If you had a bacon() feature in a spam module, what would you call it after importing spam?"
      ],
      "metadata": {
        "id": "OH82z2wpvuKw"
      }
    },
    {
      "cell_type": "code",
      "source": [
        "import spam\n",
        "spam.bacon(99,79)"
      ],
      "metadata": {
        "colab": {
          "base_uri": "https://localhost:8080/"
        },
        "id": "PdUG7U5BvkfM",
        "outputId": "ba80442a-b0f1-4ac7-d135-f231991927cb"
      },
      "execution_count": 5,
      "outputs": [
        {
          "output_type": "execute_result",
          "data": {
            "text/plain": [
              "20"
            ]
          },
          "metadata": {},
          "execution_count": 5
        }
      ]
    },
    {
      "cell_type": "markdown",
      "source": [
        "Q13. What can you do to save a programme from crashing if it encounters an error?\n",
        "\n",
        "Ans. We can use try except clause to save a program from crashing."
      ],
      "metadata": {
        "id": "A4W3C6YcwRqJ"
      }
    },
    {
      "cell_type": "markdown",
      "source": [
        "Q14. What is the purpose of the try clause? What is the purpose of the except clause?\n",
        "\n",
        "Ans. Try and Except clause is used to handle the errors within our code . The try block is used to check some code for errors i.e the code inside the try block will execute when there is no error in the program. Whereas the code inside the except block will execute whenever the program encounters some error in the try block."
      ],
      "metadata": {
        "id": "5H21NWOiwbN2"
      }
    },
    {
      "cell_type": "markdown",
      "source": [
        "Eg. try:\n",
        "\n",
        "Code\n",
        "\n",
        "Eg. except:\n",
        "\n",
        "Executed if error in the try block"
      ],
      "metadata": {
        "id": "eWzWK1XPwuTX"
      }
    },
    {
      "cell_type": "code",
      "source": [],
      "metadata": {
        "id": "7iNcqpmjwJqC"
      },
      "execution_count": null,
      "outputs": []
    }
  ]
}
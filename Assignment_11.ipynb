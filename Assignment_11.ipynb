{
  "nbformat": 4,
  "nbformat_minor": 0,
  "metadata": {
    "colab": {
      "provenance": [],
      "authorship_tag": "ABX9TyM4hp294DzjujTH9QdtEuk+",
      "include_colab_link": true
    },
    "kernelspec": {
      "name": "python3",
      "display_name": "Python 3"
    },
    "language_info": {
      "name": "python"
    }
  },
  "cells": [
    {
      "cell_type": "markdown",
      "metadata": {
        "id": "view-in-github",
        "colab_type": "text"
      },
      "source": [
        "<a href=\"https://colab.research.google.com/github/uttardepratu/Basic-Python-/blob/main/Assignment_11.ipynb\" target=\"_parent\"><img src=\"https://colab.research.google.com/assets/colab-badge.svg\" alt=\"Open In Colab\"/></a>"
      ]
    },
    {
      "cell_type": "markdown",
      "source": [
        "1. Create an assert statement that throws an AssertionError if the variable spam is a negative integer.\n",
        "\n",
        "Ans. The assert statement is used to continue the execute if the given condition evaluates to True. If the assert condition evaluates to False, then it raises the AssertionError exception with the specified error message.\n"
      ],
      "metadata": {
        "id": "3h--5gzUp9A-"
      }
    },
    {
      "cell_type": "code",
      "source": [
        "!pip install pyinputplus"
      ],
      "metadata": {
        "colab": {
          "base_uri": "https://localhost:8080/"
        },
        "id": "w68dGAOoqamP",
        "outputId": "0683680c-6b3b-41aa-ecde-b3f24ccb2163"
      },
      "execution_count": null,
      "outputs": [
        {
          "output_type": "stream",
          "name": "stdout",
          "text": [
            "Looking in indexes: https://pypi.org/simple, https://us-python.pkg.dev/colab-wheels/public/simple/\n",
            "Collecting pyinputplus\n",
            "  Downloading PyInputPlus-0.2.12.tar.gz (20 kB)\n",
            "  Installing build dependencies ... \u001b[?25l\u001b[?25hdone\n",
            "  Getting requirements to build wheel ... \u001b[?25l\u001b[?25hdone\n",
            "  Preparing metadata (pyproject.toml) ... \u001b[?25l\u001b[?25hdone\n",
            "Collecting pysimplevalidate>=0.2.7 (from pyinputplus)\n",
            "  Downloading PySimpleValidate-0.2.12.tar.gz (22 kB)\n",
            "  Installing build dependencies ... \u001b[?25l\u001b[?25hdone\n",
            "  Getting requirements to build wheel ... \u001b[?25l\u001b[?25hdone\n",
            "  Preparing metadata (pyproject.toml) ... \u001b[?25l\u001b[?25hdone\n",
            "Collecting stdiomask>=0.0.3 (from pyinputplus)\n",
            "  Downloading stdiomask-0.0.6.tar.gz (3.6 kB)\n",
            "  Installing build dependencies ... \u001b[?25l\u001b[?25hdone\n",
            "  Getting requirements to build wheel ... \u001b[?25l\u001b[?25hdone\n",
            "  Preparing metadata (pyproject.toml) ... \u001b[?25l\u001b[?25hdone\n",
            "Building wheels for collected packages: pyinputplus, pysimplevalidate, stdiomask\n",
            "  Building wheel for pyinputplus (pyproject.toml) ... \u001b[?25l\u001b[?25hdone\n",
            "  Created wheel for pyinputplus: filename=PyInputPlus-0.2.12-py3-none-any.whl size=11297 sha256=8273dfca52dbb6badf5a5917f8b036a991f6e4e50f4ff421c61e4d91bc7f55a2\n",
            "  Stored in directory: /root/.cache/pip/wheels/13/ec/a5/f780c8008b74e885aada43369ebf4d350edfd12bb5909ccb23\n",
            "  Building wheel for pysimplevalidate (pyproject.toml) ... \u001b[?25l\u001b[?25hdone\n",
            "  Created wheel for pysimplevalidate: filename=PySimpleValidate-0.2.12-py3-none-any.whl size=16176 sha256=b29413e4b78f7eb228acfd08667ba1c5ea5d2465eae4994bfa1bbc0320de00e1\n",
            "  Stored in directory: /root/.cache/pip/wheels/64/29/c9/2ee861e5b0775e289013b7c7157e0bdcea3a1b844f835b2eb8\n",
            "  Building wheel for stdiomask (pyproject.toml) ... \u001b[?25l\u001b[?25hdone\n",
            "  Created wheel for stdiomask: filename=stdiomask-0.0.6-py3-none-any.whl size=3306 sha256=8478fef4cf6b219aaac02a33aaf1aec429396a13e60200008cb710e7fc28a29f\n",
            "  Stored in directory: /root/.cache/pip/wheels/6c/00/4b/0715696f101d7376f67a83cf3d545feb8c241eeee75b80bb6f\n",
            "Successfully built pyinputplus pysimplevalidate stdiomask\n",
            "Installing collected packages: stdiomask, pysimplevalidate, pyinputplus\n",
            "Successfully installed pyinputplus-0.2.12 pysimplevalidate-0.2.12 stdiomask-0.0.6\n"
          ]
        }
      ]
    },
    {
      "cell_type": "code",
      "execution_count": null,
      "metadata": {
        "colab": {
          "base_uri": "https://localhost:8080/",
          "height": 263
        },
        "id": "zMup8qgQpr1q",
        "outputId": "75c6cf45-1c34-4e23-fa96-99bc5eeb68b4"
      },
      "outputs": [
        {
          "name": "stdout",
          "output_type": "stream",
          "text": [
            " Enter a positive number :-8\n"
          ]
        },
        {
          "output_type": "error",
          "ename": "AssertionError",
          "evalue": "ignored",
          "traceback": [
            "\u001b[0;31m---------------------------------------------------------------------------\u001b[0m",
            "\u001b[0;31mAssertionError\u001b[0m                            Traceback (most recent call last)",
            "\u001b[0;32m<ipython-input-4-2a7df3fe47b9>\u001b[0m in \u001b[0;36m<cell line: 4>\u001b[0;34m()\u001b[0m\n\u001b[1;32m      2\u001b[0m \u001b[0;34m\u001b[0m\u001b[0m\n\u001b[1;32m      3\u001b[0m \u001b[0mspam\u001b[0m \u001b[0;34m=\u001b[0m \u001b[0mpyip\u001b[0m\u001b[0;34m.\u001b[0m\u001b[0minputNum\u001b[0m\u001b[0;34m(\u001b[0m\u001b[0;34m\" Enter a positive number :\"\u001b[0m\u001b[0;34m)\u001b[0m\u001b[0;34m\u001b[0m\u001b[0;34m\u001b[0m\u001b[0m\n\u001b[0;32m----> 4\u001b[0;31m \u001b[0;32massert\u001b[0m \u001b[0mspam\u001b[0m \u001b[0;34m>\u001b[0m \u001b[0;36m0\u001b[0m\u001b[0;34m\u001b[0m\u001b[0;34m\u001b[0m\u001b[0m\n\u001b[0m\u001b[1;32m      5\u001b[0m \u001b[0mprint\u001b[0m\u001b[0;34m(\u001b[0m\u001b[0mspam\u001b[0m\u001b[0;34m,\u001b[0m\u001b[0;34m'is a positive number'\u001b[0m\u001b[0;34m)\u001b[0m\u001b[0;34m\u001b[0m\u001b[0;34m\u001b[0m\u001b[0m\n\u001b[1;32m      6\u001b[0m \u001b[0;34m\u001b[0m\u001b[0m\n",
            "\u001b[0;31mAssertionError\u001b[0m: "
          ]
        }
      ],
      "source": [
        "import pyinputplus as pyip\n",
        "\n",
        "spam = pyip.inputNum(\" Enter a positive number :\")\n",
        "assert spam > 0\n",
        "print(spam,'is a positive number')\n",
        ""
      ]
    },
    {
      "cell_type": "markdown",
      "source": [
        "Q. 2. Write an assert statement that triggers an AssertionError if the variables eggs and bacon contain strings that are the same as each other, even if their cases are different (that is, 'hello' and 'hello' are considered the same, and 'goodbye' and 'GOODbye' are also considered the same)."
      ],
      "metadata": {
        "id": "EQOUp1qtq1Mg"
      }
    },
    {
      "cell_type": "code",
      "source": [
        "eggs='Hello'\n",
        "bacon ='hello'\n",
        "\n",
        "assert eggs.lower() != bacon.lower() or eggs.upper() != bacon.upper()\n",
        "print('The eggs and bacon variables are not the same!')"
      ],
      "metadata": {
        "colab": {
          "base_uri": "https://localhost:8080/",
          "height": 226
        },
        "id": "fRMvLNKiqPtQ",
        "outputId": "d6e07c2a-205e-4439-e9a9-0b0a09341350"
      },
      "execution_count": null,
      "outputs": [
        {
          "output_type": "error",
          "ename": "AssertionError",
          "evalue": "ignored",
          "traceback": [
            "\u001b[0;31m---------------------------------------------------------------------------\u001b[0m",
            "\u001b[0;31mAssertionError\u001b[0m                            Traceback (most recent call last)",
            "\u001b[0;32m<ipython-input-5-ff14aa322207>\u001b[0m in \u001b[0;36m<cell line: 4>\u001b[0;34m()\u001b[0m\n\u001b[1;32m      2\u001b[0m \u001b[0mbacon\u001b[0m \u001b[0;34m=\u001b[0m\u001b[0;34m'hello'\u001b[0m\u001b[0;34m\u001b[0m\u001b[0;34m\u001b[0m\u001b[0m\n\u001b[1;32m      3\u001b[0m \u001b[0;34m\u001b[0m\u001b[0m\n\u001b[0;32m----> 4\u001b[0;31m \u001b[0;32massert\u001b[0m \u001b[0meggs\u001b[0m\u001b[0;34m.\u001b[0m\u001b[0mlower\u001b[0m\u001b[0;34m(\u001b[0m\u001b[0;34m)\u001b[0m \u001b[0;34m!=\u001b[0m \u001b[0mbacon\u001b[0m\u001b[0;34m.\u001b[0m\u001b[0mlower\u001b[0m\u001b[0;34m(\u001b[0m\u001b[0;34m)\u001b[0m \u001b[0;32mor\u001b[0m \u001b[0meggs\u001b[0m\u001b[0;34m.\u001b[0m\u001b[0mupper\u001b[0m\u001b[0;34m(\u001b[0m\u001b[0;34m)\u001b[0m \u001b[0;34m!=\u001b[0m \u001b[0mbacon\u001b[0m\u001b[0;34m.\u001b[0m\u001b[0mupper\u001b[0m\u001b[0;34m(\u001b[0m\u001b[0;34m)\u001b[0m\u001b[0;34m\u001b[0m\u001b[0;34m\u001b[0m\u001b[0m\n\u001b[0m\u001b[1;32m      5\u001b[0m \u001b[0mprint\u001b[0m\u001b[0;34m(\u001b[0m\u001b[0;34m'The eggs and bacon variables are not the same!'\u001b[0m\u001b[0;34m)\u001b[0m\u001b[0;34m\u001b[0m\u001b[0;34m\u001b[0m\u001b[0m\n",
            "\u001b[0;31mAssertionError\u001b[0m: "
          ]
        }
      ]
    },
    {
      "cell_type": "markdown",
      "source": [
        "Q. Create an assert statement that throws an AssertionError every time.\n",
        "\n",
        "assert False - this always triggers an exception"
      ],
      "metadata": {
        "id": "trheXOWirCaZ"
      }
    },
    {
      "cell_type": "code",
      "source": [
        "assert False"
      ],
      "metadata": {
        "colab": {
          "base_uri": "https://localhost:8080/",
          "height": 171
        },
        "id": "LXzhTtI5q7bK",
        "outputId": "0f7da643-3056-436d-f201-a6a0c7f7a684"
      },
      "execution_count": null,
      "outputs": [
        {
          "output_type": "error",
          "ename": "AssertionError",
          "evalue": "ignored",
          "traceback": [
            "\u001b[0;31m---------------------------------------------------------------------------\u001b[0m",
            "\u001b[0;31mAssertionError\u001b[0m                            Traceback (most recent call last)",
            "\u001b[0;32m<ipython-input-6-a871fdc9ebee>\u001b[0m in \u001b[0;36m<cell line: 1>\u001b[0;34m()\u001b[0m\n\u001b[0;32m----> 1\u001b[0;31m \u001b[0;32massert\u001b[0m \u001b[0;32mFalse\u001b[0m\u001b[0;34m\u001b[0m\u001b[0;34m\u001b[0m\u001b[0m\n\u001b[0m",
            "\u001b[0;31mAssertionError\u001b[0m: "
          ]
        }
      ]
    },
    {
      "cell_type": "markdown",
      "source": [
        "Q. 4. What are the two lines that must be present in your software in order to call logging.debug()?"
      ],
      "metadata": {
        "id": "76cz_KQRVfSv"
      }
    },
    {
      "cell_type": "code",
      "source": [
        "import logging as lg\n",
        "lg.basicConfig(level=lg.DEBUG, format=' %(asctime)s - %(levelname)s - %(message)s')"
      ],
      "metadata": {
        "id": "pzDdvAaLrHlS"
      },
      "execution_count": null,
      "outputs": []
    },
    {
      "cell_type": "markdown",
      "source": [
        "5.What are the two lines that your program must have in order to have logging.debug() send a logging message to a file named programLog.txt?"
      ],
      "metadata": {
        "id": "th8zWq9nV3qL"
      }
    },
    {
      "cell_type": "code",
      "source": [
        "import logging as lg\n",
        "lg.basicConfig(filename='programLog.txt', level=lg.DEBUG, format=' %(asctime)s - %(levelname)s - %(message)s')"
      ],
      "metadata": {
        "id": "bjsekIlOVr4U"
      },
      "execution_count": null,
      "outputs": []
    },
    {
      "cell_type": "markdown",
      "source": [
        "6.Q. What are the five levels of logging?"
      ],
      "metadata": {
        "id": "ISrit-lqWGlr"
      }
    },
    {
      "cell_type": "markdown",
      "source": [
        "Ans .Five level of loggins are DEBUG, INFO, WARNING, ERROR, and CRITICAL\n",
        "\n",
        "logging.debug() - variable's state and small details\n",
        "\n",
        "logging.info() - general events, confirm a program is working\n",
        "\n",
        "logging.warning() - potiental problem to work on in the future\n",
        "\n",
        "logging.error() - record an error that caused program to fail to do something\n",
        "\n",
        "logging.critical() - fatal error that has caused."
      ],
      "metadata": {
        "id": "YQqcUqh9WMQ5"
      }
    },
    {
      "cell_type": "markdown",
      "source": [
        "7.`Q. What line of code would you add to your software to disable all logging messages?"
      ],
      "metadata": {
        "id": "a-Fxhwr9WWm8"
      }
    },
    {
      "cell_type": "code",
      "source": [
        "import logging as lg\n",
        "lg.disable(lg.CRITICAL)"
      ],
      "metadata": {
        "id": "XUE7lK03WIcE"
      },
      "execution_count": null,
      "outputs": []
    },
    {
      "cell_type": "markdown",
      "source": [
        "8.Q. Why is using logging messages better than using print() to display the same message?\n",
        "\n",
        "Ans.\n",
        "\n",
        "You can disable logging messages without removing the logging function calls.\n",
        "\n",
        "You can selectively disable lower-level logging messages.\n",
        "\n",
        "You can create logging messages. Logging messages provides a timestamp."
      ],
      "metadata": {
        "id": "k_HlxB1ZWhmb"
      }
    },
    {
      "cell_type": "markdown",
      "source": [
        "9. Q. What are the differences between the Step Over, Step In, and Step Out buttons in the debugger?\n",
        "\n",
        "Ans.\n",
        "\n",
        "The Step in button will move the debugger into a function call.\n",
        "\n",
        "The Over button will quickly execute the function call without stepping into it.\n",
        "\n",
        "The Out button will quickly execute the rest of the code until it steps out of the function it currently is in."
      ],
      "metadata": {
        "id": "yaTECkvOWwoQ"
      }
    },
    {
      "cell_type": "markdown",
      "source": [
        "10 Q. After you click Continue, when will the debugger stop ?\n",
        "\n",
        "Ans. It will stops at next breakpoint, if there are no further breakpoints program will be fully executed."
      ],
      "metadata": {
        "id": "7jcTxCxCW1lr"
      }
    },
    {
      "cell_type": "markdown",
      "source": [
        "Q.What is the concept of a breakpoint?\n",
        "\n",
        "Ans. A breakpoint is an intentional stopping point or pause put into a program for debugging purposes."
      ],
      "metadata": {
        "id": "m5Gfx13sXCZ-"
      }
    },
    {
      "cell_type": "code",
      "source": [],
      "metadata": {
        "id": "4ibho8rFWlUq"
      },
      "execution_count": null,
      "outputs": []
    }
  ]
}
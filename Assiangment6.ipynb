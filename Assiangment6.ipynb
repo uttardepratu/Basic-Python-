{
  "nbformat": 4,
  "nbformat_minor": 0,
  "metadata": {
    "colab": {
      "provenance": [],
      "authorship_tag": "ABX9TyPSLIjkvlM9racTKrs7iAc0",
      "include_colab_link": true
    },
    "kernelspec": {
      "name": "python3",
      "display_name": "Python 3"
    },
    "language_info": {
      "name": "python"
    }
  },
  "cells": [
    {
      "cell_type": "markdown",
      "metadata": {
        "id": "view-in-github",
        "colab_type": "text"
      },
      "source": [
        "<a href=\"https://colab.research.google.com/github/uttardepratu/Basic-Python-/blob/main/Assiangment6.ipynb\" target=\"_parent\"><img src=\"https://colab.research.google.com/assets/colab-badge.svg\" alt=\"Open In Colab\"/></a>"
      ]
    },
    {
      "cell_type": "markdown",
      "source": [
        "1. What are escape characters, and how do you use them?"
      ],
      "metadata": {
        "id": "dqRTYylTu-sD"
      }
    },
    {
      "cell_type": "markdown",
      "source": [
        "Ans. To insert characters that are illegal in a string, use an escape character.\n",
        "\n",
        "An escape character is a backslash \\ followed by the character you want to insert.\n",
        "\n",
        "\\\"\tSingle Quote\t\n",
        "\n",
        "\\\\\\\tBackslash\t\n",
        "\n",
        "\\n\tNew Line\t\n",
        "\n",
        "\\r\tCarriage Return\t\n",
        "\n",
        "\\t\tTab\t\n",
        "\n",
        "\\b\tBackspace\t\n",
        "\n",
        "\\f\tForm Feed\n",
        "\n",
        "\\ooo\tOctal value\t\n",
        "\n",
        "\\xhh\tHex value"
      ],
      "metadata": {
        "id": "eTXOonJPvigZ"
      }
    },
    {
      "cell_type": "markdown",
      "source": [
        "2. What do the escape characters n and t stand for?\n",
        "\n",
        "Ans. \\n : New Line,\n",
        "\n",
        "\\t : Tab"
      ],
      "metadata": {
        "id": "Xk8Z0hulwHlD"
      }
    },
    {
      "cell_type": "code",
      "execution_count": null,
      "metadata": {
        "colab": {
          "base_uri": "https://localhost:8080/"
        },
        "id": "6G5xb9SitmVk",
        "outputId": "3414bb8c-9e4b-4c80-ac3e-ca7c786ebef8"
      },
      "outputs": [
        {
          "output_type": "stream",
          "name": "stdout",
          "text": [
            "apple\n",
            "orange\n"
          ]
        }
      ],
      "source": [
        "print('apple\\norange')"
      ]
    },
    {
      "cell_type": "code",
      "source": [
        "print('apple\\torange')"
      ],
      "metadata": {
        "colab": {
          "base_uri": "https://localhost:8080/"
        },
        "id": "hMrL9GzUw6wM",
        "outputId": "901216a8-9237-40e5-b85c-2366f9a676f8"
      },
      "execution_count": null,
      "outputs": [
        {
          "output_type": "stream",
          "name": "stdout",
          "text": [
            "apple\torange\n"
          ]
        }
      ]
    },
    {
      "cell_type": "markdown",
      "source": [
        "3. What is the way to include backslash characters in a string?\n",
        "\n",
        "\\\\\\ : Backslash"
      ],
      "metadata": {
        "id": "aHZjIeJJxxsf"
      }
    },
    {
      "cell_type": "code",
      "source": [
        "print(\"C:\\\\Users\\\\Pat\\\\Desktop\")"
      ],
      "metadata": {
        "colab": {
          "base_uri": "https://localhost:8080/"
        },
        "id": "L1Kv5fgtxxO-",
        "outputId": "e2239df5-e2d1-43bf-924a-ebe7a5329bbb"
      },
      "execution_count": null,
      "outputs": [
        {
          "output_type": "stream",
          "name": "stdout",
          "text": [
            "C:\\Users\\Pat\\Desktop\n"
          ]
        }
      ]
    },
    {
      "cell_type": "markdown",
      "source": [
        "4. The string \"Howl's Moving Castle\" is a correct value. Why isn't the single quote character in the word Howl's not escaped a problem?"
      ],
      "metadata": {
        "id": "lo8pbwG-ziWv"
      }
    },
    {
      "cell_type": "markdown",
      "source": [
        "Ans.The single quote in Howl's is fine because we are used double quotes to mark the beginning and end of the string. if we use double quote at both places then it will give us error."
      ],
      "metadata": {
        "id": "v_Mv0tHi0ZMx"
      }
    },
    {
      "cell_type": "markdown",
      "source": [
        "5. How do you write a string of newlines if you don't want to use the n character?\n",
        "\n",
        "Ans. Multiline strings allow you to use newlines in strings without the \\n escape character."
      ],
      "metadata": {
        "id": "PI0i5MLV0stu"
      }
    },
    {
      "cell_type": "markdown",
      "source": [
        "6. What are the values of the given expressions?\n",
        "\n",
        "'Hello, world!'[1]\n",
        "\n",
        "'Hello, world!'[0:5]\n",
        "\n",
        "'Hello, world!'[:5]\n",
        "\n",
        "'Hello, world!'[3:]\n"
      ],
      "metadata": {
        "id": "zqPmgK-B1F9l"
      }
    },
    {
      "cell_type": "code",
      "source": [
        "'Hello, world!'[1]"
      ],
      "metadata": {
        "colab": {
          "base_uri": "https://localhost:8080/",
          "height": 36
        },
        "id": "Gydd0f6c0pQz",
        "outputId": "8e3b0d4b-6980-4890-d629-92d037ef596a"
      },
      "execution_count": null,
      "outputs": [
        {
          "output_type": "execute_result",
          "data": {
            "text/plain": [
              "'e'"
            ],
            "application/vnd.google.colaboratory.intrinsic+json": {
              "type": "string"
            }
          },
          "metadata": {},
          "execution_count": 8
        }
      ]
    },
    {
      "cell_type": "code",
      "source": [
        "'Hello, world!'[0:5]"
      ],
      "metadata": {
        "colab": {
          "base_uri": "https://localhost:8080/",
          "height": 36
        },
        "id": "muz2jSZA1Z4q",
        "outputId": "123dfb73-3b78-41c6-9726-5958f26162eb"
      },
      "execution_count": null,
      "outputs": [
        {
          "output_type": "execute_result",
          "data": {
            "text/plain": [
              "'Hello'"
            ],
            "application/vnd.google.colaboratory.intrinsic+json": {
              "type": "string"
            }
          },
          "metadata": {},
          "execution_count": 9
        }
      ]
    },
    {
      "cell_type": "code",
      "source": [
        "'Hello, world!'[:5]"
      ],
      "metadata": {
        "colab": {
          "base_uri": "https://localhost:8080/",
          "height": 36
        },
        "id": "CxcQzm421gkR",
        "outputId": "9db614c7-01ff-4e16-a067-ddea4f62d696"
      },
      "execution_count": null,
      "outputs": [
        {
          "output_type": "execute_result",
          "data": {
            "text/plain": [
              "'Hello'"
            ],
            "application/vnd.google.colaboratory.intrinsic+json": {
              "type": "string"
            }
          },
          "metadata": {},
          "execution_count": 10
        }
      ]
    },
    {
      "cell_type": "code",
      "source": [
        "'Hello, world!'[3:]"
      ],
      "metadata": {
        "colab": {
          "base_uri": "https://localhost:8080/",
          "height": 36
        },
        "id": "5AbJElFh1mYI",
        "outputId": "a06c2680-a58a-42c6-a086-75badb1fa74a"
      },
      "execution_count": null,
      "outputs": [
        {
          "output_type": "execute_result",
          "data": {
            "text/plain": [
              "'lo, world!'"
            ],
            "application/vnd.google.colaboratory.intrinsic+json": {
              "type": "string"
            }
          },
          "metadata": {},
          "execution_count": 11
        }
      ]
    },
    {
      "cell_type": "markdown",
      "source": [
        "7. What are the values of the following expressions?\n",
        "\n",
        "'Hello'.upper()\n",
        "\n",
        "'Hello'.upper().isupper()\n",
        "\n",
        "'Hello'.upper().lower()\n"
      ],
      "metadata": {
        "id": "4vnS-iuD1ywg"
      }
    },
    {
      "cell_type": "code",
      "source": [
        "'Hello'.upper()"
      ],
      "metadata": {
        "colab": {
          "base_uri": "https://localhost:8080/",
          "height": 36
        },
        "id": "43VaysRw1qCL",
        "outputId": "73110104-3764-420e-a8d6-a62381c459f8"
      },
      "execution_count": null,
      "outputs": [
        {
          "output_type": "execute_result",
          "data": {
            "text/plain": [
              "'HELLO'"
            ],
            "application/vnd.google.colaboratory.intrinsic+json": {
              "type": "string"
            }
          },
          "metadata": {},
          "execution_count": 12
        }
      ]
    },
    {
      "cell_type": "code",
      "source": [
        "'Hello'.upper().isupper()"
      ],
      "metadata": {
        "colab": {
          "base_uri": "https://localhost:8080/"
        },
        "id": "FzVoDhxz164c",
        "outputId": "5461f597-1fbe-4a5e-955b-e150214a8ec5"
      },
      "execution_count": null,
      "outputs": [
        {
          "output_type": "execute_result",
          "data": {
            "text/plain": [
              "True"
            ]
          },
          "metadata": {},
          "execution_count": 13
        }
      ]
    },
    {
      "cell_type": "code",
      "source": [
        "'Hello'.upper().lower()"
      ],
      "metadata": {
        "colab": {
          "base_uri": "https://localhost:8080/",
          "height": 36
        },
        "id": "rFbRelkS1-fB",
        "outputId": "eec94d03-b71b-45dd-b2ce-513441c867ec"
      },
      "execution_count": null,
      "outputs": [
        {
          "output_type": "execute_result",
          "data": {
            "text/plain": [
              "'hello'"
            ],
            "application/vnd.google.colaboratory.intrinsic+json": {
              "type": "string"
            }
          },
          "metadata": {},
          "execution_count": 14
        }
      ]
    },
    {
      "cell_type": "markdown",
      "source": [
        "8. What are the values of the following expressions?\n",
        "\n",
        "'Remember, remember, the fifth of July.'.split()\n",
        "'-'.join('There can only one.'.split())\n"
      ],
      "metadata": {
        "id": "Bgo75Nv72HfU"
      }
    },
    {
      "cell_type": "code",
      "source": [
        "'Remember, remember, the fifth of July.'.split()"
      ],
      "metadata": {
        "colab": {
          "base_uri": "https://localhost:8080/"
        },
        "id": "BIhQCsVb2Bh1",
        "outputId": "bff75fee-bb3d-4a82-91f6-2c33026d9594"
      },
      "execution_count": null,
      "outputs": [
        {
          "output_type": "execute_result",
          "data": {
            "text/plain": [
              "['Remember,', 'remember,', 'the', 'fifth', 'of', 'July.']"
            ]
          },
          "metadata": {},
          "execution_count": 17
        }
      ]
    },
    {
      "cell_type": "code",
      "source": [
        "'-'.join('There can only one.'.split())"
      ],
      "metadata": {
        "colab": {
          "base_uri": "https://localhost:8080/",
          "height": 36
        },
        "id": "s5S7fybH2c4m",
        "outputId": "c55464a7-3ad2-44c4-839b-8a3343549d9e"
      },
      "execution_count": null,
      "outputs": [
        {
          "output_type": "execute_result",
          "data": {
            "text/plain": [
              "'There-can-only-one.'"
            ],
            "application/vnd.google.colaboratory.intrinsic+json": {
              "type": "string"
            }
          },
          "metadata": {},
          "execution_count": 16
        }
      ]
    },
    {
      "cell_type": "markdown",
      "source": [
        "9. What are the methods for right-justifying, left-justifying, and centering a string?\n",
        "\n",
        "Ans. The rjust(), ljust(), and center() string methods, respectively"
      ],
      "metadata": {
        "id": "mHfWKVLe25mW"
      }
    },
    {
      "cell_type": "markdown",
      "source": [
        "10. What is the best way to remove whitespace characters from the start or end?"
      ],
      "metadata": {
        "id": "I8e3f46D3cxG"
      }
    },
    {
      "cell_type": "markdown",
      "source": [
        "Ans. The lstrip() and rstrip() methods remove whitespace from the left and right ends of a string, respectively."
      ],
      "metadata": {
        "id": "VxSpsYiF3mRS"
      }
    },
    {
      "cell_type": "code",
      "source": [],
      "metadata": {
        "id": "nRGtWdLh2rMF"
      },
      "execution_count": null,
      "outputs": []
    }
  ]
}
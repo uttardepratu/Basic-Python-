{
  "nbformat": 4,
  "nbformat_minor": 0,
  "metadata": {
    "colab": {
      "provenance": [],
      "authorship_tag": "ABX9TyNBP02xeDwp396cvE0/bWy4",
      "include_colab_link": true
    },
    "kernelspec": {
      "name": "python3",
      "display_name": "Python 3"
    },
    "language_info": {
      "name": "python"
    }
  },
  "cells": [
    {
      "cell_type": "markdown",
      "metadata": {
        "id": "view-in-github",
        "colab_type": "text"
      },
      "source": [
        "<a href=\"https://colab.research.google.com/github/uttardepratu/Basic-Python-/blob/main/Prog_Ass_20.ipynb\" target=\"_parent\"><img src=\"https://colab.research.google.com/assets/colab-badge.svg\" alt=\"Open In Colab\"/></a>"
      ]
    },
    {
      "cell_type": "markdown",
      "source": [
        "Question1\n",
        "Create a function that takes a list of strings and integers, and filters out the list so that it returns a list of integers only.\n",
        "\n",
        "Examples\n",
        "filter_list([1, 2, 3, \"a\", \"b\", 4]) ➞ [1, 2, 3, 4]\n",
        "\n",
        "filter_list([\"A\", 0, \"Edabit\", 1729, \"Python\", \"1729\"]) ➞ [0, 1729]\n",
        "\n",
        "filter_list([\"Nothing\", \"here\"]) ➞ []\n"
      ],
      "metadata": {
        "id": "fgZTdJIm91w-"
      }
    },
    {
      "cell_type": "code",
      "source": [
        "lst = [1, 2, 3, 'a', 'b', 4]\n",
        "def filter_list(lst):\n",
        "  intLst = []\n",
        "    for i in lst:\n",
        "      if type(i) == int:\n",
        "        intLst.append(i)\n",
        "    return intLst"
      ],
      "metadata": {
        "id": "sCiUHRFq-h3X"
      },
      "execution_count": 2,
      "outputs": []
    },
    {
      "cell_type": "code",
      "source": [
        "filter_list(lst)"
      ],
      "metadata": {
        "colab": {
          "base_uri": "https://localhost:8080/"
        },
        "id": "2LJ23ULr-kKd",
        "outputId": "fa99c17d-4a4b-420c-c48c-99e00fd72c4c"
      },
      "execution_count": 3,
      "outputs": [
        {
          "output_type": "execute_result",
          "data": {
            "text/plain": [
              "[1, 2, 3, 4]"
            ]
          },
          "metadata": {},
          "execution_count": 3
        }
      ]
    },
    {
      "cell_type": "code",
      "source": [
        "filter_list([\"A\", 0, \"Edabit\", 1729, \"Python\", \"1729\"])"
      ],
      "metadata": {
        "colab": {
          "base_uri": "https://localhost:8080/"
        },
        "id": "p3AA-uxa_EI8",
        "outputId": "d48462ad-031a-4f36-b54b-218215be2f99"
      },
      "execution_count": 4,
      "outputs": [
        {
          "output_type": "execute_result",
          "data": {
            "text/plain": [
              "[0, 1729]"
            ]
          },
          "metadata": {},
          "execution_count": 4
        }
      ]
    },
    {
      "cell_type": "code",
      "source": [
        "filter_list([\"Nothing\", \"here\"])"
      ],
      "metadata": {
        "colab": {
          "base_uri": "https://localhost:8080/"
        },
        "id": "pXzgqyjr_Tpa",
        "outputId": "82840485-d26d-4e51-8639-f2af39482ada"
      },
      "execution_count": 5,
      "outputs": [
        {
          "output_type": "execute_result",
          "data": {
            "text/plain": [
              "[]"
            ]
          },
          "metadata": {},
          "execution_count": 5
        }
      ]
    },
    {
      "cell_type": "markdown",
      "source": [
        "Question2\n",
        "Given a list of numbers, create a function which returns the list but with each element's index in the list added to itself. This means you add 0 to the number at index 0, add 1 to the number at index 1, etc...\n",
        "\n",
        "Examples\n",
        "add_indexes([0, 0, 0, 0, 0]) ➞ [0, 1, 2, 3, 4]\n",
        "\n",
        "add_indexes([1, 2, 3, 4, 5]) ➞ [1, 3, 5, 7, 9]\n",
        "\n",
        "add_indexes([5, 4, 3, 2, 1]) ➞ [5, 5, 5, 5, 5]\n"
      ],
      "metadata": {
        "id": "vVElGc8jAD1I"
      }
    },
    {
      "cell_type": "code",
      "source": [
        "def add_indexes(lst):\n",
        "    ind = 0\n",
        "    index = []\n",
        "    for i in lst:\n",
        "        index.append(lst.index(i,ind) + i)\n",
        "        ind+=1\n",
        "    return index"
      ],
      "metadata": {
        "id": "S26COf0__Wgj"
      },
      "execution_count": 6,
      "outputs": []
    },
    {
      "cell_type": "code",
      "source": [
        "add_indexes([0, 0, 0, 0, 0])"
      ],
      "metadata": {
        "colab": {
          "base_uri": "https://localhost:8080/"
        },
        "id": "_FCHt64zAloH",
        "outputId": "2a91b08b-3ea4-4521-d327-58efb8d59580"
      },
      "execution_count": 7,
      "outputs": [
        {
          "output_type": "execute_result",
          "data": {
            "text/plain": [
              "[0, 1, 2, 3, 4]"
            ]
          },
          "metadata": {},
          "execution_count": 7
        }
      ]
    },
    {
      "cell_type": "code",
      "source": [
        "add_indexes([1, 2, 3, 4, 5])"
      ],
      "metadata": {
        "colab": {
          "base_uri": "https://localhost:8080/"
        },
        "id": "SnElrwJTAorQ",
        "outputId": "710da28f-04b4-4078-a8bd-471962430328"
      },
      "execution_count": 9,
      "outputs": [
        {
          "output_type": "execute_result",
          "data": {
            "text/plain": [
              "[1, 3, 5, 7, 9]"
            ]
          },
          "metadata": {},
          "execution_count": 9
        }
      ]
    },
    {
      "cell_type": "markdown",
      "source": [
        "Question3\n",
        "Create a function that takes the height and radius of a cone as arguments and returns the volume of the cone rounded to the nearest hundredth. See the resources tab for the formula.\n",
        "\n",
        "Examples\n",
        "cone_volume(3, 2) ➞ 12.57\n",
        "\n",
        "cone_volume(15, 6) ➞ 565.49\n",
        "\n",
        "cone_volume(18, 0) ➞ 0\n"
      ],
      "metadata": {
        "id": "IgfGREWoBWcc"
      }
    },
    {
      "cell_type": "code",
      "source": [
        "import math\n",
        "pi = math.pi\n",
        "\n",
        "# Function to calculate Volume of Cone\n",
        "def cone_volume(r, h):\n",
        "    return round((1 / 3) * pi * r * r * h)\n",
        "\n",
        "\n",
        "# Driver Code\n",
        "radius = float(5)\n",
        "height = float(12)\n",
        "\n",
        "print( \"Volume Of Cone : \", cone_volume(radius, height) )"
      ],
      "metadata": {
        "colab": {
          "base_uri": "https://localhost:8080/"
        },
        "id": "hSWmRKfSArt1",
        "outputId": "c97023da-9858-4fa5-b8e6-3b6f8f2beeaa"
      },
      "execution_count": 10,
      "outputs": [
        {
          "output_type": "stream",
          "name": "stdout",
          "text": [
            "Volume Of Cone :  314\n"
          ]
        }
      ]
    },
    {
      "cell_type": "code",
      "source": [
        "cone_volume(3, 2)"
      ],
      "metadata": {
        "colab": {
          "base_uri": "https://localhost:8080/"
        },
        "id": "Y3vWqsPnBv22",
        "outputId": "002506fc-ddab-4bce-f45b-19d917af9769"
      },
      "execution_count": 11,
      "outputs": [
        {
          "output_type": "execute_result",
          "data": {
            "text/plain": [
              "19"
            ]
          },
          "metadata": {},
          "execution_count": 11
        }
      ]
    },
    {
      "cell_type": "markdown",
      "source": [
        "Question4\n",
        "This Triangular Number Sequence is generated from a pattern of dots that form a triangle.\n",
        "The first 5 numbers of the sequence, or dots, are:\n",
        "1, 3, 6, 10, 15\n",
        "This means that the first triangle has just one dot, the second one has three dots, the third one has 6 dots and so on.\n",
        "Write a function that gives the number of dots with its corresponding triangle number of the sequence.\n",
        "\n",
        "Examples\n",
        "triangle(1) ➞ 1\n",
        "\n",
        "triangle(6) ➞ 21\n",
        "\n",
        "triangle(215) ➞ 23220\n"
      ],
      "metadata": {
        "id": "3Oq1qBhkCV9G"
      }
    },
    {
      "cell_type": "code",
      "source": [
        "def triangle(n):\n",
        "  return n*(n+1)*0.5\n",
        "\n",
        "n = int(input('Enter the trinalge number :'))\n",
        "print(\"The {}th triangle has {} dots \".format(n,int(triangle(n))))"
      ],
      "metadata": {
        "colab": {
          "base_uri": "https://localhost:8080/"
        },
        "id": "nDaSB_uvB3-w",
        "outputId": "2d9e0ca8-78f8-4198-a7ef-c27076cd3b39"
      },
      "execution_count": 12,
      "outputs": [
        {
          "output_type": "stream",
          "name": "stdout",
          "text": [
            "Enter the trinalge number :1\n",
            "The 1th triangle has 1 dots \n"
          ]
        }
      ]
    },
    {
      "cell_type": "code",
      "source": [
        "def triangle(n):\n",
        "  return n*(n+1)*0.5\n",
        "\n",
        "n = int(input('Enter the trinalge number :'))\n",
        "print(\"The {}th triangle has {} dots \".format(n,int(triangle(n))))"
      ],
      "metadata": {
        "colab": {
          "base_uri": "https://localhost:8080/"
        },
        "id": "8pXhTpggCrL5",
        "outputId": "3bcc2890-a793-41a6-fc7c-3fa4f293fc72"
      },
      "execution_count": 13,
      "outputs": [
        {
          "output_type": "stream",
          "name": "stdout",
          "text": [
            "Enter the trinalge number :6\n",
            "The 6th triangle has 21 dots \n"
          ]
        }
      ]
    },
    {
      "cell_type": "code",
      "source": [
        "def triangle(n):\n",
        "    return n*(n+1)*0.5\n",
        "\n",
        "n = int(input('Enter the trinalge number :'))\n",
        "print(\"The {}th triangle has {} dots \".format(n,int(triangle(n))))"
      ],
      "metadata": {
        "colab": {
          "base_uri": "https://localhost:8080/"
        },
        "id": "AKX6zB2rCxPm",
        "outputId": "038f451e-47b9-49b4-8aca-8caa02dc22ed"
      },
      "execution_count": 14,
      "outputs": [
        {
          "output_type": "stream",
          "name": "stdout",
          "text": [
            "Enter the trinalge number :215\n",
            "The 215th triangle has 23220 dots \n"
          ]
        }
      ]
    },
    {
      "cell_type": "markdown",
      "source": [
        "Question5\n",
        "Create a function that takes a list of numbers between 1 and 10 (excluding one number) and returns the missing number.\n",
        "\n",
        "Examples\n",
        "missing_num([1, 2, 3, 4, 6, 7, 8, 9, 10]) ➞ 5\n",
        "\n",
        "missing_num([7, 2, 3, 6, 5, 9, 1, 4, 8]) ➞ 10\n",
        "\n",
        "missing_num([10, 5, 1, 2, 4, 6, 8, 3, 9]) ➞ 7\n",
        "\n"
      ],
      "metadata": {
        "id": "FuJ60Q00DCoY"
      }
    },
    {
      "cell_type": "code",
      "source": [
        "def missing_num(lst):\n",
        "    total = sum([x for x in range(11)])\n",
        "    sum_Of_list = sum(lst)\n",
        "    return total - sum_Of_list\n",
        "\n",
        "print(missing_num([1, 2, 3, 4, 6, 7, 8, 9, 10]))\n",
        ""
      ],
      "metadata": {
        "colab": {
          "base_uri": "https://localhost:8080/"
        },
        "id": "9V-zaFd2DEIz",
        "outputId": "6144c216-97e7-4edc-8613-e6679b26b214"
      },
      "execution_count": 15,
      "outputs": [
        {
          "output_type": "stream",
          "name": "stdout",
          "text": [
            "5\n"
          ]
        }
      ]
    },
    {
      "cell_type": "code",
      "source": [
        "def missing_num(lst):\n",
        "    total = sum([x for x in range(11)])\n",
        "    sum_Of_list = sum(lst)\n",
        "    return total - sum_Of_list\n",
        "\n",
        "print(missing_num([7, 2, 3, 6, 5, 9, 1, 4, 8]))\n",
        ""
      ],
      "metadata": {
        "colab": {
          "base_uri": "https://localhost:8080/"
        },
        "id": "4IHlpA2fDLzD",
        "outputId": "f49df324-99f1-4eb3-cd92-b0e9c936607e"
      },
      "execution_count": 17,
      "outputs": [
        {
          "output_type": "stream",
          "name": "stdout",
          "text": [
            "10\n"
          ]
        }
      ]
    },
    {
      "cell_type": "code",
      "source": [
        "def missing_num(lst):\n",
        "    total = sum([x for x in range(11)])\n",
        "    sum_Of_list = sum(lst)\n",
        "    return total - sum_Of_list\n",
        "\n",
        "print(missing_num([10, 5, 1, 2, 4, 6, 8, 3, 9]))"
      ],
      "metadata": {
        "colab": {
          "base_uri": "https://localhost:8080/"
        },
        "id": "v4jrY2WRDZnJ",
        "outputId": "317d7262-27e4-4cca-be49-acb6aecdc7f5"
      },
      "execution_count": 18,
      "outputs": [
        {
          "output_type": "stream",
          "name": "stdout",
          "text": [
            "7\n"
          ]
        }
      ]
    }
  ]
}
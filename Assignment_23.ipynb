{
  "nbformat": 4,
  "nbformat_minor": 0,
  "metadata": {
    "colab": {
      "provenance": [],
      "authorship_tag": "ABX9TyMFj3KBxj8UnVm2SWABrGpf",
      "include_colab_link": true
    },
    "kernelspec": {
      "name": "python3",
      "display_name": "Python 3"
    },
    "language_info": {
      "name": "python"
    }
  },
  "cells": [
    {
      "cell_type": "markdown",
      "metadata": {
        "id": "view-in-github",
        "colab_type": "text"
      },
      "source": [
        "<a href=\"https://colab.research.google.com/github/uttardepratu/Basic-Python-/blob/main/Assignment_23.ipynb\" target=\"_parent\"><img src=\"https://colab.research.google.com/assets/colab-badge.svg\" alt=\"Open In Colab\"/></a>"
      ]
    },
    {
      "cell_type": "markdown",
      "source": [
        "1. What is the result of the code, and why?"
      ],
      "metadata": {
        "id": "WZGjfkw9SNrL"
      }
    },
    {
      "cell_type": "code",
      "execution_count": null,
      "metadata": {
        "colab": {
          "base_uri": "https://localhost:8080/"
        },
        "id": "z26TCmwWSMwT",
        "outputId": "9dee2e12-1a3b-4ca5-c5d3-01785de4f6ba"
      },
      "outputs": [
        {
          "output_type": "stream",
          "name": "stdout",
          "text": [
            "1 2 8\n"
          ]
        }
      ],
      "source": [
        "def func(a, b=6, c=8):\n",
        "  print(a, b, c)\n",
        "func(1, 2)\n"
      ]
    },
    {
      "cell_type": "code",
      "source": [
        "# Ans. This funtion is taking a positional argument and 2 keyward argument. When function call m=is made, parameter passed\n",
        "  # are a=1,b=2. When the function is executed , parameter c=8 will be taken by default as its a keyword argument.\n",
        "   # solution is = 1,2,8\n"
      ],
      "metadata": {
        "id": "L_Y0jxQiUudi"
      },
      "execution_count": null,
      "outputs": []
    },
    {
      "cell_type": "markdown",
      "source": [
        "2 Q. What is the result of this code, and why?"
      ],
      "metadata": {
        "id": "D2A4yeqpT3tt"
      }
    },
    {
      "cell_type": "code",
      "source": [
        "def func(a, b, c=5):\n",
        "  print(a, b, c)\n",
        "func(1, c=3, b=2)"
      ],
      "metadata": {
        "colab": {
          "base_uri": "https://localhost:8080/"
        },
        "id": "ykltxpWESW3g",
        "outputId": "b2f568c5-c149-4367-c106-3b882b3463dc"
      },
      "execution_count": null,
      "outputs": [
        {
          "output_type": "stream",
          "name": "stdout",
          "text": [
            "1 2 3\n"
          ]
        }
      ]
    },
    {
      "cell_type": "code",
      "source": [
        "# Ans. When we make function call, order will be positional argument and then keywords arguments. we can pass the keyword arguments in any order we want.\n",
        "#Solution is 1,2,3"
      ],
      "metadata": {
        "id": "SSzclUFhU4C5"
      },
      "execution_count": null,
      "outputs": []
    },
    {
      "cell_type": "markdown",
      "source": [
        "3. How about this code: what is its result, and why?"
      ],
      "metadata": {
        "id": "FWRYUwxuUUhK"
      }
    },
    {
      "cell_type": "code",
      "source": [
        "def func(a, *pargs):\n",
        "  print(a, pargs)\n",
        "func(1, 2, 3)"
      ],
      "metadata": {
        "colab": {
          "base_uri": "https://localhost:8080/"
        },
        "id": "YYgQkjELUXbh",
        "outputId": "965a4d1f-122b-4de3-d3a2-a0e7d04498ec"
      },
      "execution_count": null,
      "outputs": [
        {
          "output_type": "stream",
          "name": "stdout",
          "text": [
            "1 (2, 3)\n"
          ]
        }
      ]
    },
    {
      "cell_type": "code",
      "source": [
        "# Ans.The return type of *args parameter is tuple, where as **kargs will be dictionary\n",
        "#solution is = 1,(2,3)"
      ],
      "metadata": {
        "id": "mZ7hDfNdUesX"
      },
      "execution_count": null,
      "outputs": []
    },
    {
      "cell_type": "markdown",
      "source": [
        "4 Q. What does this code print, and why?"
      ],
      "metadata": {
        "id": "-fZYc8v0VC5K"
      }
    },
    {
      "cell_type": "code",
      "source": [
        "def func(a, **kargs):\n",
        "  print(a, kargs)\n",
        "func(a=1, c=3, b=2)\n"
      ],
      "metadata": {
        "colab": {
          "base_uri": "https://localhost:8080/"
        },
        "id": "kHXuHxwYU_EE",
        "outputId": "d18a7795-7449-42b3-edf8-5c1d57a0d858"
      },
      "execution_count": null,
      "outputs": [
        {
          "output_type": "stream",
          "name": "stdout",
          "text": [
            "1 {'c': 3, 'b': 2}\n"
          ]
        }
      ]
    },
    {
      "cell_type": "code",
      "source": [
        "#Ans. The return type of  **kargs is  dictionary\n",
        "#solution is = 1,{'c':3,'b':2}"
      ],
      "metadata": {
        "id": "5YwqLKfBVSeJ"
      },
      "execution_count": null,
      "outputs": []
    },
    {
      "cell_type": "markdown",
      "source": [
        "5 Q. What gets printed by this, and explain?"
      ],
      "metadata": {
        "id": "avENYkVTKwK6"
      }
    },
    {
      "cell_type": "code",
      "source": [
        "def func(a, b, c=8, d=5):\n",
        "    print(a, b, c, d)\n",
        "func(1, *(5, 6))"
      ],
      "metadata": {
        "id": "vh0RbGDeVTLv",
        "colab": {
          "base_uri": "https://localhost:8080/"
        },
        "outputId": "3bf2b903-9bf6-422b-f5cc-1db99433a356"
      },
      "execution_count": null,
      "outputs": [
        {
          "output_type": "stream",
          "name": "stdout",
          "text": [
            "1 5 6 5\n"
          ]
        }
      ]
    },
    {
      "cell_type": "code",
      "source": [
        "# '*' is the unpacking operator and are operators that unpack the values from iterable objects in Python. The single\n",
        "#asterisk operator * can be used on any iterable that Python provides, while the double asterisk operator ** can only\n",
        " #be used on dictionaries. In the example the value *(5,6) will be unpacked and will be assigned to b and c and passed\n",
        " #as arguments, d =5 will taken by defaults are keyword arguments.\n",
        "\n",
        "  #  Solution 1,5,6,5"
      ],
      "metadata": {
        "id": "3wKQIJVEK4wG"
      },
      "execution_count": null,
      "outputs": []
    },
    {
      "cell_type": "markdown",
      "source": [
        "6 Q. what is the result of this, and explain?\n"
      ],
      "metadata": {
        "id": "JuWkWXw4Lc6-"
      }
    },
    {
      "cell_type": "code",
      "source": [
        "def func(a, b, c):\n",
        "    a = 2; b[0] = 'x'; c['a'] = 'y'\n",
        "\n",
        "l=1; m=[1]; n={'a':0}\n",
        "func(l, m, n)\n",
        "\n",
        "l, m, n"
      ],
      "metadata": {
        "colab": {
          "base_uri": "https://localhost:8080/"
        },
        "id": "A_uyhtyZLeEa",
        "outputId": "9685c6f2-6b44-40c8-d3d2-40dc755b07cd"
      },
      "execution_count": null,
      "outputs": [
        {
          "output_type": "execute_result",
          "data": {
            "text/plain": [
              "(1, ['x'], {'a': 'y'})"
            ]
          },
          "metadata": {},
          "execution_count": 3
        }
      ]
    },
    {
      "cell_type": "code",
      "source": [
        "# Ans. Here in the code, the list and dict are passed as argument, and those are mutable. Here the list l and parameter b point\n",
        "#to the same list in the memory location where as dict n and c point to the same memory location. Any updates to this\n",
        "#list will update in the memory location\n",
        "\n",
        "#l = 1 , integer values, immutable, m is list, mutable, n is dict, mutable.\n",
        "#output will be = 1,['x'],{'a':'y'}"
      ],
      "metadata": {
        "id": "vgXFokvvLpdU"
      },
      "execution_count": null,
      "outputs": []
    },
    {
      "cell_type": "code",
      "source": [],
      "metadata": {
        "id": "0I9WSmFZL-r3"
      },
      "execution_count": null,
      "outputs": []
    }
  ]
}
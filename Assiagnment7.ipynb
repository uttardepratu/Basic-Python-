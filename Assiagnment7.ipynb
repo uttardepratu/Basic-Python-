{
  "nbformat": 4,
  "nbformat_minor": 0,
  "metadata": {
    "colab": {
      "provenance": [],
      "authorship_tag": "ABX9TyO5wXYaFo27wvZONB9TPA6Y",
      "include_colab_link": true
    },
    "kernelspec": {
      "name": "python3",
      "display_name": "Python 3"
    },
    "language_info": {
      "name": "python"
    }
  },
  "cells": [
    {
      "cell_type": "markdown",
      "metadata": {
        "id": "view-in-github",
        "colab_type": "text"
      },
      "source": [
        "<a href=\"https://colab.research.google.com/github/uttardepratu/Basic-Python-/blob/main/Assiagnment7.ipynb\" target=\"_parent\"><img src=\"https://colab.research.google.com/assets/colab-badge.svg\" alt=\"Open In Colab\"/></a>"
      ]
    },
    {
      "cell_type": "markdown",
      "source": [
        "1. What is the name of the feature responsible for generating Regex objects?"
      ],
      "metadata": {
        "id": "BWkVldXYbljn"
      }
    },
    {
      "cell_type": "code",
      "execution_count": 1,
      "metadata": {
        "id": "VaX9mnMfbfC6",
        "colab": {
          "base_uri": "https://localhost:8080/"
        },
        "outputId": "fab30d62-3ae4-4be1-dfb3-e4b4ff8976c5"
      },
      "outputs": [
        {
          "output_type": "execute_result",
          "data": {
            "text/plain": [
              "re.compile(r'string', re.UNICODE)"
            ]
          },
          "metadata": {},
          "execution_count": 1
        }
      ],
      "source": [
        "import re\n",
        "re.compile(\"string\")\n",
        "#The re.compile() function returns Regex objects."
      ]
    },
    {
      "cell_type": "markdown",
      "source": [
        "2. Why do raw strings often appear in Regex objects?"
      ],
      "metadata": {
        "id": "GzWWdn6TfRar"
      }
    },
    {
      "cell_type": "markdown",
      "source": [
        "Ans . Raw strings are used so that backslashes do not have to be escaped"
      ],
      "metadata": {
        "id": "YTaZXQEpfQjp"
      }
    },
    {
      "cell_type": "markdown",
      "source": [
        "3. What is the return value of the search() method?"
      ],
      "metadata": {
        "id": "-cPbLeVEqmK9"
      }
    },
    {
      "cell_type": "markdown",
      "source": [
        "Ans . The search() method searches a string for a specified value, and returns the position of the match.\n",
        "\n",
        "The search value can be string or a regular expression. This method returns -1 if no match is found"
      ],
      "metadata": {
        "id": "NY1Mce-OqOO6"
      }
    },
    {
      "cell_type": "markdown",
      "source": [
        "\n",
        "4. From a Match item, how do you get the actual strings that match the pattern?"
      ],
      "metadata": {
        "id": "fO8UzyjRqqSi"
      }
    },
    {
      "cell_type": "code",
      "source": [
        "phoneNumRegex = re.compile(r'\\d\\d\\d-\\d\\d\\d-\\d\\d\\d\\d')\n",
        "mo = phoneNumRegex.search('My number is 345-444-4542.')\n",
        "print('Phone number is: ' + mo.group())\n",
        "#Calling matchingObject.group() will return the string."
      ],
      "metadata": {
        "colab": {
          "base_uri": "https://localhost:8080/"
        },
        "id": "8o_898G4r40i",
        "outputId": "8c16cc8a-5eee-45fb-f04a-9d54554a1604"
      },
      "execution_count": null,
      "outputs": [
        {
          "output_type": "stream",
          "name": "stdout",
          "text": [
            "Phone number is: 345-444-4542\n"
          ]
        }
      ]
    },
    {
      "cell_type": "markdown",
      "source": [
        "5. In the regex which created from the r'(\\d\\d\\d)-(\\d\\d\\d-\\d\\d\\d\\d)', what does group zero cover? Group 2? Group 1?"
      ],
      "metadata": {
        "id": "EUX2XSXAsjW5"
      }
    },
    {
      "cell_type": "code",
      "source": [
        "phoneNumRegex = re.compile(r'(\\d\\d\\d)-(\\d\\d\\d-\\d\\d\\d\\d)')\n",
        "mo = phoneNumRegex.search('My number is 345-444-4542.')\n",
        "mo.group(0)\n",
        "#mo.group(1)\n",
        "#mo.group(2)"
      ],
      "metadata": {
        "id": "Fk1jTH3lsFNH",
        "colab": {
          "base_uri": "https://localhost:8080/",
          "height": 36
        },
        "outputId": "8c937747-4627-4efe-a320-03517f652268"
      },
      "execution_count": null,
      "outputs": [
        {
          "output_type": "execute_result",
          "data": {
            "text/plain": [
              "'345-444-4542'"
            ],
            "application/vnd.google.colaboratory.intrinsic+json": {
              "type": "string"
            }
          },
          "metadata": {},
          "execution_count": 6
        }
      ]
    },
    {
      "cell_type": "code",
      "source": [
        "mo.group(1)"
      ],
      "metadata": {
        "colab": {
          "base_uri": "https://localhost:8080/",
          "height": 36
        },
        "id": "hCAfOek_u0ZM",
        "outputId": "d40a0243-041d-4629-9d99-266d06889ac4"
      },
      "execution_count": null,
      "outputs": [
        {
          "output_type": "execute_result",
          "data": {
            "text/plain": [
              "'345'"
            ],
            "application/vnd.google.colaboratory.intrinsic+json": {
              "type": "string"
            }
          },
          "metadata": {},
          "execution_count": 7
        }
      ]
    },
    {
      "cell_type": "code",
      "source": [
        "mo.group(2)"
      ],
      "metadata": {
        "colab": {
          "base_uri": "https://localhost:8080/",
          "height": 36
        },
        "id": "muN7imf7u51e",
        "outputId": "57af4e33-9ef5-413b-db8d-bb029d377786"
      },
      "execution_count": null,
      "outputs": [
        {
          "output_type": "execute_result",
          "data": {
            "text/plain": [
              "'444-4542'"
            ],
            "application/vnd.google.colaboratory.intrinsic+json": {
              "type": "string"
            }
          },
          "metadata": {},
          "execution_count": 8
        }
      ]
    },
    {
      "cell_type": "markdown",
      "source": [
        "6. In standard expression syntax, parentheses and intervals have distinct meanings. How can you tell a regex that you want it to fit real parentheses and periods?"
      ],
      "metadata": {
        "id": "ybQd5T9VuEmz"
      }
    },
    {
      "cell_type": "markdown",
      "source": [
        "Ans. Periods and parentheses can be escaped with a backslash: ., (, and ).\n"
      ],
      "metadata": {
        "id": "KPL6UMhYB-4x"
      }
    },
    {
      "cell_type": "markdown",
      "source": [
        "7. The findall() method returns a string list or a list of string tuples. What causes it to return one of the two options?"
      ],
      "metadata": {
        "id": "loBFZGBnvcMG"
      }
    },
    {
      "cell_type": "markdown",
      "source": [
        "Ans. If the regex has no groups, a list of strings is returned. If the regex has groups, a list of tuples of strings is returned."
      ],
      "metadata": {
        "id": "j9IAwWMmCJby"
      }
    },
    {
      "cell_type": "markdown",
      "source": [
        "8. In standard expressions, what does the | character mean?"
      ],
      "metadata": {
        "id": "BhQw--vCCYmg"
      }
    },
    {
      "cell_type": "markdown",
      "source": [
        "Ans. The | character is called a pipe. You can use it anywhere you want to match one of many expressions.\n",
        "\n",
        "For example, the regular expression r'Cricket|Soccer Sport' will match either 'Cricket' or 'Soccer Sport'.\n",
        "\n",
        "When both Cricket and Soccer Sport occur in the searched string, the first occurrence of matching text will be returned as the Match object.\n",
        "\n",
        "The | character signifies matching “either, or” between two groups\n"
      ],
      "metadata": {
        "id": "5NzMYyS-CYji"
      }
    },
    {
      "cell_type": "code",
      "source": [
        "SportRegex = re.compile (r'Cricket|Soccer Sport')\n",
        "s1 = SportRegex.search('Cricket and Soccer Sport')\n",
        "s1.group()"
      ],
      "metadata": {
        "colab": {
          "base_uri": "https://localhost:8080/",
          "height": 36
        },
        "id": "oWcxjYzFBz9M",
        "outputId": "ab3472b5-69fd-4f59-902e-ff58a25e69f3"
      },
      "execution_count": null,
      "outputs": [
        {
          "output_type": "execute_result",
          "data": {
            "text/plain": [
              "'Cricket'"
            ],
            "application/vnd.google.colaboratory.intrinsic+json": {
              "type": "string"
            }
          },
          "metadata": {},
          "execution_count": 3
        }
      ]
    },
    {
      "cell_type": "code",
      "source": [
        "s2 = SportRegex.search('Soccer Sport and Cricket')\n",
        "s2.group()"
      ],
      "metadata": {
        "colab": {
          "base_uri": "https://localhost:8080/",
          "height": 36
        },
        "id": "OsmiF-UHCyz-",
        "outputId": "b1474242-3758-4298-b398-4d031f63c17b"
      },
      "execution_count": null,
      "outputs": [
        {
          "output_type": "execute_result",
          "data": {
            "text/plain": [
              "'Soccer Sport'"
            ],
            "application/vnd.google.colaboratory.intrinsic+json": {
              "type": "string"
            }
          },
          "metadata": {},
          "execution_count": 4
        }
      ]
    },
    {
      "cell_type": "markdown",
      "source": [
        "9.Ques. In regular expressions, what does the ? character stand for?\n",
        "\n",
        "Ans. The ? character can either mean “match zero or one of the preceding group”."
      ],
      "metadata": {
        "id": "2an2UK7LDkH_"
      }
    },
    {
      "cell_type": "code",
      "source": [
        "batRegex = re.compile(r'Bat(wo)?man')\n",
        "mo1 = batRegex.search('The Adventures of Batman')\n",
        "mo1.group()"
      ],
      "metadata": {
        "colab": {
          "base_uri": "https://localhost:8080/",
          "height": 36
        },
        "id": "MiGHLU6xDJKj",
        "outputId": "a858023e-eda4-44e2-8096-391b1b389d19"
      },
      "execution_count": null,
      "outputs": [
        {
          "output_type": "execute_result",
          "data": {
            "text/plain": [
              "'Batman'"
            ],
            "application/vnd.google.colaboratory.intrinsic+json": {
              "type": "string"
            }
          },
          "metadata": {},
          "execution_count": 5
        }
      ]
    },
    {
      "cell_type": "code",
      "source": [
        "mo2 = batRegex.search('The Adventures of Batwoman')\n",
        "mo2.group()"
      ],
      "metadata": {
        "colab": {
          "base_uri": "https://localhost:8080/",
          "height": 36
        },
        "id": "GtKmJ7ywDw8x",
        "outputId": "ef76b797-fa9a-444a-bc7c-844d4733bda3"
      },
      "execution_count": null,
      "outputs": [
        {
          "output_type": "execute_result",
          "data": {
            "text/plain": [
              "'Batwoman'"
            ],
            "application/vnd.google.colaboratory.intrinsic+json": {
              "type": "string"
            }
          },
          "metadata": {},
          "execution_count": 6
        }
      ]
    },
    {
      "cell_type": "markdown",
      "source": [
        "10.Ques.In regular expressions, what is the difference between the + and * characters?\n",
        "\n",
        "Ans. The + matches one or more. The * matches zero or more"
      ],
      "metadata": {
        "id": "xDKUUEM1EJHm"
      }
    },
    {
      "cell_type": "markdown",
      "source": [
        "11. What is the difference between {4} and {4,5} in regular expression?\n",
        "\n",
        "Ans. The {3} matches exactly three instances of the preceding group.\n",
        "\n",
        "The {3,5} matches between three and five instances"
      ],
      "metadata": {
        "id": "jyr_JutXEOcz"
      }
    },
    {
      "cell_type": "markdown",
      "source": [
        "12.Ques. What do you mean by the \\d, \\w, and \\s shorthand character classes signify in regular expressions?\n",
        "\n",
        "Ans .The \\d, stands for single digit, Any numeric digit from 0 to 9\n",
        "\n",
        "\\w, stands for single word, Any letter, numeric digit, or the underscore character. (Think of this as matching “word” characters.) \\s stands for single space character, Any space, tab, or newline character. (Think of this as matching “space” characters.)"
      ],
      "metadata": {
        "id": "lrataKgzEd0Q"
      }
    },
    {
      "cell_type": "markdown",
      "source": [
        "Ques13. What do means by \\D, \\W, and \\S shorthand character classes signify in regular expressions?\n",
        "\n",
        "Ans. \\D - > Any character that is not a numeric digit from 0 to 9.\n",
        "\n",
        "\\W - > Any character that is not a letter, numeric digit, or the underscore character.\n",
        "\\S - > Any character that is not a space, tab, or newline."
      ],
      "metadata": {
        "id": "yS-1arUJEj8k"
      }
    },
    {
      "cell_type": "markdown",
      "source": [
        "14Ques. What is the difference between .? and .?\n",
        "\n",
        "Ans) .* - The dot-star uses greedy mode: It will always try to match as much text as possible.\n",
        "\n",
        ".? - To match any and all text in a non-greedy fashion, use the dot, star, and question mark (.?). Like with braces, the question mark tells Python to match in a non-greedy way."
      ],
      "metadata": {
        "id": "vM2DOpcynq0n"
      }
    },
    {
      "cell_type": "code",
      "source": [
        "greedyRegex = re.compile(r'<.*>')\n",
        "mo = greedyRegex.search('<To serve man> for dinner.>')\n",
        "mo.group()"
      ],
      "metadata": {
        "id": "8XaetBxuECLf",
        "colab": {
          "base_uri": "https://localhost:8080/",
          "height": 36
        },
        "outputId": "d74f4157-e66b-41ba-f271-e81fa832104d"
      },
      "execution_count": 4,
      "outputs": [
        {
          "output_type": "execute_result",
          "data": {
            "text/plain": [
              "'<To serve man> for dinner.>'"
            ],
            "application/vnd.google.colaboratory.intrinsic+json": {
              "type": "string"
            }
          },
          "metadata": {},
          "execution_count": 4
        }
      ]
    },
    {
      "cell_type": "code",
      "source": [
        "nongreedyRegex = re.compile(r'<.*?>')\n",
        "mo = nongreedyRegex.search('<To serve man> for dinner.>')\n",
        "mo.group()"
      ],
      "metadata": {
        "colab": {
          "base_uri": "https://localhost:8080/",
          "height": 36
        },
        "id": "9RKiVlcrn8x0",
        "outputId": "140a24ee-d29b-42e1-ae58-462aa6b89bd4"
      },
      "execution_count": 7,
      "outputs": [
        {
          "output_type": "execute_result",
          "data": {
            "text/plain": [
              "'<To serve man>'"
            ],
            "application/vnd.google.colaboratory.intrinsic+json": {
              "type": "string"
            }
          },
          "metadata": {},
          "execution_count": 7
        }
      ]
    },
    {
      "cell_type": "markdown",
      "source": [
        "15Ques. What is the syntax for matching both numbers and lowercase letters with a character class?\n",
        "\n",
        "Ans. Either [0-9a-z] or [a-z0-9]"
      ],
      "metadata": {
        "id": "2rbnLo8CpbHA"
      }
    },
    {
      "cell_type": "code",
      "source": [
        "reg1 = re.compile(r'[0-9a-z]')\n",
        "reg2 = re.compile(r'[a-z0-9]')\n",
        "\n",
        "mo1 = reg1.search('100 times I am Reading  this for 100 th time')\n",
        "mo1.group()"
      ],
      "metadata": {
        "colab": {
          "base_uri": "https://localhost:8080/",
          "height": 36
        },
        "id": "eJ-bdi7ZpooD",
        "outputId": "d983df8d-b82e-41b0-e303-1e66bdc1eb70"
      },
      "execution_count": 9,
      "outputs": [
        {
          "output_type": "execute_result",
          "data": {
            "text/plain": [
              "'1'"
            ],
            "application/vnd.google.colaboratory.intrinsic+json": {
              "type": "string"
            }
          },
          "metadata": {},
          "execution_count": 9
        }
      ]
    },
    {
      "cell_type": "code",
      "source": [
        "reg2 = re.compile(r'[a-z0-9]')\n",
        "\n",
        "mo1 = reg2.search('times I am Reading  this for 100 th time')\n",
        "mo1.group()"
      ],
      "metadata": {
        "colab": {
          "base_uri": "https://localhost:8080/",
          "height": 36
        },
        "id": "Iyez8XVupwb3",
        "outputId": "7e74c316-b795-401a-ad2f-0e77404abc54"
      },
      "execution_count": 10,
      "outputs": [
        {
          "output_type": "execute_result",
          "data": {
            "text/plain": [
              "'t'"
            ],
            "application/vnd.google.colaboratory.intrinsic+json": {
              "type": "string"
            }
          },
          "metadata": {},
          "execution_count": 10
        }
      ]
    },
    {
      "cell_type": "markdown",
      "source": [
        "16 Ques. What is the procedure for making a normal expression in regax case insensitive?\n",
        "\n",
        "Ans. Passing re.I or re.IGNORECASE as the second argument to re.compile() will make the matching case insensitive\n"
      ],
      "metadata": {
        "id": "-Xu3JpjvqWWD"
      }
    },
    {
      "cell_type": "code",
      "source": [
        "casesen = re.compile(r'machine', re.I)\n",
        "casesen.search('Machine learning is part of data science').group()"
      ],
      "metadata": {
        "colab": {
          "base_uri": "https://localhost:8080/",
          "height": 36
        },
        "id": "hWAfkHoVqYeo",
        "outputId": "19db29da-d634-48f3-9950-29afe5a756e7"
      },
      "execution_count": 11,
      "outputs": [
        {
          "output_type": "execute_result",
          "data": {
            "text/plain": [
              "'Machine'"
            ],
            "application/vnd.google.colaboratory.intrinsic+json": {
              "type": "string"
            }
          },
          "metadata": {},
          "execution_count": 11
        }
      ]
    },
    {
      "cell_type": "code",
      "source": [
        "casesen.search('MACHINE is learning.').group()"
      ],
      "metadata": {
        "colab": {
          "base_uri": "https://localhost:8080/",
          "height": 36
        },
        "id": "vACVaq_oqt2D",
        "outputId": "466fa81e-1f55-42a2-daa6-4498496678a6"
      },
      "execution_count": 12,
      "outputs": [
        {
          "output_type": "execute_result",
          "data": {
            "text/plain": [
              "'MACHINE'"
            ],
            "application/vnd.google.colaboratory.intrinsic+json": {
              "type": "string"
            }
          },
          "metadata": {},
          "execution_count": 12
        }
      ]
    },
    {
      "cell_type": "markdown",
      "source": [
        "17 Ques. What does the . character normally match? What does it match if re.DOTALL is passed as 2nd argument in re.compile()?\n",
        "\n",
        "The . character normally matches any character except the newline character.\n",
        "\n",
        "If re.DOTALL is passed as the second argument to re.compile(), then the dot will also match newline characters."
      ],
      "metadata": {
        "id": "QtF6wp1Lq_kc"
      }
    },
    {
      "cell_type": "markdown",
      "source": [
        "18 Ques. If numRegex = re.compile(r'\\d+'), what will numRegex.sub('X', '11 drummers, 10 pipers, five rings, 4 hen') return?"
      ],
      "metadata": {
        "id": "v6Hse8KirJ70"
      }
    },
    {
      "cell_type": "code",
      "source": [
        "numRegex = re.compile(r'\\d+')\n",
        "mo = numRegex.sub('X', '11 drummers, 10 pipers, five rings, 4 hen')\n",
        "mo"
      ],
      "metadata": {
        "colab": {
          "base_uri": "https://localhost:8080/",
          "height": 36
        },
        "id": "PRkNs_87q30f",
        "outputId": "ace4f6e5-a24c-4617-bd7a-1a01b471bffe"
      },
      "execution_count": 13,
      "outputs": [
        {
          "output_type": "execute_result",
          "data": {
            "text/plain": [
              "'X drummers, X pipers, five rings, X hen'"
            ],
            "application/vnd.google.colaboratory.intrinsic+json": {
              "type": "string"
            }
          },
          "metadata": {},
          "execution_count": 13
        }
      ]
    },
    {
      "cell_type": "markdown",
      "source": [
        "Ques.19 What does passing re.VERBOSE as the 2nd argument to re.compile() allow to do?\n",
        "\n",
        "Ans. The re.VERBOSE argument allows you to add whitespace and comments to the string passed to re.compile()"
      ],
      "metadata": {
        "id": "RBPlei9nr_7V"
      }
    },
    {
      "cell_type": "markdown",
      "source": [
        "Ques.20 How would you write a regex that match a number with comma for every three digits? It must match the given following:\n"
      ],
      "metadata": {
        "id": "HEN3pvy1sFiV"
      }
    },
    {
      "cell_type": "code",
      "source": [
        "reg1 = re.compile(r'^\\d{1,3}(,\\d{3})*$')\n",
        "mo1 = reg1.search('42')\n",
        "mo1.group()"
      ],
      "metadata": {
        "colab": {
          "base_uri": "https://localhost:8080/",
          "height": 36
        },
        "id": "Lv1bEAGmrOiE",
        "outputId": "be332bd7-181e-440d-a7fe-019bfd2cb48e"
      },
      "execution_count": 14,
      "outputs": [
        {
          "output_type": "execute_result",
          "data": {
            "text/plain": [
              "'42'"
            ],
            "application/vnd.google.colaboratory.intrinsic+json": {
              "type": "string"
            }
          },
          "metadata": {},
          "execution_count": 14
        }
      ]
    },
    {
      "cell_type": "code",
      "source": [
        "reg1 = re.compile(r'^\\d{1,3}(,\\d{3})*$')\n",
        "mo1 = reg1.search('1,234')\n",
        "mo1.group()"
      ],
      "metadata": {
        "colab": {
          "base_uri": "https://localhost:8080/",
          "height": 36
        },
        "id": "3NLWh907sfnv",
        "outputId": "c188e638-4414-4996-b658-ee2791cb6449"
      },
      "execution_count": 15,
      "outputs": [
        {
          "output_type": "execute_result",
          "data": {
            "text/plain": [
              "'1,234'"
            ],
            "application/vnd.google.colaboratory.intrinsic+json": {
              "type": "string"
            }
          },
          "metadata": {},
          "execution_count": 15
        }
      ]
    },
    {
      "cell_type": "code",
      "source": [
        "reg1 = re.compile(r'^\\d{1,3}(,\\d{3})*$')\n",
        "mo1 = reg1.search('6,368,745')\n",
        "mo1.group()"
      ],
      "metadata": {
        "colab": {
          "base_uri": "https://localhost:8080/",
          "height": 36
        },
        "id": "IhlZB68jsnvQ",
        "outputId": "524f4aa0-e784-408f-bb52-6203447834ad"
      },
      "execution_count": 16,
      "outputs": [
        {
          "output_type": "execute_result",
          "data": {
            "text/plain": [
              "'6,368,745'"
            ],
            "application/vnd.google.colaboratory.intrinsic+json": {
              "type": "string"
            }
          },
          "metadata": {},
          "execution_count": 16
        }
      ]
    },
    {
      "cell_type": "markdown",
      "source": [
        "21. Ques. How would you write a regex that matches the full name of someone whose last name is Watanabe? You can assume that the first name that comes before it will always be one word that begins with a capital letter. The regex must match the following:"
      ],
      "metadata": {
        "id": "XUOLgnZasw_b"
      }
    },
    {
      "cell_type": "code",
      "source": [
        "name = re.compile(r'[A-Z][a-z]*\\sWatanabe')\n",
        "reg1 = re.compile(r'^\\d{1,3}(,\\d{haruto Watanabe3})*$')\n",
        "mo1 = name.search('Haruto Watanabe')\n",
        "mo1.group()"
      ],
      "metadata": {
        "colab": {
          "base_uri": "https://localhost:8080/",
          "height": 36
        },
        "id": "9o3EwUoCssCw",
        "outputId": "6176ff96-19f2-438c-8e81-d8ea323fc472"
      },
      "execution_count": 17,
      "outputs": [
        {
          "output_type": "execute_result",
          "data": {
            "text/plain": [
              "'Haruto Watanabe'"
            ],
            "application/vnd.google.colaboratory.intrinsic+json": {
              "type": "string"
            }
          },
          "metadata": {},
          "execution_count": 17
        }
      ]
    },
    {
      "cell_type": "code",
      "source": [
        "name = re.compile(r'[A-Z][a-z]*\\sWatanabe')\n",
        "reg1 = re.compile(r'^\\d{1,3}(,\\d{3})*$')\n",
        "mo1 = name.search('Alice Watanabe')\n",
        "mo1.group()\n",
        "     "
      ],
      "metadata": {
        "colab": {
          "base_uri": "https://localhost:8080/",
          "height": 36
        },
        "id": "C1_xpuEws5ZE",
        "outputId": "3f1ddb80-2fc3-4bcc-e0ca-f262fc199651"
      },
      "execution_count": 18,
      "outputs": [
        {
          "output_type": "execute_result",
          "data": {
            "text/plain": [
              "'Alice Watanabe'"
            ],
            "application/vnd.google.colaboratory.intrinsic+json": {
              "type": "string"
            }
          },
          "metadata": {},
          "execution_count": 18
        }
      ]
    },
    {
      "cell_type": "code",
      "source": [
        "name = re.compile(r'[A-Z][a-z]*\\sWatanabe')\n",
        "reg1 = re.compile(r'^\\d{1,3}(,\\d{3})*$')\n",
        "mo1 = name.search('Robocop Watanabe')\n",
        "mo1.group()"
      ],
      "metadata": {
        "colab": {
          "base_uri": "https://localhost:8080/",
          "height": 36
        },
        "id": "D6CbopOJs9RZ",
        "outputId": "afa0538f-93d0-4241-dfe6-c65e845e1708"
      },
      "execution_count": 19,
      "outputs": [
        {
          "output_type": "execute_result",
          "data": {
            "text/plain": [
              "'Robocop Watanabe'"
            ],
            "application/vnd.google.colaboratory.intrinsic+json": {
              "type": "string"
            }
          },
          "metadata": {},
          "execution_count": 19
        }
      ]
    },
    {
      "cell_type": "markdown",
      "source": [
        "22 Ques. How would you write a regex that matches a sentence where the first word is either Alice, Bob,or Carol; the second word is either eats, pets, or throws; the third word is apples, cats, or baseballs; and the sentence ends with a period? This regex should be case-insensitive. It must match the following:"
      ],
      "metadata": {
        "id": "RF--S12LtGBf"
      }
    },
    {
      "cell_type": "code",
      "source": [
        "name = re.compile(r'(Alice|Bob|Carol)\\s(eats|pets|throws)\\s(apples|cats|baseballs)\\.', re.IGNORECASE)\n",
        "\n",
        "mo1 = name.search('Alice eats apples.')\n",
        "mo1.group()"
      ],
      "metadata": {
        "colab": {
          "base_uri": "https://localhost:8080/",
          "height": 36
        },
        "id": "MOqhfd_etB3a",
        "outputId": "afd95b40-9571-4f44-9476-f030c31df9ec"
      },
      "execution_count": 20,
      "outputs": [
        {
          "output_type": "execute_result",
          "data": {
            "text/plain": [
              "'Alice eats apples.'"
            ],
            "application/vnd.google.colaboratory.intrinsic+json": {
              "type": "string"
            }
          },
          "metadata": {},
          "execution_count": 20
        }
      ]
    },
    {
      "cell_type": "code",
      "source": [
        "name = re.compile(r'(Alice|Bob|Carol)\\s(eats|pets|throws)\\s(apples|cats|baseballs)\\.', re.IGNORECASE)\n",
        "\n",
        "mo1 = name.search('Carol throws baseballs.')\n",
        "mo1.group()"
      ],
      "metadata": {
        "colab": {
          "base_uri": "https://localhost:8080/",
          "height": 36
        },
        "id": "S8jbXZiZtOtk",
        "outputId": "ba693068-2c5c-43fc-b01a-3534a192b9b1"
      },
      "execution_count": 21,
      "outputs": [
        {
          "output_type": "execute_result",
          "data": {
            "text/plain": [
              "'Carol throws baseballs.'"
            ],
            "application/vnd.google.colaboratory.intrinsic+json": {
              "type": "string"
            }
          },
          "metadata": {},
          "execution_count": 21
        }
      ]
    },
    {
      "cell_type": "code",
      "source": [],
      "metadata": {
        "id": "nj78jObztSiv"
      },
      "execution_count": null,
      "outputs": []
    }
  ]
}
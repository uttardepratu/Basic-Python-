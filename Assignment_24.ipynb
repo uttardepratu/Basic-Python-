{
  "nbformat": 4,
  "nbformat_minor": 0,
  "metadata": {
    "colab": {
      "provenance": [],
      "authorship_tag": "ABX9TyNAG9iA2/lkOlR9+knax1Z7",
      "include_colab_link": true
    },
    "kernelspec": {
      "name": "python3",
      "display_name": "Python 3"
    },
    "language_info": {
      "name": "python"
    }
  },
  "cells": [
    {
      "cell_type": "markdown",
      "metadata": {
        "id": "view-in-github",
        "colab_type": "text"
      },
      "source": [
        "<a href=\"https://colab.research.google.com/github/uttardepratu/Basic-Python-/blob/main/Assignment_24.ipynb\" target=\"_parent\"><img src=\"https://colab.research.google.com/assets/colab-badge.svg\" alt=\"Open In Colab\"/></a>"
      ]
    },
    {
      "cell_type": "markdown",
      "source": [
        "1. What is the relationship between def statements and lambda expressions ?"
      ],
      "metadata": {
        "id": "3AFD-u2RMxr8"
      }
    },
    {
      "cell_type": "markdown",
      "source": [
        "Ans. Keyword def that marks the start of the function header. A function name to uniquely identify the function.\n",
        "Function naming follows the same rules of writing identifiers in Python\n",
        "\n",
        "Lambdas are one-line methods without a name or we can say anonymous Func\n",
        "They work practically the same as any other method in Python Lambdas differ from normal Python methods because they can have only one expression, can't contain any statements and their return type is a function object"
      ],
      "metadata": {
        "id": "4gAw0IGHNBPT"
      }
    },
    {
      "cell_type": "markdown",
      "source": [
        "2 Q. What is the benefit of lambda?\n",
        "\n",
        "Ans. Fewer Lines of Code\n",
        "Lambda functions are inline functions and thus execute comparatively faster Many times lambda functions make code much more readable by avoiding the logical jumps caused by function calls"
      ],
      "metadata": {
        "id": "hk1byrTTNKkB"
      }
    },
    {
      "cell_type": "markdown",
      "source": [
        "2 Q. Compare and contrast map, filter, and reduce.\n",
        "\n",
        "Ans. map applies as a transformation to an element.\n",
        "The map() function iterates through all items in the given iterable and executes the function we passed as an argument on each of them. Syntax : map(function, iterable(s))\n",
        "\n",
        "filter accumulates only elements matching a condition.\n",
        "filter() forms a new list that contains only elements that satisfy a certain condition, i.e. the function we passed returns True Syntax : filter(function, iterable(s))\n",
        "\n",
        "reduce accumulates all elements to a single value, by using immutable values\n",
        "reduce() works by calling the function we passed for the first two items in the sequence. The result returned by the function is used in another call to function alongside with the next (third in this case), element Syntax : reduce(function, sequence[, initial])"
      ],
      "metadata": {
        "id": "fAbDu1MINUsr"
      }
    },
    {
      "cell_type": "code",
      "execution_count": null,
      "metadata": {
        "colab": {
          "base_uri": "https://localhost:8080/"
        },
        "id": "iaSTCxD7MVn7",
        "outputId": "987ec8f8-b865-4118-f5ae-70c5fe6a27fb"
      },
      "outputs": [
        {
          "output_type": "stream",
          "name": "stdout",
          "text": [
            "True\n",
            "False\n",
            "False\n",
            "False\n",
            "False\n"
          ]
        }
      ],
      "source": [
        "### Map functions\n",
        "Animal = [\"Anteater\", \"Dog\", \"Elephant\", \"Giraffe\", \"Cat\"]\n",
        "map_object = map(lambda s: s[0] == \"A\", Animal)\n",
        "\n",
        "\n",
        "for i in map_object:\n",
        "    print(i)"
      ]
    },
    {
      "cell_type": "code",
      "source": [
        "### Filter function\n",
        "Animal = [\"Anteater\", \"Dog\", \"Elephant\", \"Giraffe\", \"Cat\"]\n",
        "filter_object = filter(lambda s: s[0] == \"A\", Animal)\n",
        "\n",
        "for i in filter_object:\n",
        "    print(i)"
      ],
      "metadata": {
        "colab": {
          "base_uri": "https://localhost:8080/"
        },
        "id": "t73RestHNdjH",
        "outputId": "cfd3b470-88b4-45bd-8356-9ff1482b8831"
      },
      "execution_count": null,
      "outputs": [
        {
          "output_type": "stream",
          "name": "stdout",
          "text": [
            "Anteater\n"
          ]
        }
      ]
    },
    {
      "cell_type": "code",
      "source": [
        "### Reduce function\n",
        "from functools import reduce\n",
        "\n",
        "list = [4, 3, 8, 3]\n",
        "print(reduce(lambda x, y: x + y, list))\n",
        "print(\"With an initial value: \" + str(reduce(lambda x, y: x + y, list, 10)))"
      ],
      "metadata": {
        "colab": {
          "base_uri": "https://localhost:8080/"
        },
        "id": "TVtgMLn3NuAK",
        "outputId": "6fbc7ac6-9227-45ab-e711-00d4dc408100"
      },
      "execution_count": null,
      "outputs": [
        {
          "output_type": "stream",
          "name": "stdout",
          "text": [
            "18\n",
            "With an initial value: 28\n"
          ]
        }
      ]
    },
    {
      "cell_type": "markdown",
      "source": [
        "4 Q. What are function annotations, and how are they used?\n",
        "\n",
        "Ans. Function annotation is the standard way to access the metadata with the arguments and the return value of the function.\n",
        "These are nothing but some random and optional Python expressions that get allied to different parts of the function. They get evaluated only during the compile-time and have no significance during the run-time of the code. They do not have any significance or meaning associated with them until accessed by some third-party libraries. They are used to type check the functions by declaring the type of the parameters and the return value for the functions. The string-based annotations help us to improve the help messages.\n",
        "\n",
        "Syntax :\n",
        "\n",
        "def func(a: 'int') -> 'int':\n",
        "pass\n",
        "Annotations for simple parameters:\n",
        "\n",
        "def func(x: 'float'=10.8, y: 'argument2'):\n",
        "In the above code the argument, ‘x’ of the function func, has been annotated to float data type and the argument ‘y’ has a string-based annotation. The argument can also be assigned to a default value using a ‘=’ symbol followed by the default value. These default values are optional to the code.\n",
        "Annotations for return values:\n",
        "\n",
        "def func(a: expression) -> 'int':\n",
        "The annotations for the return value is written after the ‘->’ symbol."
      ],
      "metadata": {
        "id": "d2j9qSDKOCaz"
      }
    },
    {
      "cell_type": "code",
      "source": [
        "def fib(n:'float', b:'int')-> 'result':\n",
        "    pass\n",
        "print(fib.__annotations__)\n"
      ],
      "metadata": {
        "colab": {
          "base_uri": "https://localhost:8080/"
        },
        "id": "hHkL3B6HNy0p",
        "outputId": "acead1bb-4a7b-4830-d4c2-b2009e6f7ceb"
      },
      "execution_count": null,
      "outputs": [
        {
          "output_type": "stream",
          "name": "stdout",
          "text": [
            "{'n': 'float', 'b': 'int', 'return': 'result'}\n"
          ]
        }
      ]
    },
    {
      "cell_type": "markdown",
      "source": [
        "5 Q. What are recursive functions, and how are they used?\n",
        "\n",
        "Ans. A recursive function is a function that calls itself during its execution.\n",
        "This means that the function will continue to call itself and repeat its behavior until some condition is met to return a result"
      ],
      "metadata": {
        "id": "SWAo6zqmOQYA"
      }
    },
    {
      "cell_type": "code",
      "source": [
        "# eg\n",
        "def fact(x):\n",
        "    if x == 1 :\n",
        "        return 1\n",
        "    else :\n",
        "        return x * fact(x-1) # recurtion\n",
        "\n",
        "fact(3)"
      ],
      "metadata": {
        "colab": {
          "base_uri": "https://localhost:8080/"
        },
        "id": "cxayipeWOL4S",
        "outputId": "d31ce609-44ec-4f0c-810c-f0541e74937f"
      },
      "execution_count": null,
      "outputs": [
        {
          "output_type": "execute_result",
          "data": {
            "text/plain": [
              "6"
            ]
          },
          "metadata": {},
          "execution_count": 5
        }
      ]
    },
    {
      "cell_type": "markdown",
      "source": [
        "6 Q. What are some general design guidelines for coding functions?\n",
        "\n",
        "Ans.\n",
        "\n",
        "1.Use 4-space indentation and no tabs.\n",
        "\n",
        "2.Use docstrings\n",
        "\n",
        "3.Wrap linethat they don’t exceed 79 characters\n",
        "\n",
        "4.Use of regular and updated comments are valuable to both the coders and users\n",
        "\n",
        "5.Use of trailing commas : in case of tuple -> ('good',)\n",
        "\n",
        "6.Use Python’s default UTF-8 or ASCII encodings and not any fancy encodings\n",
        "\n",
        "7.Naming Conventions\n",
        "\n",
        "8.Characters that should not be used for identifiers : ‘l’ (lowercase letter el), ‘O’ (uppercase letter oh), ‘I’ (uppercase letter eye) as single character variable names as these are similar to the numerals one and zero. 9. Don’t use non-ASCII characters in identifiers 10. Name your classes and functions consistently 11. While naming of function of methods always use self for the first argument."
      ],
      "metadata": {
        "id": "vzHTDAczOh9U"
      }
    },
    {
      "cell_type": "markdown",
      "source": [
        "7 Q. Name three or more ways that functions can communicate results to a caller.\n",
        "\n",
        "Ans.\n",
        "\n",
        "Function can return single value\n",
        "\n",
        "Can return multiple values, tuple\n",
        "\n",
        "can return list,dictionary\n",
        "\n",
        "can return function object\n",
        "\n",
        "can return class object"
      ],
      "metadata": {
        "id": "zMa0DHisPNhB"
      }
    },
    {
      "cell_type": "code",
      "source": [],
      "metadata": {
        "id": "AZEOpQGOOV_K"
      },
      "execution_count": null,
      "outputs": []
    }
  ]
}